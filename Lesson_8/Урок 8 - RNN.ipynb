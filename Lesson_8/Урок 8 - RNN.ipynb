{
 "cells": [
  {
   "cell_type": "markdown",
   "id": "aec12330",
   "metadata": {},
   "source": [
    "<h2>Урок 8 - RNN<h2/>"
   ]
  },
  {
   "cell_type": "code",
   "execution_count": 1,
   "id": "2736fa27",
   "metadata": {},
   "outputs": [],
   "source": [
    "import numpy as np\n",
    "import pandas as pd\n",
    "\n",
    "import tensorflow as tf\n",
    "from tensorflow import keras\n",
    "from tensorflow.keras import layers\n",
    "AUTOTUNE = tf.data.experimental.AUTOTUNE"
   ]
  },
  {
   "cell_type": "code",
   "execution_count": 2,
   "id": "40216b0c",
   "metadata": {},
   "outputs": [],
   "source": [
    "import tensorflow_datasets as tfds\n",
    "tf.config.experimental.set_visible_devices([], 'GPU')\n",
    "tfds.disable_progress_bar()"
   ]
  },
  {
   "cell_type": "code",
   "execution_count": 3,
   "id": "171af6ec",
   "metadata": {},
   "outputs": [
    {
     "data": {
      "text/plain": [
       "<module 'tensorflow_datasets.question_answering.ai2_arc' from 'C:\\\\Users\\\\Arhio\\\\anaconda3\\\\lib\\\\site-packages\\\\tensorflow_datasets\\\\question_answering\\\\ai2_arc.py'>"
      ]
     },
     "execution_count": 3,
     "metadata": {},
     "output_type": "execute_result"
    }
   ],
   "source": [
    "tfds.question_answering.ai2_arc"
   ]
  },
  {
   "cell_type": "code",
   "execution_count": 4,
   "id": "f3d38ab2",
   "metadata": {},
   "outputs": [],
   "source": [
    "from keras.preprocessing import sequence\n",
    "from keras.models import Sequential\n",
    "from keras.layers import Dense, Embedding\n",
    "from keras.layers import LSTM\n",
    "from keras.datasets import imdb"
   ]
  },
  {
   "cell_type": "code",
   "execution_count": 5,
   "id": "bdf629f5",
   "metadata": {},
   "outputs": [],
   "source": [
    "from tensorflow.keras.callbacks import EarlyStopping, TensorBoard\n",
    "from tensorflow.keras.layers import concatenate, Input, Dense, Dropout, BatchNormalization, Flatten, Conv1D, Conv2D, LSTM"
   ]
  },
  {
   "cell_type": "code",
   "execution_count": 6,
   "id": "0ab6bcb5",
   "metadata": {},
   "outputs": [],
   "source": [
    "%load_ext tensorboard"
   ]
  },
  {
   "cell_type": "code",
   "execution_count": 7,
   "id": "c1ee5a6c",
   "metadata": {},
   "outputs": [],
   "source": [
    "dataset, metadata = tfds.load('civil_comments',\n",
    "                              with_info=True, as_supervised=True)"
   ]
  },
  {
   "cell_type": "code",
   "execution_count": 8,
   "id": "7065569e",
   "metadata": {
    "scrolled": true
   },
   "outputs": [
    {
     "data": {
      "text/plain": [
       "tfds.core.DatasetInfo(\n",
       "    name='civil_comments',\n",
       "    full_name='civil_comments/CivilComments/1.1.2',\n",
       "    description=\"\"\"\n",
       "    This version of the CivilComments Dataset provides access to the primary\n",
       "    seven labels that were annotated by crowd workers, the toxicity and other\n",
       "    tags are a value between 0 and 1 indicating the fraction of annotators that\n",
       "    assigned these attributes to the comment text.\n",
       "    \n",
       "    The other tags are only available for a fraction of the input examples. They\n",
       "    are currently ignored for the main dataset; the CivilCommentsIdentities set\n",
       "    includes those labels, but only consists of the subset of the data with them.\n",
       "    The other attributes that were part of the original CivilComments release are\n",
       "    included only in the raw data. See the Kaggle documentation for more details\n",
       "    about the available features.\n",
       "    \n",
       "    The comments in this dataset come from an archive of the Civil Comments\n",
       "    platform, a commenting plugin for independent news sites. These public comments\n",
       "    were created from 2015 - 2017 and appeared on approximately 50 English-language\n",
       "    news sites across the world. When Civil Comments shut down in 2017, they chose\n",
       "    to make the public comments available in a lasting open archive to enable future\n",
       "    research. The original data, published on figshare, includes the public comment\n",
       "    text, some associated metadata such as article IDs, timestamps and\n",
       "    commenter-generated \"civility\" labels, but does not include user ids. Jigsaw\n",
       "    extended this dataset by adding additional labels for toxicity, identity\n",
       "    mentions, as well as covert offensiveness. This data set is an exact replica of\n",
       "    the data released for the Jigsaw Unintended Bias in Toxicity Classification\n",
       "    Kaggle challenge. This dataset is released under CC0, as is the underlying\n",
       "    comment text.\n",
       "    \"\"\",\n",
       "    config_description=\"\"\"\n",
       "    \n",
       "    \n",
       "    The CivilComments set here includes all the data, but only the basic seven\n",
       "    labels (toxicity, severe_toxicity, obscene, threat, insult, identity_attack, and\n",
       "    sexual_explicit).\n",
       "    \n",
       "    \"\"\",\n",
       "    homepage='https://www.kaggle.com/c/jigsaw-unintended-bias-in-toxicity-classification/data',\n",
       "    data_path='C:\\\\Users\\\\Arhio\\\\tensorflow_datasets\\\\civil_comments\\\\CivilComments\\\\1.1.2',\n",
       "    download_size=397.83 MiB,\n",
       "    dataset_size=959.64 MiB,\n",
       "    features=FeaturesDict({\n",
       "        'id': tf.float32,\n",
       "        'identity_attack': tf.float32,\n",
       "        'insult': tf.float32,\n",
       "        'obscene': tf.float32,\n",
       "        'severe_toxicity': tf.float32,\n",
       "        'sexual_explicit': tf.float32,\n",
       "        'text': Text(shape=(), dtype=tf.string),\n",
       "        'threat': tf.float32,\n",
       "        'toxicity': tf.float32,\n",
       "    }),\n",
       "    supervised_keys=('text', 'toxicity'),\n",
       "    disable_shuffling=False,\n",
       "    splits={\n",
       "        'test': <SplitInfo num_examples=97320, num_shards=1>,\n",
       "        'train': <SplitInfo num_examples=1804874, num_shards=8>,\n",
       "        'validation': <SplitInfo num_examples=97320, num_shards=1>,\n",
       "    },\n",
       "    citation=\"\"\"@article{DBLP:journals/corr/abs-1903-04561,\n",
       "      author    = {Daniel Borkan and\n",
       "                   Lucas Dixon and\n",
       "                   Jeffrey Sorensen and\n",
       "                   Nithum Thain and\n",
       "                   Lucy Vasserman},\n",
       "      title     = {Nuanced Metrics for Measuring Unintended Bias with Real Data for Text\n",
       "                   Classification},\n",
       "      journal   = {CoRR},\n",
       "      volume    = {abs/1903.04561},\n",
       "      year      = {2019},\n",
       "      url       = {http://arxiv.org/abs/1903.04561},\n",
       "      archivePrefix = {arXiv},\n",
       "      eprint    = {1903.04561},\n",
       "      timestamp = {Sun, 31 Mar 2019 19:01:24 +0200},\n",
       "      biburl    = {https://dblp.org/rec/bib/journals/corr/abs-1903-04561},\n",
       "      bibsource = {dblp computer science bibliography, https://dblp.org}\n",
       "    }\"\"\",\n",
       ")"
      ]
     },
     "execution_count": 8,
     "metadata": {},
     "output_type": "execute_result"
    }
   ],
   "source": [
    "metadata"
   ]
  },
  {
   "cell_type": "code",
   "execution_count": 9,
   "id": "d3dd5f8a",
   "metadata": {},
   "outputs": [],
   "source": [
    "BUFFER_SIZE = 1024\n",
    "BATCH_SIZE = 32"
   ]
  },
  {
   "cell_type": "code",
   "execution_count": 10,
   "id": "f3203a00",
   "metadata": {},
   "outputs": [],
   "source": [
    "train = dataset['train']\n",
    "test = dataset['test']\n",
    "validation = dataset['validation']"
   ]
  },
  {
   "cell_type": "code",
   "execution_count": 11,
   "id": "a8fab933",
   "metadata": {},
   "outputs": [
    {
     "name": "stderr",
     "output_type": "stream",
     "text": [
      "[nltk_data] Error loading stopwords: <urlopen error [Errno 11001]\n",
      "[nltk_data]     getaddrinfo failed>\n"
     ]
    },
    {
     "data": {
      "text/plain": [
       "False"
      ]
     },
     "execution_count": 11,
     "metadata": {},
     "output_type": "execute_result"
    }
   ],
   "source": [
    "import re\n",
    "import nltk\n",
    "from nltk.corpus import stopwords\n",
    "\n",
    "nltk.download('stopwords')"
   ]
  },
  {
   "cell_type": "code",
   "execution_count": 12,
   "id": "3702cdfb",
   "metadata": {},
   "outputs": [],
   "source": [
    "stop_words = set(stopwords.words('english'))"
   ]
  },
  {
   "cell_type": "code",
   "execution_count": 13,
   "id": "2ffc1a97",
   "metadata": {},
   "outputs": [],
   "source": [
    "def preprocess_image_train(text, toxicity):\n",
    "    lowercase = tf.strings.lower(text)\n",
    "    text = tf.strings.regex_replace(lowercase, \"<br />\", \" \")\n",
    "    text = tf.strings.regex_replace(text,r'\\d+(?:\\.\\d*)?(?:[eE][+-]?\\d+)?', ' ')\n",
    "    text = tf.strings.regex_replace(text, r'@([A-Za-z0-9_]+)', ' ' )\n",
    "    for i in stop_words:\n",
    "        text = tf.strings.regex_replace(text, f' {i} ', \" \")\n",
    "    \n",
    "    return text, toxicity"
   ]
  },
  {
   "cell_type": "code",
   "execution_count": 14,
   "id": "7d42a135",
   "metadata": {},
   "outputs": [],
   "source": [
    "train = train.map(\n",
    "    preprocess_image_train, num_parallel_calls=AUTOTUNE).cache().shuffle(\n",
    "    BUFFER_SIZE).batch(BATCH_SIZE)\n",
    "\n",
    "test = test.map(\n",
    "    preprocess_image_train, num_parallel_calls=AUTOTUNE).cache().shuffle(\n",
    "    BUFFER_SIZE).batch(BATCH_SIZE)\n",
    "\n",
    "validation = validation.map(\n",
    "    preprocess_image_train, num_parallel_calls=AUTOTUNE).cache().shuffle(\n",
    "    BUFFER_SIZE).batch(BATCH_SIZE)"
   ]
  },
  {
   "cell_type": "code",
   "execution_count": 15,
   "id": "fde7dfed",
   "metadata": {},
   "outputs": [],
   "source": [
    "sample_train = next(iter(train))\n",
    "sample_test = next(iter(test))"
   ]
  },
  {
   "cell_type": "code",
   "execution_count": 16,
   "id": "25175a54",
   "metadata": {},
   "outputs": [
    {
     "data": {
      "text/plain": [
       "(<tf.Tensor: shape=(32,), dtype=string, numpy=\n",
       " array([b'he lived house makes  % liable! father win.',\n",
       "        b'why bother democracy middle east.\\n\\nbeen there, tried iraq.\\n\\nnot muslim gene make up.  like theocracy tyrants.',\n",
       "        b'this way anyone live. living like glad longer deal world.\\n\\nthe world likes youth, good looks, good health, money fame. farther away away five things, less world wants bother you. \\n\\nto sleep, perchance dream. think pass away, better alive world.\\n\\n\"for three last five years, government determined cost living increase needed protect social security recipients. now, learn projected increase   average $  per month \\xe2\\x80\\x94 enough purchase gallon milk!\"\\n\\n\"in lane county, due budget cuts, applications assistance filed   processed!\"\\n\\nsix year wait applications processed. could easily dead then. treat old poor. like said, dead peace do.',\n",
       "        b'islam gives rise radicalization - nature.',\n",
       "        b'it getting funny watching msm bury fake news.',\n",
       "        b\"context, context, context!!\\n\\nas pointed many times, betty. go study texts know historical cultural attitude towards women deuteronomic punishments meted women, coupled easy way pharisees awarded divorces - signing parchment dismissal - find literal application texts is, least, questionable.\\n\\njesus attacked pharisees exactly seem advocating - mercilessly applying law. law applied jesus' mother, would stoned death front door father's house.\",\n",
       "        b'shouldn\\'t article \"trigger warning\" \"snow-flake millennials\" warn contrary left\\'s delusions, trump impeached still potus?',\n",
       "        b\"i stage ivc throat cancer fighting last year half.  keep winning battles every time pops war goes on.  point gov't (single payer) decide time stop fighting?  two health insurance policies use afford continue treatment. one military retirement employer based.\\n\\nno thank someone government deciding i've fought long enough.\",\n",
       "        b\"despite predictable noise usual suspects here, letter writer's point valid. paper could better job giving fuller account news chooses publish beyond circulation reach lean heavily space limitations print edition crutch. matters choices news organization's genuine bias revealed.\",\n",
       "        b'\"his campaign turn climate change plan: huge levy would reach $  tonne   \\xe2\\x80\\x93 balanced massive, immediate $ -billion income-tax cut.\"',\n",
       "        b\"i've built late  badly built amazing still standing.\",\n",
       "        b'bc one couple jurisdictions western world accepts donations foreign companies foreign governments.\\n\\nhuamulan developments chinese company invests construction student apartments.\\n\\nmengfa international resources inc, part  inner mongolia mengfa coal charcoal co. ltd.\\n\\nthe orient investment corp, registered bc canada - location unknown.\\n\\npacific northwest lng (petronas) state-owned energy company malaysia.\\n\\ngukan construction, owned kenny gu, real estate speculator bankrolled wealthy offshore chinese businesspeople.\\n\\n\\n burlington northern santa fe railway (based u.s.); \\n\\nkinder morgan international (based u.s.); \\n\\nthe bank china (china), \\n\\nrepublic services waste management (u.s.)\\n\\nposco construction (korea)\\n\\nwoodfibre lng (singapore) \\n\\nand hd mining (china).',\n",
       "        b'\"gambling\" apt description congress doing.  thinks keeps coming plans, sooner later, odds are, one pass.',\n",
       "        b'this good point.  thing truly conspiracy, trump let comey finish investigation.  then, conspiracy found, fire whatever poor reason comes with.  fire comey really bad timing happened supposed testify makes suspicious.',\n",
       "        b'my sister found son   years.    parents older passed away home life good.  part family.  hope son sees letter.',\n",
       "        b'well hope strong union job!',\n",
       "        b\"the forest fire nothing industrial activity. probably caused lightning.\\n\\nalthough i'm sure arson green radicals hoping destroy town conclusively ruled out, either.\",\n",
       "        b'and reports? mean, know exist, able show them, hey, fun! love asking people actual, verifiable proof adn echo chamber...',\n",
       "        b'duties come rights.\\nthey duty earn work.',\n",
       "        b\"they learning pay-to-play colleges offered free high school.  a b-.  c fail. yet kids got a's  b's readily effort determination. smarter now. simply higher threshold information  meet.\",\n",
       "        b'she gone labour day....',\n",
       "        b'reboot defense. start basics again....alignment, assignment, use different schemes.',\n",
       "        b\"um, wow, minor bylaw infraction violence? and, also, um, refer supposedly violent left immediate aftermath recent mosque homicides carried devotee alt-right websites? \\n\\nsay ain't so, joe.\",\n",
       "        b'what idiots fail realize trump employed cut pay checks black latino gay lesbian muslim transgendered people previous presidents combined.',\n",
       "        b'if hear word \"sources\" ever scream, one needs due site source print ever garbage enters mind \\nis any-wonder establishment media widely considered one lower coach-roach america, bias hatred palatable\\nit seems one crime family america powerful whole government, establishment media !!!\\n\\njustice blind --also deaf, dumb and, seems, corruptible. succumbs influence power money.\\n\\nwe already know comey told us bent pretzel trying explain crooked old cow hillary going prosecuted blatant crimes.',\n",
       "        b\"  opinion hit pieces trump none hillary.  elites terrified\\n\\ni suggest everyone cancel subscription liberal rag - did- business them. adn journalism clinton campaign mouthpiece\\n\\na new batch u.s. state department emails released tuesday showed close sometimes overlapping interests clinton foundation state department hillary clinton served secretary state.\\n\\nthe documents raised new questions whether charitable foundation worked reward donors access influence state department, charge clinton faced past always denied.\\nn one email exchange, instance, executive clinton foundation   sought put billionaire donor touch u.s. ambassador lebanon donor's interests there.\",\n",
       "        b\"it's weekend.  lucky managed get headline match story!\",\n",
       "        b'do know fact ?',\n",
       "        b'the general success orderliness demonstration really overwhelming one see various artificial responses. else highlight negatives blow comprehensive proportions?. amusing still hopelessly sick.',\n",
       "        b'first agree absolutely past two like you, based fact emotions (this love picking brain \\'talking\\' here- challenge thinking )-the third one, can\\'t say yet-so far good. first change mind though. yet.  opinion, much anti stuff led by--surprise! media, vastly includes fox news.  cnn factual. also perspectives canada uk educational well, read too.  \\n\\nhowever! think!\\n\\nthis still believe find appalling: \"who would ideal voter politicians way thinking?\"\\n(a) voter trusts believes *face value* only, educational facts way innocently trustingly vote accordingly...\\n\\ngullible\\ngullible\\ngullible\\n\\neasily led promises facts support them. done design.\\n\\nsad - very.',\n",
       "        b\"trudeau's goose hardly cooked ..... yet .... look qualities current would pretenders throne. even kid looks better them.\",\n",
       "        b'vectum...\\n\\nlol'], dtype=object)>,\n",
       " <tf.Tensor: shape=(32,), dtype=float32, numpy=\n",
       " array([0.        , 0.5       , 0.        , 0.4       , 0.16666667,\n",
       "        0.        , 0.3       , 0.        , 0.        , 0.        ,\n",
       "        0.        , 0.        , 0.        , 0.        , 0.        ,\n",
       "        0.        , 0.        , 0.        , 0.        , 0.        ,\n",
       "        0.        , 0.        , 0.16666667, 0.82894737, 0.5       ,\n",
       "        0.        , 0.        , 0.        , 0.3       , 0.        ,\n",
       "        0.        , 0.        ], dtype=float32)>)"
      ]
     },
     "execution_count": 16,
     "metadata": {},
     "output_type": "execute_result"
    }
   ],
   "source": [
    "sample_train"
   ]
  },
  {
   "cell_type": "code",
   "execution_count": 17,
   "id": "8ffb7745",
   "metadata": {},
   "outputs": [
    {
     "data": {
      "text/plain": [
       "(<tf.Tensor: shape=(32,), dtype=string, numpy=\n",
       " array([b'you simply wrong.',\n",
       "        b\"walker must recalled.   walker like sick gambler keeps betting he's sick can't help himself. walker obsessed gas line unwilling consider alaska can't afford time . he's sick keeps spending more line may never built.    another reason walker must recalled lack ethics.   last week repaid campaign debt giving french job . bad enough hired law partner become ag could sell business together---now . guy resigns walker unethical hires .  walker went japan talk gas forced state pay half wife's airfare . blew state money want away days .   ripped every alaskan half pfd check money spend gas line . must recall guy even damage alaska people.\",\n",
       "        b'the president good taking three positions every issue. people still trust despite unreliability.',\n",
       "        b'this consistent ruling november  ,  ,  supreme court canada upheld decisions bc supreme court bc court appeal dismiss claim lax kw\\'alaams first nation (and first nations) right commercial fishery north coast british columbia.\\n\\nthe court emphasized care must taken evolve aboriginal right modern right different aboriginal right.  \\n\\n court clear \"gathering right\" berries based pre-contact times would not, example, \"evolve\" right \"gather\" natural gas within traditional territory. surface gathering copper coppermine river northwest territories pre-contact times would not, think, support \"aboriginal right\" exploit deep shaft diamond mining territory.',\n",
       "        b'[do demand proof everyone think differently you?]\\ni demand well though always.  mostly cases believe common knowledge.  probably waste time reasons ask source.\\n- legal/academic standard: self explanatory.\\n- basic reasoning: anyone spout completely baseless claim.  without source one free disregard it.  refusal provide source lends one believe fabrication.  trying shift burden proof so.\\n- intellectual honesty:  recognize omniscient provide opportunity provide base claim.  \\n- simple curiosity: self explanatory.\\n- interest encouraging substantive discussion: self-explanatory.',\n",
       "        b'but suggest be..........fascism?  even voices head thought thing now!',\n",
       "        b'\"in toronto, water tested every six hours confirm absence harmful bacteria. \\n\\nno government body charge testing bottled water, classified food subject food drugs act. processing plants inspected annually canadian food inspection agency additional testing voluntary. \"\\n\\n\\nthat information alone reaching cold water tap, instead  brand water',\n",
       "        b'are saying getting tired winning?',\n",
       "        b'prepare rise homeless population !',\n",
       "        b'no one canada stupid republican united states sexual assaults droning people oil stupid company commits fraud internationally.  \\n\\noh wait.. maybe ones harper hired  many  even born raised here.',\n",
       "        b'and money tree going pay this?', b'they may tell take leap!',\n",
       "        b'this going interesting seward. support crews planning following along cyclist?',\n",
       "        b'are insulting performance, religion, both? prejudice ugly.',\n",
       "        b\"oh rochy still angry con man routine.   cares obama buffoon goes make like tell ya.  least balanced mind could consider one side might act like do.  \\n\\nconsider please answer, think rona ambrose yacht billionaire st. martin time tweeting party sending trudeau's aga khan vacation investigation.  next day asked ethics commissionaire billionaire inspired trip.  energy billionaire less.    let's see balanced rochy?\",\n",
       "        b'red, get it, posted numerous \"what plan?\" comments.  read saying. simply alerting public potentially negative provisions pf restructuring bill pointing legislature\\'s refusal restructure oil gas credits.  positive representative gara studied thought great deal budget crisis personal opinion best path forward. big surprise; going detail full position adn comments section annoying commenter keeps badgering him.',\n",
       "        b'yes, sunny ways tipped hand little prematurely - first visit obama yukking up, mocking trump second trip, feeling quite smug looking trump commenting him......  little transparent much assuming would deal trump potus.....',\n",
       "        b'o g, reaches dreaded menopause locked behind bars, tasmanian devil upon release.  keep prison.  deserved time got.  wicked, wicked, female.',\n",
       "        b'if things slanted, comment.',\n",
       "        b\"this like veterans relief fund tax property taxes. useless except county/city officials personal use. i'm  % service connected disabled vet yet make much compensation va .\\nhttp://www.clallam.net/board/assets/applets/ _veterans_assistance.pdf\",\n",
       "        b'not fast bucko...read comment. simmer down!',\n",
       "        b'black lives matter founded false premise.  \"hands shoot.\"  never happened.  baltimore burned neighborhood down, arrested took officers trial.  based false narrative.  found guilty counts.  travesty.',\n",
       "        b'security stigmatization two reasons, optics. using huge facilities like olympic stadium palais des congr\\xc3\\xa8s gave impression numbers huge government cope, saying reverse. apparently using small part facilities.\\n\\nas \"low skilled workers\" one hand, assumption lots money working us could afford taxis, etc.,isn\\'t  rather contradictory? low skilled workers us, making lot money, good jobs not,  likely living hand-to-mouth, suddenly unemployed. many middle-class americans canadians could afford lose jobs overnight travel kids another country?\\n\\nand many haitians educated: teachers, nurses, etc.\\n\\nhttp://montrealgazette.com/news/haitian-family-finds-sanctuary-in-empty-montreal-north-apartment',\n",
       "        b'to remind everyone piece work little omar\\'s sister is: \\n\\n\"where hurt it, people,\\xe2\\x80\\x9d told cbc. \\xe2\\x80\\x9cbut sometimes innocent people pay price. don\\xe2\\x80\\x99t want feel happy, sort think, well, deserve it, they\\xe2\\x80\\x99ve long time. shouldn\\xe2\\x80\\x99t feel while?\\xe2\\x80\\x9d\\n\\nyup, type people trudope wants canada?',\n",
       "        b\"that's silly comment, even standards.\",\n",
       "        b\"unmotherfreakinbelievable....i went sleep law & order america, & woke bizarro world everything totally backwards, & cops let criminals go free commit crimes, including murder, even though gov't told cops let go, come get him.  wth???????\",\n",
       "        b\"i discovered jose's via menu. great service\",\n",
       "        b'johnny, comments well rebutted above. let add, taxpayer business owner employed dozens disadvanted black coloured township youngsters, every moral authority comment, criticize, stand condemn looting, theft, incompetence, disgraceful arrogance stupidity. every voice country constitution free speak heard. argument disgraceful.',\n",
       "        b'there several conflicting legal theories case.  first jurisdiction (which court authority hear case) generally settled two trial judges hearing case must comply uniform child custody jurisdiction act.  alaska start may share texas.  icwa custody native children, pre-empts state law.  native relatives preference.  finally, presumption granting domestic violence perpetrator custody.  doubt dad ever custody visitation kids guaranteed.  settled texas, let stay - best interests deciding factor legal gamesmanship.',\n",
       "        b'why disregard common decency? civility optional  st century.',\n",
       "        b'how start business government favors large corporations? give tax payers money build projects. give tax breaks open shop cities. bail people abuse power steal loss money. anyone start business costco soon amazon selling everything z lowest possible price next door? reason many entrepreneurs large corporations make impossible, good job. would rather work work them. especially cash access fundraisers, good luck trying get head. need it.',\n",
       "        b\"fox news, hilariously, called biggest fan.\\n\\nwhen president trump repeated fox news conspiracy theory fact, libeled former president started international incident america's closest ally.  fox, course, shred evidence backpedaled fast could realized president united states accepting disinformation campaign face value.\\n\\nto fair, plenty tea party gop politicians like toy idea fox news fantasy true, politicians deal daggers rapiers, donald trump blunt instrument. grasp nuance subtlety.  prefers deliver message sledgehammer.\\n\\nthat works him, works fans, fox news can't afford congressional hearings every time float new theory.  long trump watching, fox going to learn careful word future accusations.\"],\n",
       "       dtype=object)>,\n",
       " <tf.Tensor: shape=(32,), dtype=float32, numpy=\n",
       " array([0.11111111, 0.        , 0.        , 0.        , 0.        ,\n",
       "        0.        , 0.        , 0.        , 0.        , 0.7625    ,\n",
       "        0.        , 0.        , 0.        , 0.33333334, 0.        ,\n",
       "        0.        , 0.1       , 0.45945945, 0.        , 0.        ,\n",
       "        0.        , 0.2       , 0.        , 0.        , 1.        ,\n",
       "        0.4       , 0.        , 0.6363636 , 0.        , 0.        ,\n",
       "        0.        , 0.        ], dtype=float32)>)"
      ]
     },
     "execution_count": 17,
     "metadata": {},
     "output_type": "execute_result"
    }
   ],
   "source": [
    "sample_test"
   ]
  },
  {
   "cell_type": "code",
   "execution_count": 18,
   "id": "cdc5183a",
   "metadata": {},
   "outputs": [],
   "source": [
    "VOCAB_SIZE = 1000\n",
    "encoder = tf.keras.layers.experimental.preprocessing.TextVectorization(\n",
    "    max_tokens=VOCAB_SIZE)\n",
    "encoder.adapt(train.map(lambda text, label: text))\n"
   ]
  },
  {
   "cell_type": "code",
   "execution_count": 19,
   "id": "e12c46e1",
   "metadata": {},
   "outputs": [
    {
     "data": {
      "text/plain": [
       "array(['', '[UNK]', 'would', 'people', 'one', 'like', 'the', 'i', 'trump',\n",
       "       'it', 'get', 'us', 'time', 'think', 'many', 'you', 'know', 'good',\n",
       "       'even', 'right'], dtype='<U14')"
      ]
     },
     "execution_count": 19,
     "metadata": {},
     "output_type": "execute_result"
    }
   ],
   "source": [
    "vocab = np.array(encoder.get_vocabulary())\n",
    "vocab[:20]"
   ]
  },
  {
   "cell_type": "code",
   "execution_count": 29,
   "id": "de77fe64",
   "metadata": {},
   "outputs": [],
   "source": [
    "model = tf.keras.Sequential([\n",
    "    encoder,\n",
    "    tf.keras.layers.Embedding(\n",
    "        input_dim=len(encoder.get_vocabulary()),\n",
    "        output_dim=64,\n",
    "        # Use masking to handle the variable sequence lengths\n",
    "        mask_zero=True),\n",
    "    tf.keras.layers.Bidirectional(tf.keras.layers.LSTM(64)),\n",
    "    #tf.keras.layers.Bidirectional(tf.keras.layers.LSTM(32)),\n",
    "    tf.keras.layers.Dense(64, activation='relu'),\n",
    "    tf.keras.layers.Dense(32, activation='relu'),\n",
    "    tf.keras.layers.Dropout(0.5),\n",
    "    tf.keras.layers.Dense(1, activation='sigmoid')\n",
    "])"
   ]
  },
  {
   "cell_type": "code",
   "execution_count": 30,
   "id": "82ffa9d4",
   "metadata": {},
   "outputs": [],
   "source": [
    "model.compile(loss=tf.keras.losses.BinaryCrossentropy(from_logits=True),\n",
    "              optimizer=tf.keras.optimizers.Adam(1e-4),\n",
    "              metrics=['mae'])"
   ]
  },
  {
   "cell_type": "code",
   "execution_count": 32,
   "id": "00b8c9c6",
   "metadata": {},
   "outputs": [
    {
     "name": "stdout",
     "output_type": "stream",
     "text": [
      "56403/56403 [==============================] - 2680s 47ms/step - loss: 0.3082 - mae: 0.1268 - val_loss: 0.3088 - val_mae: 0.1228\n"
     ]
    }
   ],
   "source": [
    "history = model.fit(train, epochs=1,\n",
    "                    validation_data=validation,\n",
    "                    validation_steps=30)"
   ]
  },
  {
   "cell_type": "code",
   "execution_count": 33,
   "id": "efe17554",
   "metadata": {},
   "outputs": [
    {
     "name": "stdout",
     "output_type": "stream",
     "text": [
      "Model: \"sequential_2\"\n",
      "_________________________________________________________________\n",
      "Layer (type)                 Output Shape              Param #   \n",
      "=================================================================\n",
      "text_vectorization (TextVect (None, None)              0         \n",
      "_________________________________________________________________\n",
      "embedding_2 (Embedding)      (None, None, 64)          64000     \n",
      "_________________________________________________________________\n",
      "bidirectional_3 (Bidirection (None, 128)               66048     \n",
      "_________________________________________________________________\n",
      "dense_4 (Dense)              (None, 64)                8256      \n",
      "_________________________________________________________________\n",
      "dense_5 (Dense)              (None, 32)                2080      \n",
      "_________________________________________________________________\n",
      "dropout_2 (Dropout)          (None, 32)                0         \n",
      "_________________________________________________________________\n",
      "dense_6 (Dense)              (None, 1)                 33        \n",
      "=================================================================\n",
      "Total params: 140,417\n",
      "Trainable params: 140,417\n",
      "Non-trainable params: 0\n",
      "_________________________________________________________________\n"
     ]
    }
   ],
   "source": [
    "model.summary()"
   ]
  },
  {
   "cell_type": "code",
   "execution_count": 72,
   "id": "72541903",
   "metadata": {},
   "outputs": [
    {
     "name": "stdout",
     "output_type": "stream",
     "text": [
      "3042/3042 [==============================] - 49s 16ms/step - loss: 0.2960 - mae: 0.1188\n",
      "Test Loss: 0.29595786333084106\n",
      "Test MAE: 0.11881496012210846\n"
     ]
    }
   ],
   "source": [
    "test_loss, test_acc = model.evaluate(test)\n",
    "\n",
    "print('Test Loss:', test_loss)\n",
    "print('Test MAE:', test_acc)"
   ]
  },
  {
   "cell_type": "code",
   "execution_count": 36,
   "id": "451cfe26",
   "metadata": {},
   "outputs": [],
   "source": [
    "pred = model.predict(test)"
   ]
  },
  {
   "cell_type": "code",
   "execution_count": 51,
   "id": "6add6501",
   "metadata": {},
   "outputs": [
    {
     "data": {
      "text/plain": [
       "97320"
      ]
     },
     "execution_count": 51,
     "metadata": {},
     "output_type": "execute_result"
    }
   ],
   "source": [
    "t = test.map(lambda t, l: l).as_numpy_iterator()\n",
    "flat_list = [item for sublist in t for item in sublist]\n",
    "len(flat_list)"
   ]
  },
  {
   "cell_type": "code",
   "execution_count": 84,
   "id": "456a237c",
   "metadata": {},
   "outputs": [
    {
     "name": "stdout",
     "output_type": "stream",
     "text": [
      "Точность 0.8880650090984845\n"
     ]
    }
   ],
   "source": [
    "acc = [1 - abs(e - flat_list[p])  for p, e in enumerate(list(list([e if e > 0.31 else 0 for e in pred[:, 0] ])))]\n",
    "print(f'Точность модели {sum(acc) / len(acc)}')"
   ]
  },
  {
   "cell_type": "markdown",
   "id": "37ef5cbc",
   "metadata": {},
   "source": [
    "Вывод: При простой модели возможно довести до 89 % точности классификации токсичных комментарий пользователя."
   ]
  },
  {
   "cell_type": "code",
   "execution_count": null,
   "id": "dc5775ac",
   "metadata": {},
   "outputs": [],
   "source": []
  }
 ],
 "metadata": {
  "kernelspec": {
   "display_name": "Python 3",
   "language": "python",
   "name": "python3"
  },
  "language_info": {
   "codemirror_mode": {
    "name": "ipython",
    "version": 3
   },
   "file_extension": ".py",
   "mimetype": "text/x-python",
   "name": "python",
   "nbconvert_exporter": "python",
   "pygments_lexer": "ipython3",
   "version": "3.8.8"
  }
 },
 "nbformat": 4,
 "nbformat_minor": 5
}

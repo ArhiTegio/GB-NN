{
 "cells": [
  {
   "cell_type": "markdown",
   "id": "4bb12d47",
   "metadata": {},
   "source": [
    "<h2>Урок 8 - Сегментация<h2/>"
   ]
  },
  {
   "cell_type": "markdown",
   "id": "f3b2c243",
   "metadata": {},
   "source": [
    "<h3>Brain MRI segmentation<h3/>"
   ]
  },
  {
   "cell_type": "markdown",
   "id": "e02e433c",
   "metadata": {},
   "source": [
    "https://www.kaggle.com/mateuszbuda/lgg-mri-segmentation"
   ]
  },
  {
   "cell_type": "code",
   "execution_count": 1,
   "id": "94014951",
   "metadata": {},
   "outputs": [],
   "source": [
    "from tensorflow.keras.models import Model\n",
    "from tensorflow.keras.datasets import mnist\n",
    "from tensorflow.keras.layers import Input, Conv2DTranspose, concatenate, Activation, MaxPooling2D, Conv2D, BatchNormalization\n",
    "from tensorflow.keras import backend as K\n",
    "from tensorflow.keras.optimizers import Adam\n",
    "from tensorflow.keras import utils\n",
    "import matplotlib.pyplot as plt\n",
    "from tensorflow.keras.preprocessing import image\n",
    "from tensorflow.keras.applications import VGG16\n",
    "import numpy as np\n",
    "from PIL import Image\n",
    "import tensorflow as tf\n",
    "\n",
    "\n",
    "# Это наша метрика на Tensorflow\n",
    "\n",
    "def dice_coef(y_true, y_pred):\n",
    "    return (2. * K.sum(y_true * y_pred) + 1.) / (K.sum(y_true) + K.sum(y_pred) + 1.)"
   ]
  },
  {
   "cell_type": "code",
   "execution_count": 2,
   "id": "f9b897eb",
   "metadata": {},
   "outputs": [],
   "source": [
    "import cv2\n",
    "import pandas as pd"
   ]
  },
  {
   "cell_type": "code",
   "execution_count": 3,
   "id": "0d0184cb",
   "metadata": {},
   "outputs": [
    {
     "data": {
      "text/html": [
       "<div>\n",
       "<style scoped>\n",
       "    .dataframe tbody tr th:only-of-type {\n",
       "        vertical-align: middle;\n",
       "    }\n",
       "\n",
       "    .dataframe tbody tr th {\n",
       "        vertical-align: top;\n",
       "    }\n",
       "\n",
       "    .dataframe thead th {\n",
       "        text-align: right;\n",
       "    }\n",
       "</style>\n",
       "<table border=\"1\" class=\"dataframe\">\n",
       "  <thead>\n",
       "    <tr style=\"text-align: right;\">\n",
       "      <th></th>\n",
       "      <th>Patient</th>\n",
       "      <th>RNASeqCluster</th>\n",
       "      <th>MethylationCluster</th>\n",
       "      <th>miRNACluster</th>\n",
       "      <th>CNCluster</th>\n",
       "      <th>RPPACluster</th>\n",
       "      <th>OncosignCluster</th>\n",
       "      <th>COCCluster</th>\n",
       "      <th>histological_type</th>\n",
       "      <th>neoplasm_histologic_grade</th>\n",
       "      <th>tumor_tissue_site</th>\n",
       "      <th>laterality</th>\n",
       "      <th>tumor_location</th>\n",
       "      <th>gender</th>\n",
       "      <th>age_at_initial_pathologic</th>\n",
       "      <th>race</th>\n",
       "      <th>ethnicity</th>\n",
       "      <th>death01</th>\n",
       "    </tr>\n",
       "  </thead>\n",
       "  <tbody>\n",
       "    <tr>\n",
       "      <th>0</th>\n",
       "      <td>TCGA_CS_4941</td>\n",
       "      <td>2.0</td>\n",
       "      <td>4.0</td>\n",
       "      <td>2</td>\n",
       "      <td>2.0</td>\n",
       "      <td>NaN</td>\n",
       "      <td>3.0</td>\n",
       "      <td>2</td>\n",
       "      <td>1.0</td>\n",
       "      <td>2.0</td>\n",
       "      <td>1.0</td>\n",
       "      <td>3.0</td>\n",
       "      <td>2.0</td>\n",
       "      <td>2.0</td>\n",
       "      <td>67.0</td>\n",
       "      <td>3.0</td>\n",
       "      <td>2.0</td>\n",
       "      <td>1.0</td>\n",
       "    </tr>\n",
       "    <tr>\n",
       "      <th>1</th>\n",
       "      <td>TCGA_CS_4942</td>\n",
       "      <td>1.0</td>\n",
       "      <td>5.0</td>\n",
       "      <td>2</td>\n",
       "      <td>1.0</td>\n",
       "      <td>1.0</td>\n",
       "      <td>2.0</td>\n",
       "      <td>1</td>\n",
       "      <td>1.0</td>\n",
       "      <td>2.0</td>\n",
       "      <td>1.0</td>\n",
       "      <td>3.0</td>\n",
       "      <td>2.0</td>\n",
       "      <td>1.0</td>\n",
       "      <td>44.0</td>\n",
       "      <td>2.0</td>\n",
       "      <td>NaN</td>\n",
       "      <td>1.0</td>\n",
       "    </tr>\n",
       "    <tr>\n",
       "      <th>2</th>\n",
       "      <td>TCGA_CS_4943</td>\n",
       "      <td>1.0</td>\n",
       "      <td>5.0</td>\n",
       "      <td>2</td>\n",
       "      <td>1.0</td>\n",
       "      <td>2.0</td>\n",
       "      <td>2.0</td>\n",
       "      <td>1</td>\n",
       "      <td>1.0</td>\n",
       "      <td>2.0</td>\n",
       "      <td>1.0</td>\n",
       "      <td>1.0</td>\n",
       "      <td>2.0</td>\n",
       "      <td>2.0</td>\n",
       "      <td>37.0</td>\n",
       "      <td>3.0</td>\n",
       "      <td>NaN</td>\n",
       "      <td>0.0</td>\n",
       "    </tr>\n",
       "    <tr>\n",
       "      <th>3</th>\n",
       "      <td>TCGA_CS_4944</td>\n",
       "      <td>NaN</td>\n",
       "      <td>5.0</td>\n",
       "      <td>2</td>\n",
       "      <td>1.0</td>\n",
       "      <td>2.0</td>\n",
       "      <td>1.0</td>\n",
       "      <td>1</td>\n",
       "      <td>1.0</td>\n",
       "      <td>1.0</td>\n",
       "      <td>1.0</td>\n",
       "      <td>3.0</td>\n",
       "      <td>6.0</td>\n",
       "      <td>2.0</td>\n",
       "      <td>50.0</td>\n",
       "      <td>3.0</td>\n",
       "      <td>NaN</td>\n",
       "      <td>0.0</td>\n",
       "    </tr>\n",
       "    <tr>\n",
       "      <th>4</th>\n",
       "      <td>TCGA_CS_5393</td>\n",
       "      <td>4.0</td>\n",
       "      <td>5.0</td>\n",
       "      <td>2</td>\n",
       "      <td>1.0</td>\n",
       "      <td>2.0</td>\n",
       "      <td>3.0</td>\n",
       "      <td>1</td>\n",
       "      <td>1.0</td>\n",
       "      <td>2.0</td>\n",
       "      <td>1.0</td>\n",
       "      <td>1.0</td>\n",
       "      <td>6.0</td>\n",
       "      <td>2.0</td>\n",
       "      <td>39.0</td>\n",
       "      <td>3.0</td>\n",
       "      <td>NaN</td>\n",
       "      <td>0.0</td>\n",
       "    </tr>\n",
       "    <tr>\n",
       "      <th>...</th>\n",
       "      <td>...</td>\n",
       "      <td>...</td>\n",
       "      <td>...</td>\n",
       "      <td>...</td>\n",
       "      <td>...</td>\n",
       "      <td>...</td>\n",
       "      <td>...</td>\n",
       "      <td>...</td>\n",
       "      <td>...</td>\n",
       "      <td>...</td>\n",
       "      <td>...</td>\n",
       "      <td>...</td>\n",
       "      <td>...</td>\n",
       "      <td>...</td>\n",
       "      <td>...</td>\n",
       "      <td>...</td>\n",
       "      <td>...</td>\n",
       "      <td>...</td>\n",
       "    </tr>\n",
       "    <tr>\n",
       "      <th>105</th>\n",
       "      <td>TCGA_HT_8563</td>\n",
       "      <td>2.0</td>\n",
       "      <td>5.0</td>\n",
       "      <td>3</td>\n",
       "      <td>1.0</td>\n",
       "      <td>NaN</td>\n",
       "      <td>2.0</td>\n",
       "      <td>2</td>\n",
       "      <td>1.0</td>\n",
       "      <td>2.0</td>\n",
       "      <td>1.0</td>\n",
       "      <td>3.0</td>\n",
       "      <td>2.0</td>\n",
       "      <td>1.0</td>\n",
       "      <td>30.0</td>\n",
       "      <td>3.0</td>\n",
       "      <td>2.0</td>\n",
       "      <td>0.0</td>\n",
       "    </tr>\n",
       "    <tr>\n",
       "      <th>106</th>\n",
       "      <td>TCGA_HT_A5RC</td>\n",
       "      <td>2.0</td>\n",
       "      <td>4.0</td>\n",
       "      <td>2</td>\n",
       "      <td>2.0</td>\n",
       "      <td>NaN</td>\n",
       "      <td>3.0</td>\n",
       "      <td>2</td>\n",
       "      <td>1.0</td>\n",
       "      <td>2.0</td>\n",
       "      <td>1.0</td>\n",
       "      <td>1.0</td>\n",
       "      <td>2.0</td>\n",
       "      <td>1.0</td>\n",
       "      <td>70.0</td>\n",
       "      <td>3.0</td>\n",
       "      <td>2.0</td>\n",
       "      <td>1.0</td>\n",
       "    </tr>\n",
       "    <tr>\n",
       "      <th>107</th>\n",
       "      <td>TCGA_HT_A616</td>\n",
       "      <td>NaN</td>\n",
       "      <td>5.0</td>\n",
       "      <td>2</td>\n",
       "      <td>1.0</td>\n",
       "      <td>NaN</td>\n",
       "      <td>2.0</td>\n",
       "      <td>1</td>\n",
       "      <td>1.0</td>\n",
       "      <td>1.0</td>\n",
       "      <td>1.0</td>\n",
       "      <td>1.0</td>\n",
       "      <td>2.0</td>\n",
       "      <td>1.0</td>\n",
       "      <td>36.0</td>\n",
       "      <td>3.0</td>\n",
       "      <td>2.0</td>\n",
       "      <td>0.0</td>\n",
       "    </tr>\n",
       "    <tr>\n",
       "      <th>108</th>\n",
       "      <td>TCGA_HT_A61A</td>\n",
       "      <td>NaN</td>\n",
       "      <td>5.0</td>\n",
       "      <td>2</td>\n",
       "      <td>NaN</td>\n",
       "      <td>NaN</td>\n",
       "      <td>NaN</td>\n",
       "      <td>1</td>\n",
       "      <td>3.0</td>\n",
       "      <td>1.0</td>\n",
       "      <td>1.0</td>\n",
       "      <td>1.0</td>\n",
       "      <td>6.0</td>\n",
       "      <td>1.0</td>\n",
       "      <td>20.0</td>\n",
       "      <td>3.0</td>\n",
       "      <td>2.0</td>\n",
       "      <td>0.0</td>\n",
       "    </tr>\n",
       "    <tr>\n",
       "      <th>109</th>\n",
       "      <td>TCGA_HT_A61B</td>\n",
       "      <td>NaN</td>\n",
       "      <td>5.0</td>\n",
       "      <td>2</td>\n",
       "      <td>1.0</td>\n",
       "      <td>NaN</td>\n",
       "      <td>2.0</td>\n",
       "      <td>1</td>\n",
       "      <td>NaN</td>\n",
       "      <td>NaN</td>\n",
       "      <td>NaN</td>\n",
       "      <td>NaN</td>\n",
       "      <td>NaN</td>\n",
       "      <td>NaN</td>\n",
       "      <td>NaN</td>\n",
       "      <td>NaN</td>\n",
       "      <td>NaN</td>\n",
       "      <td>NaN</td>\n",
       "    </tr>\n",
       "  </tbody>\n",
       "</table>\n",
       "<p>110 rows × 18 columns</p>\n",
       "</div>"
      ],
      "text/plain": [
       "          Patient  RNASeqCluster  MethylationCluster  miRNACluster  CNCluster  \\\n",
       "0    TCGA_CS_4941            2.0                 4.0             2        2.0   \n",
       "1    TCGA_CS_4942            1.0                 5.0             2        1.0   \n",
       "2    TCGA_CS_4943            1.0                 5.0             2        1.0   \n",
       "3    TCGA_CS_4944            NaN                 5.0             2        1.0   \n",
       "4    TCGA_CS_5393            4.0                 5.0             2        1.0   \n",
       "..            ...            ...                 ...           ...        ...   \n",
       "105  TCGA_HT_8563            2.0                 5.0             3        1.0   \n",
       "106  TCGA_HT_A5RC            2.0                 4.0             2        2.0   \n",
       "107  TCGA_HT_A616            NaN                 5.0             2        1.0   \n",
       "108  TCGA_HT_A61A            NaN                 5.0             2        NaN   \n",
       "109  TCGA_HT_A61B            NaN                 5.0             2        1.0   \n",
       "\n",
       "     RPPACluster  OncosignCluster  COCCluster  histological_type  \\\n",
       "0            NaN              3.0           2                1.0   \n",
       "1            1.0              2.0           1                1.0   \n",
       "2            2.0              2.0           1                1.0   \n",
       "3            2.0              1.0           1                1.0   \n",
       "4            2.0              3.0           1                1.0   \n",
       "..           ...              ...         ...                ...   \n",
       "105          NaN              2.0           2                1.0   \n",
       "106          NaN              3.0           2                1.0   \n",
       "107          NaN              2.0           1                1.0   \n",
       "108          NaN              NaN           1                3.0   \n",
       "109          NaN              2.0           1                NaN   \n",
       "\n",
       "     neoplasm_histologic_grade  tumor_tissue_site  laterality  tumor_location  \\\n",
       "0                          2.0                1.0         3.0             2.0   \n",
       "1                          2.0                1.0         3.0             2.0   \n",
       "2                          2.0                1.0         1.0             2.0   \n",
       "3                          1.0                1.0         3.0             6.0   \n",
       "4                          2.0                1.0         1.0             6.0   \n",
       "..                         ...                ...         ...             ...   \n",
       "105                        2.0                1.0         3.0             2.0   \n",
       "106                        2.0                1.0         1.0             2.0   \n",
       "107                        1.0                1.0         1.0             2.0   \n",
       "108                        1.0                1.0         1.0             6.0   \n",
       "109                        NaN                NaN         NaN             NaN   \n",
       "\n",
       "     gender  age_at_initial_pathologic  race  ethnicity  death01  \n",
       "0       2.0                       67.0   3.0        2.0      1.0  \n",
       "1       1.0                       44.0   2.0        NaN      1.0  \n",
       "2       2.0                       37.0   3.0        NaN      0.0  \n",
       "3       2.0                       50.0   3.0        NaN      0.0  \n",
       "4       2.0                       39.0   3.0        NaN      0.0  \n",
       "..      ...                        ...   ...        ...      ...  \n",
       "105     1.0                       30.0   3.0        2.0      0.0  \n",
       "106     1.0                       70.0   3.0        2.0      1.0  \n",
       "107     1.0                       36.0   3.0        2.0      0.0  \n",
       "108     1.0                       20.0   3.0        2.0      0.0  \n",
       "109     NaN                        NaN   NaN        NaN      NaN  \n",
       "\n",
       "[110 rows x 18 columns]"
      ]
     },
     "execution_count": 3,
     "metadata": {},
     "output_type": "execute_result"
    }
   ],
   "source": [
    "data = pd.read_csv('./Brain MRI segmentation/kaggle_3m/data.csv')\n",
    "data"
   ]
  },
  {
   "cell_type": "code",
   "execution_count": 4,
   "id": "546605ea",
   "metadata": {},
   "outputs": [],
   "source": [
    "data = data.fillna(-1)"
   ]
  },
  {
   "cell_type": "code",
   "execution_count": 5,
   "id": "369aae72",
   "metadata": {},
   "outputs": [
    {
     "name": "stdout",
     "output_type": "stream",
     "text": [
      "<class 'pandas.core.frame.DataFrame'>\n",
      "RangeIndex: 110 entries, 0 to 109\n",
      "Data columns (total 18 columns):\n",
      " #   Column                     Non-Null Count  Dtype  \n",
      "---  ------                     --------------  -----  \n",
      " 0   Patient                    110 non-null    object \n",
      " 1   RNASeqCluster              110 non-null    float64\n",
      " 2   MethylationCluster         110 non-null    float64\n",
      " 3   miRNACluster               110 non-null    int64  \n",
      " 4   CNCluster                  110 non-null    float64\n",
      " 5   RPPACluster                110 non-null    float64\n",
      " 6   OncosignCluster            110 non-null    float64\n",
      " 7   COCCluster                 110 non-null    int64  \n",
      " 8   histological_type          110 non-null    float64\n",
      " 9   neoplasm_histologic_grade  110 non-null    float64\n",
      " 10  tumor_tissue_site          110 non-null    float64\n",
      " 11  laterality                 110 non-null    float64\n",
      " 12  tumor_location             110 non-null    float64\n",
      " 13  gender                     110 non-null    float64\n",
      " 14  age_at_initial_pathologic  110 non-null    float64\n",
      " 15  race                       110 non-null    float64\n",
      " 16  ethnicity                  110 non-null    float64\n",
      " 17  death01                    110 non-null    float64\n",
      "dtypes: float64(15), int64(2), object(1)\n",
      "memory usage: 15.6+ KB\n"
     ]
    }
   ],
   "source": [
    "data.info()"
   ]
  },
  {
   "cell_type": "code",
   "execution_count": 6,
   "id": "54886fe6",
   "metadata": {},
   "outputs": [],
   "source": [
    "PAHT = '.\\Brain MRI segmentation\\kaggle_3m'"
   ]
  },
  {
   "cell_type": "code",
   "execution_count": 7,
   "id": "1e826f60",
   "metadata": {},
   "outputs": [
    {
     "data": {
      "text/plain": [
       "['data.csv',\n",
       " 'README.md',\n",
       " 'TCGA_CS_4941_19960909',\n",
       " 'TCGA_CS_4942_19970222',\n",
       " 'TCGA_CS_4943_20000902',\n",
       " 'TCGA_CS_4944_20010208',\n",
       " 'TCGA_CS_5393_19990606',\n",
       " 'TCGA_CS_5395_19981004',\n",
       " 'TCGA_CS_5396_20010302',\n",
       " 'TCGA_CS_5397_20010315',\n",
       " 'TCGA_CS_6186_20000601',\n",
       " 'TCGA_CS_6188_20010812',\n",
       " 'TCGA_CS_6290_20000917',\n",
       " 'TCGA_CS_6665_20010817',\n",
       " 'TCGA_CS_6666_20011109',\n",
       " 'TCGA_CS_6667_20011105',\n",
       " 'TCGA_CS_6668_20011025',\n",
       " 'TCGA_CS_6669_20020102',\n",
       " 'TCGA_DU_5849_19950405',\n",
       " 'TCGA_DU_5851_19950428',\n",
       " 'TCGA_DU_5852_19950709',\n",
       " 'TCGA_DU_5853_19950823',\n",
       " 'TCGA_DU_5854_19951104',\n",
       " 'TCGA_DU_5855_19951217',\n",
       " 'TCGA_DU_5871_19941206',\n",
       " 'TCGA_DU_5872_19950223',\n",
       " 'TCGA_DU_5874_19950510',\n",
       " 'TCGA_DU_6399_19830416',\n",
       " 'TCGA_DU_6400_19830518',\n",
       " 'TCGA_DU_6401_19831001',\n",
       " 'TCGA_DU_6404_19850629',\n",
       " 'TCGA_DU_6405_19851005',\n",
       " 'TCGA_DU_6407_19860514',\n",
       " 'TCGA_DU_6408_19860521',\n",
       " 'TCGA_DU_7008_19830723',\n",
       " 'TCGA_DU_7010_19860307',\n",
       " 'TCGA_DU_7013_19860523',\n",
       " 'TCGA_DU_7014_19860618',\n",
       " 'TCGA_DU_7018_19911220',\n",
       " 'TCGA_DU_7019_19940908',\n",
       " 'TCGA_DU_7294_19890104',\n",
       " 'TCGA_DU_7298_19910324',\n",
       " 'TCGA_DU_7299_19910417',\n",
       " 'TCGA_DU_7300_19910814',\n",
       " 'TCGA_DU_7301_19911112',\n",
       " 'TCGA_DU_7302_19911203',\n",
       " 'TCGA_DU_7304_19930325',\n",
       " 'TCGA_DU_7306_19930512',\n",
       " 'TCGA_DU_7309_19960831',\n",
       " 'TCGA_DU_8162_19961029',\n",
       " 'TCGA_DU_8163_19961119',\n",
       " 'TCGA_DU_8164_19970111',\n",
       " 'TCGA_DU_8165_19970205',\n",
       " 'TCGA_DU_8166_19970322',\n",
       " 'TCGA_DU_8167_19970402',\n",
       " 'TCGA_DU_8168_19970503',\n",
       " 'TCGA_DU_A5TP_19970614',\n",
       " 'TCGA_DU_A5TR_19970726',\n",
       " 'TCGA_DU_A5TS_19970726',\n",
       " 'TCGA_DU_A5TT_19980318',\n",
       " 'TCGA_DU_A5TU_19980312',\n",
       " 'TCGA_DU_A5TW_19980228',\n",
       " 'TCGA_DU_A5TY_19970709',\n",
       " 'TCGA_EZ_7264_20010816',\n",
       " 'TCGA_FG_5962_20000626',\n",
       " 'TCGA_FG_5964_20010511',\n",
       " 'TCGA_FG_6688_20020215',\n",
       " 'TCGA_FG_6689_20020326',\n",
       " 'TCGA_FG_6690_20020226',\n",
       " 'TCGA_FG_6691_20020405',\n",
       " 'TCGA_FG_6692_20020606',\n",
       " 'TCGA_FG_7634_20000128',\n",
       " 'TCGA_FG_7637_20000922',\n",
       " 'TCGA_FG_7643_20021104',\n",
       " 'TCGA_FG_8189_20030516',\n",
       " 'TCGA_FG_A4MT_20020212',\n",
       " 'TCGA_FG_A4MU_20030903',\n",
       " 'TCGA_FG_A60K_20040224',\n",
       " 'TCGA_HT_7473_19970826',\n",
       " 'TCGA_HT_7475_19970918',\n",
       " 'TCGA_HT_7602_19951103',\n",
       " 'TCGA_HT_7605_19950916',\n",
       " 'TCGA_HT_7608_19940304',\n",
       " 'TCGA_HT_7616_19940813',\n",
       " 'TCGA_HT_7680_19970202',\n",
       " 'TCGA_HT_7684_19950816',\n",
       " 'TCGA_HT_7686_19950629',\n",
       " 'TCGA_HT_7690_19960312',\n",
       " 'TCGA_HT_7692_19960724',\n",
       " 'TCGA_HT_7693_19950520',\n",
       " 'TCGA_HT_7694_19950404',\n",
       " 'TCGA_HT_7855_19951020',\n",
       " 'TCGA_HT_7856_19950831',\n",
       " 'TCGA_HT_7860_19960513',\n",
       " 'TCGA_HT_7874_19950902',\n",
       " 'TCGA_HT_7877_19980917',\n",
       " 'TCGA_HT_7879_19981009',\n",
       " 'TCGA_HT_7881_19981015',\n",
       " 'TCGA_HT_7882_19970125',\n",
       " 'TCGA_HT_7884_19980913',\n",
       " 'TCGA_HT_8018_19970411',\n",
       " 'TCGA_HT_8105_19980826',\n",
       " 'TCGA_HT_8106_19970727',\n",
       " 'TCGA_HT_8107_19980708',\n",
       " 'TCGA_HT_8111_19980330',\n",
       " 'TCGA_HT_8113_19930809',\n",
       " 'TCGA_HT_8114_19981030',\n",
       " 'TCGA_HT_8563_19981209',\n",
       " 'TCGA_HT_A5RC_19990831',\n",
       " 'TCGA_HT_A616_19991226',\n",
       " 'TCGA_HT_A61A_20000127',\n",
       " 'TCGA_HT_A61B_19991127']"
      ]
     },
     "execution_count": 7,
     "metadata": {},
     "output_type": "execute_result"
    }
   ],
   "source": [
    "import os, fnmatch\n",
    "dirs = os.listdir(PAHT)\n",
    "dirs"
   ]
  },
  {
   "cell_type": "code",
   "execution_count": 8,
   "id": "50a36e2f",
   "metadata": {},
   "outputs": [
    {
     "data": {
      "text/html": [
       "<div>\n",
       "<style scoped>\n",
       "    .dataframe tbody tr th:only-of-type {\n",
       "        vertical-align: middle;\n",
       "    }\n",
       "\n",
       "    .dataframe tbody tr th {\n",
       "        vertical-align: top;\n",
       "    }\n",
       "\n",
       "    .dataframe thead th {\n",
       "        text-align: right;\n",
       "    }\n",
       "</style>\n",
       "<table border=\"1\" class=\"dataframe\">\n",
       "  <thead>\n",
       "    <tr style=\"text-align: right;\">\n",
       "      <th></th>\n",
       "      <th>Patient</th>\n",
       "      <th>FullId</th>\n",
       "      <th>img_id</th>\n",
       "      <th>img</th>\n",
       "      <th>img_mask</th>\n",
       "    </tr>\n",
       "  </thead>\n",
       "  <tbody>\n",
       "    <tr>\n",
       "      <th>0</th>\n",
       "      <td>TCGA_CS_4941</td>\n",
       "      <td>TCGA_CS_4941_19960909</td>\n",
       "      <td>1</td>\n",
       "      <td>TCGA_CS_4941_19960909_1.tif</td>\n",
       "      <td>TCGA_CS_4941_19960909_1_mask.tif</td>\n",
       "    </tr>\n",
       "    <tr>\n",
       "      <th>1</th>\n",
       "      <td>TCGA_CS_4941</td>\n",
       "      <td>TCGA_CS_4941_19960909</td>\n",
       "      <td>10</td>\n",
       "      <td>TCGA_CS_4941_19960909_10.tif</td>\n",
       "      <td>TCGA_CS_4941_19960909_10_mask.tif</td>\n",
       "    </tr>\n",
       "    <tr>\n",
       "      <th>2</th>\n",
       "      <td>TCGA_CS_4941</td>\n",
       "      <td>TCGA_CS_4941_19960909</td>\n",
       "      <td>11</td>\n",
       "      <td>TCGA_CS_4941_19960909_11.tif</td>\n",
       "      <td>TCGA_CS_4941_19960909_11_mask.tif</td>\n",
       "    </tr>\n",
       "    <tr>\n",
       "      <th>3</th>\n",
       "      <td>TCGA_CS_4941</td>\n",
       "      <td>TCGA_CS_4941_19960909</td>\n",
       "      <td>12</td>\n",
       "      <td>TCGA_CS_4941_19960909_12.tif</td>\n",
       "      <td>TCGA_CS_4941_19960909_12_mask.tif</td>\n",
       "    </tr>\n",
       "    <tr>\n",
       "      <th>4</th>\n",
       "      <td>TCGA_CS_4941</td>\n",
       "      <td>TCGA_CS_4941_19960909</td>\n",
       "      <td>13</td>\n",
       "      <td>TCGA_CS_4941_19960909_13.tif</td>\n",
       "      <td>TCGA_CS_4941_19960909_13_mask.tif</td>\n",
       "    </tr>\n",
       "    <tr>\n",
       "      <th>...</th>\n",
       "      <td>...</td>\n",
       "      <td>...</td>\n",
       "      <td>...</td>\n",
       "      <td>...</td>\n",
       "      <td>...</td>\n",
       "    </tr>\n",
       "    <tr>\n",
       "      <th>3924</th>\n",
       "      <td>TCGA_HT_A61B</td>\n",
       "      <td>TCGA_HT_A61B_19991127</td>\n",
       "      <td>85</td>\n",
       "      <td>TCGA_HT_A61B_19991127_85.tif</td>\n",
       "      <td>TCGA_HT_A61B_19991127_85_mask.tif</td>\n",
       "    </tr>\n",
       "    <tr>\n",
       "      <th>3925</th>\n",
       "      <td>TCGA_HT_A61B</td>\n",
       "      <td>TCGA_HT_A61B_19991127</td>\n",
       "      <td>86</td>\n",
       "      <td>TCGA_HT_A61B_19991127_86.tif</td>\n",
       "      <td>TCGA_HT_A61B_19991127_86_mask.tif</td>\n",
       "    </tr>\n",
       "    <tr>\n",
       "      <th>3926</th>\n",
       "      <td>TCGA_HT_A61B</td>\n",
       "      <td>TCGA_HT_A61B_19991127</td>\n",
       "      <td>87</td>\n",
       "      <td>TCGA_HT_A61B_19991127_87.tif</td>\n",
       "      <td>TCGA_HT_A61B_19991127_87_mask.tif</td>\n",
       "    </tr>\n",
       "    <tr>\n",
       "      <th>3927</th>\n",
       "      <td>TCGA_HT_A61B</td>\n",
       "      <td>TCGA_HT_A61B_19991127</td>\n",
       "      <td>88</td>\n",
       "      <td>TCGA_HT_A61B_19991127_88.tif</td>\n",
       "      <td>TCGA_HT_A61B_19991127_88_mask.tif</td>\n",
       "    </tr>\n",
       "    <tr>\n",
       "      <th>3928</th>\n",
       "      <td>TCGA_HT_A61B</td>\n",
       "      <td>TCGA_HT_A61B_19991127</td>\n",
       "      <td>9</td>\n",
       "      <td>TCGA_HT_A61B_19991127_9.tif</td>\n",
       "      <td>TCGA_HT_A61B_19991127_9_mask.tif</td>\n",
       "    </tr>\n",
       "  </tbody>\n",
       "</table>\n",
       "<p>3929 rows × 5 columns</p>\n",
       "</div>"
      ],
      "text/plain": [
       "           Patient                 FullId img_id  \\\n",
       "0     TCGA_CS_4941  TCGA_CS_4941_19960909      1   \n",
       "1     TCGA_CS_4941  TCGA_CS_4941_19960909     10   \n",
       "2     TCGA_CS_4941  TCGA_CS_4941_19960909     11   \n",
       "3     TCGA_CS_4941  TCGA_CS_4941_19960909     12   \n",
       "4     TCGA_CS_4941  TCGA_CS_4941_19960909     13   \n",
       "...            ...                    ...    ...   \n",
       "3924  TCGA_HT_A61B  TCGA_HT_A61B_19991127     85   \n",
       "3925  TCGA_HT_A61B  TCGA_HT_A61B_19991127     86   \n",
       "3926  TCGA_HT_A61B  TCGA_HT_A61B_19991127     87   \n",
       "3927  TCGA_HT_A61B  TCGA_HT_A61B_19991127     88   \n",
       "3928  TCGA_HT_A61B  TCGA_HT_A61B_19991127      9   \n",
       "\n",
       "                               img                           img_mask  \n",
       "0      TCGA_CS_4941_19960909_1.tif   TCGA_CS_4941_19960909_1_mask.tif  \n",
       "1     TCGA_CS_4941_19960909_10.tif  TCGA_CS_4941_19960909_10_mask.tif  \n",
       "2     TCGA_CS_4941_19960909_11.tif  TCGA_CS_4941_19960909_11_mask.tif  \n",
       "3     TCGA_CS_4941_19960909_12.tif  TCGA_CS_4941_19960909_12_mask.tif  \n",
       "4     TCGA_CS_4941_19960909_13.tif  TCGA_CS_4941_19960909_13_mask.tif  \n",
       "...                            ...                                ...  \n",
       "3924  TCGA_HT_A61B_19991127_85.tif  TCGA_HT_A61B_19991127_85_mask.tif  \n",
       "3925  TCGA_HT_A61B_19991127_86.tif  TCGA_HT_A61B_19991127_86_mask.tif  \n",
       "3926  TCGA_HT_A61B_19991127_87.tif  TCGA_HT_A61B_19991127_87_mask.tif  \n",
       "3927  TCGA_HT_A61B_19991127_88.tif  TCGA_HT_A61B_19991127_88_mask.tif  \n",
       "3928   TCGA_HT_A61B_19991127_9.tif   TCGA_HT_A61B_19991127_9_mask.tif  \n",
       "\n",
       "[3929 rows x 5 columns]"
      ]
     },
     "execution_count": 8,
     "metadata": {},
     "output_type": "execute_result"
    }
   ],
   "source": [
    "dic = dict()\n",
    "lst = []\n",
    "for di in dirs:\n",
    "    if '.' not in di:\n",
    "        imgs = os.listdir(f'{PAHT}\\\\{di}')\n",
    "        d = dict()\n",
    "        for img in imgs:\n",
    "            s = img.replace(di + '_', '').split('_')\n",
    "            num = s[0].split('.')[0]\n",
    "            if num in d.keys():\n",
    "                d[num].append(img)\n",
    "            else:\n",
    "                d[num] = [img]        \n",
    "        for key in d.keys():\n",
    "            if len(d[key]) > 1:\n",
    "                name = '_'.join(di.split('_')[:-1])                \n",
    "                lst.append([name, di, key, d[key][0], d[key][1]])\n",
    "        dic[di] = d\n",
    "df = pd.DataFrame(lst)\n",
    "df.columns =['Patient', 'FullId','img_id','img', 'img_mask']\n",
    "df"
   ]
  },
  {
   "cell_type": "code",
   "execution_count": null,
   "id": "d2da0214",
   "metadata": {},
   "outputs": [],
   "source": []
  },
  {
   "cell_type": "code",
   "execution_count": 9,
   "id": "91269630",
   "metadata": {},
   "outputs": [
    {
     "data": {
      "text/html": [
       "<div>\n",
       "<style scoped>\n",
       "    .dataframe tbody tr th:only-of-type {\n",
       "        vertical-align: middle;\n",
       "    }\n",
       "\n",
       "    .dataframe tbody tr th {\n",
       "        vertical-align: top;\n",
       "    }\n",
       "\n",
       "    .dataframe thead th {\n",
       "        text-align: right;\n",
       "    }\n",
       "</style>\n",
       "<table border=\"1\" class=\"dataframe\">\n",
       "  <thead>\n",
       "    <tr style=\"text-align: right;\">\n",
       "      <th></th>\n",
       "      <th>Patient</th>\n",
       "      <th>RNASeqCluster</th>\n",
       "      <th>MethylationCluster</th>\n",
       "      <th>miRNACluster</th>\n",
       "      <th>CNCluster</th>\n",
       "      <th>RPPACluster</th>\n",
       "      <th>OncosignCluster</th>\n",
       "      <th>COCCluster</th>\n",
       "      <th>histological_type</th>\n",
       "      <th>neoplasm_histologic_grade</th>\n",
       "      <th>tumor_tissue_site</th>\n",
       "      <th>laterality</th>\n",
       "      <th>tumor_location</th>\n",
       "      <th>gender</th>\n",
       "      <th>age_at_initial_pathologic</th>\n",
       "      <th>race</th>\n",
       "      <th>ethnicity</th>\n",
       "      <th>death01</th>\n",
       "    </tr>\n",
       "  </thead>\n",
       "  <tbody>\n",
       "    <tr>\n",
       "      <th>0</th>\n",
       "      <td>TCGA_CS_4941</td>\n",
       "      <td>2.0</td>\n",
       "      <td>4.0</td>\n",
       "      <td>2</td>\n",
       "      <td>2.0</td>\n",
       "      <td>-1.0</td>\n",
       "      <td>3.0</td>\n",
       "      <td>2</td>\n",
       "      <td>1.0</td>\n",
       "      <td>2.0</td>\n",
       "      <td>1.0</td>\n",
       "      <td>3.0</td>\n",
       "      <td>2.0</td>\n",
       "      <td>2.0</td>\n",
       "      <td>67.0</td>\n",
       "      <td>3.0</td>\n",
       "      <td>2.0</td>\n",
       "      <td>1.0</td>\n",
       "    </tr>\n",
       "    <tr>\n",
       "      <th>1</th>\n",
       "      <td>TCGA_CS_4942</td>\n",
       "      <td>1.0</td>\n",
       "      <td>5.0</td>\n",
       "      <td>2</td>\n",
       "      <td>1.0</td>\n",
       "      <td>1.0</td>\n",
       "      <td>2.0</td>\n",
       "      <td>1</td>\n",
       "      <td>1.0</td>\n",
       "      <td>2.0</td>\n",
       "      <td>1.0</td>\n",
       "      <td>3.0</td>\n",
       "      <td>2.0</td>\n",
       "      <td>1.0</td>\n",
       "      <td>44.0</td>\n",
       "      <td>2.0</td>\n",
       "      <td>-1.0</td>\n",
       "      <td>1.0</td>\n",
       "    </tr>\n",
       "    <tr>\n",
       "      <th>2</th>\n",
       "      <td>TCGA_CS_4943</td>\n",
       "      <td>1.0</td>\n",
       "      <td>5.0</td>\n",
       "      <td>2</td>\n",
       "      <td>1.0</td>\n",
       "      <td>2.0</td>\n",
       "      <td>2.0</td>\n",
       "      <td>1</td>\n",
       "      <td>1.0</td>\n",
       "      <td>2.0</td>\n",
       "      <td>1.0</td>\n",
       "      <td>1.0</td>\n",
       "      <td>2.0</td>\n",
       "      <td>2.0</td>\n",
       "      <td>37.0</td>\n",
       "      <td>3.0</td>\n",
       "      <td>-1.0</td>\n",
       "      <td>0.0</td>\n",
       "    </tr>\n",
       "    <tr>\n",
       "      <th>3</th>\n",
       "      <td>TCGA_CS_4944</td>\n",
       "      <td>-1.0</td>\n",
       "      <td>5.0</td>\n",
       "      <td>2</td>\n",
       "      <td>1.0</td>\n",
       "      <td>2.0</td>\n",
       "      <td>1.0</td>\n",
       "      <td>1</td>\n",
       "      <td>1.0</td>\n",
       "      <td>1.0</td>\n",
       "      <td>1.0</td>\n",
       "      <td>3.0</td>\n",
       "      <td>6.0</td>\n",
       "      <td>2.0</td>\n",
       "      <td>50.0</td>\n",
       "      <td>3.0</td>\n",
       "      <td>-1.0</td>\n",
       "      <td>0.0</td>\n",
       "    </tr>\n",
       "    <tr>\n",
       "      <th>4</th>\n",
       "      <td>TCGA_CS_5393</td>\n",
       "      <td>4.0</td>\n",
       "      <td>5.0</td>\n",
       "      <td>2</td>\n",
       "      <td>1.0</td>\n",
       "      <td>2.0</td>\n",
       "      <td>3.0</td>\n",
       "      <td>1</td>\n",
       "      <td>1.0</td>\n",
       "      <td>2.0</td>\n",
       "      <td>1.0</td>\n",
       "      <td>1.0</td>\n",
       "      <td>6.0</td>\n",
       "      <td>2.0</td>\n",
       "      <td>39.0</td>\n",
       "      <td>3.0</td>\n",
       "      <td>-1.0</td>\n",
       "      <td>0.0</td>\n",
       "    </tr>\n",
       "    <tr>\n",
       "      <th>...</th>\n",
       "      <td>...</td>\n",
       "      <td>...</td>\n",
       "      <td>...</td>\n",
       "      <td>...</td>\n",
       "      <td>...</td>\n",
       "      <td>...</td>\n",
       "      <td>...</td>\n",
       "      <td>...</td>\n",
       "      <td>...</td>\n",
       "      <td>...</td>\n",
       "      <td>...</td>\n",
       "      <td>...</td>\n",
       "      <td>...</td>\n",
       "      <td>...</td>\n",
       "      <td>...</td>\n",
       "      <td>...</td>\n",
       "      <td>...</td>\n",
       "      <td>...</td>\n",
       "    </tr>\n",
       "    <tr>\n",
       "      <th>105</th>\n",
       "      <td>TCGA_HT_8563</td>\n",
       "      <td>2.0</td>\n",
       "      <td>5.0</td>\n",
       "      <td>3</td>\n",
       "      <td>1.0</td>\n",
       "      <td>-1.0</td>\n",
       "      <td>2.0</td>\n",
       "      <td>2</td>\n",
       "      <td>1.0</td>\n",
       "      <td>2.0</td>\n",
       "      <td>1.0</td>\n",
       "      <td>3.0</td>\n",
       "      <td>2.0</td>\n",
       "      <td>1.0</td>\n",
       "      <td>30.0</td>\n",
       "      <td>3.0</td>\n",
       "      <td>2.0</td>\n",
       "      <td>0.0</td>\n",
       "    </tr>\n",
       "    <tr>\n",
       "      <th>106</th>\n",
       "      <td>TCGA_HT_A5RC</td>\n",
       "      <td>2.0</td>\n",
       "      <td>4.0</td>\n",
       "      <td>2</td>\n",
       "      <td>2.0</td>\n",
       "      <td>-1.0</td>\n",
       "      <td>3.0</td>\n",
       "      <td>2</td>\n",
       "      <td>1.0</td>\n",
       "      <td>2.0</td>\n",
       "      <td>1.0</td>\n",
       "      <td>1.0</td>\n",
       "      <td>2.0</td>\n",
       "      <td>1.0</td>\n",
       "      <td>70.0</td>\n",
       "      <td>3.0</td>\n",
       "      <td>2.0</td>\n",
       "      <td>1.0</td>\n",
       "    </tr>\n",
       "    <tr>\n",
       "      <th>107</th>\n",
       "      <td>TCGA_HT_A616</td>\n",
       "      <td>-1.0</td>\n",
       "      <td>5.0</td>\n",
       "      <td>2</td>\n",
       "      <td>1.0</td>\n",
       "      <td>-1.0</td>\n",
       "      <td>2.0</td>\n",
       "      <td>1</td>\n",
       "      <td>1.0</td>\n",
       "      <td>1.0</td>\n",
       "      <td>1.0</td>\n",
       "      <td>1.0</td>\n",
       "      <td>2.0</td>\n",
       "      <td>1.0</td>\n",
       "      <td>36.0</td>\n",
       "      <td>3.0</td>\n",
       "      <td>2.0</td>\n",
       "      <td>0.0</td>\n",
       "    </tr>\n",
       "    <tr>\n",
       "      <th>108</th>\n",
       "      <td>TCGA_HT_A61A</td>\n",
       "      <td>-1.0</td>\n",
       "      <td>5.0</td>\n",
       "      <td>2</td>\n",
       "      <td>-1.0</td>\n",
       "      <td>-1.0</td>\n",
       "      <td>-1.0</td>\n",
       "      <td>1</td>\n",
       "      <td>3.0</td>\n",
       "      <td>1.0</td>\n",
       "      <td>1.0</td>\n",
       "      <td>1.0</td>\n",
       "      <td>6.0</td>\n",
       "      <td>1.0</td>\n",
       "      <td>20.0</td>\n",
       "      <td>3.0</td>\n",
       "      <td>2.0</td>\n",
       "      <td>0.0</td>\n",
       "    </tr>\n",
       "    <tr>\n",
       "      <th>109</th>\n",
       "      <td>TCGA_HT_A61B</td>\n",
       "      <td>-1.0</td>\n",
       "      <td>5.0</td>\n",
       "      <td>2</td>\n",
       "      <td>1.0</td>\n",
       "      <td>-1.0</td>\n",
       "      <td>2.0</td>\n",
       "      <td>1</td>\n",
       "      <td>-1.0</td>\n",
       "      <td>-1.0</td>\n",
       "      <td>-1.0</td>\n",
       "      <td>-1.0</td>\n",
       "      <td>-1.0</td>\n",
       "      <td>-1.0</td>\n",
       "      <td>-1.0</td>\n",
       "      <td>-1.0</td>\n",
       "      <td>-1.0</td>\n",
       "      <td>-1.0</td>\n",
       "    </tr>\n",
       "  </tbody>\n",
       "</table>\n",
       "<p>110 rows × 18 columns</p>\n",
       "</div>"
      ],
      "text/plain": [
       "          Patient  RNASeqCluster  MethylationCluster  miRNACluster  CNCluster  \\\n",
       "0    TCGA_CS_4941            2.0                 4.0             2        2.0   \n",
       "1    TCGA_CS_4942            1.0                 5.0             2        1.0   \n",
       "2    TCGA_CS_4943            1.0                 5.0             2        1.0   \n",
       "3    TCGA_CS_4944           -1.0                 5.0             2        1.0   \n",
       "4    TCGA_CS_5393            4.0                 5.0             2        1.0   \n",
       "..            ...            ...                 ...           ...        ...   \n",
       "105  TCGA_HT_8563            2.0                 5.0             3        1.0   \n",
       "106  TCGA_HT_A5RC            2.0                 4.0             2        2.0   \n",
       "107  TCGA_HT_A616           -1.0                 5.0             2        1.0   \n",
       "108  TCGA_HT_A61A           -1.0                 5.0             2       -1.0   \n",
       "109  TCGA_HT_A61B           -1.0                 5.0             2        1.0   \n",
       "\n",
       "     RPPACluster  OncosignCluster  COCCluster  histological_type  \\\n",
       "0           -1.0              3.0           2                1.0   \n",
       "1            1.0              2.0           1                1.0   \n",
       "2            2.0              2.0           1                1.0   \n",
       "3            2.0              1.0           1                1.0   \n",
       "4            2.0              3.0           1                1.0   \n",
       "..           ...              ...         ...                ...   \n",
       "105         -1.0              2.0           2                1.0   \n",
       "106         -1.0              3.0           2                1.0   \n",
       "107         -1.0              2.0           1                1.0   \n",
       "108         -1.0             -1.0           1                3.0   \n",
       "109         -1.0              2.0           1               -1.0   \n",
       "\n",
       "     neoplasm_histologic_grade  tumor_tissue_site  laterality  tumor_location  \\\n",
       "0                          2.0                1.0         3.0             2.0   \n",
       "1                          2.0                1.0         3.0             2.0   \n",
       "2                          2.0                1.0         1.0             2.0   \n",
       "3                          1.0                1.0         3.0             6.0   \n",
       "4                          2.0                1.0         1.0             6.0   \n",
       "..                         ...                ...         ...             ...   \n",
       "105                        2.0                1.0         3.0             2.0   \n",
       "106                        2.0                1.0         1.0             2.0   \n",
       "107                        1.0                1.0         1.0             2.0   \n",
       "108                        1.0                1.0         1.0             6.0   \n",
       "109                       -1.0               -1.0        -1.0            -1.0   \n",
       "\n",
       "     gender  age_at_initial_pathologic  race  ethnicity  death01  \n",
       "0       2.0                       67.0   3.0        2.0      1.0  \n",
       "1       1.0                       44.0   2.0       -1.0      1.0  \n",
       "2       2.0                       37.0   3.0       -1.0      0.0  \n",
       "3       2.0                       50.0   3.0       -1.0      0.0  \n",
       "4       2.0                       39.0   3.0       -1.0      0.0  \n",
       "..      ...                        ...   ...        ...      ...  \n",
       "105     1.0                       30.0   3.0        2.0      0.0  \n",
       "106     1.0                       70.0   3.0        2.0      1.0  \n",
       "107     1.0                       36.0   3.0        2.0      0.0  \n",
       "108     1.0                       20.0   3.0        2.0      0.0  \n",
       "109    -1.0                       -1.0  -1.0       -1.0     -1.0  \n",
       "\n",
       "[110 rows x 18 columns]"
      ]
     },
     "execution_count": 9,
     "metadata": {},
     "output_type": "execute_result"
    }
   ],
   "source": [
    "data"
   ]
  },
  {
   "cell_type": "code",
   "execution_count": 10,
   "id": "990a8c97",
   "metadata": {},
   "outputs": [
    {
     "data": {
      "text/plain": [
       "Index(['Patient', 'FullId', 'img_id', 'img', 'img_mask'], dtype='object')"
      ]
     },
     "execution_count": 10,
     "metadata": {},
     "output_type": "execute_result"
    }
   ],
   "source": [
    "df.columns"
   ]
  },
  {
   "cell_type": "code",
   "execution_count": 11,
   "id": "7e7e0bf7",
   "metadata": {},
   "outputs": [
    {
     "data": {
      "text/plain": [
       "Index(['Patient', 'RNASeqCluster', 'MethylationCluster', 'miRNACluster',\n",
       "       'CNCluster', 'RPPACluster', 'OncosignCluster', 'COCCluster',\n",
       "       'histological_type', 'neoplasm_histologic_grade', 'tumor_tissue_site',\n",
       "       'laterality', 'tumor_location', 'gender', 'age_at_initial_pathologic',\n",
       "       'race', 'ethnicity', 'death01'],\n",
       "      dtype='object')"
      ]
     },
     "execution_count": 11,
     "metadata": {},
     "output_type": "execute_result"
    }
   ],
   "source": [
    "data.columns"
   ]
  },
  {
   "cell_type": "code",
   "execution_count": 12,
   "id": "b556a15c",
   "metadata": {},
   "outputs": [
    {
     "data": {
      "text/html": [
       "<div>\n",
       "<style scoped>\n",
       "    .dataframe tbody tr th:only-of-type {\n",
       "        vertical-align: middle;\n",
       "    }\n",
       "\n",
       "    .dataframe tbody tr th {\n",
       "        vertical-align: top;\n",
       "    }\n",
       "\n",
       "    .dataframe thead th {\n",
       "        text-align: right;\n",
       "    }\n",
       "</style>\n",
       "<table border=\"1\" class=\"dataframe\">\n",
       "  <thead>\n",
       "    <tr style=\"text-align: right;\">\n",
       "      <th></th>\n",
       "      <th>Patient</th>\n",
       "      <th>FullId</th>\n",
       "      <th>img_id</th>\n",
       "      <th>img</th>\n",
       "      <th>img_mask</th>\n",
       "      <th>RNASeqCluster</th>\n",
       "      <th>MethylationCluster</th>\n",
       "      <th>miRNACluster</th>\n",
       "      <th>CNCluster</th>\n",
       "      <th>RPPACluster</th>\n",
       "      <th>...</th>\n",
       "      <th>histological_type</th>\n",
       "      <th>neoplasm_histologic_grade</th>\n",
       "      <th>tumor_tissue_site</th>\n",
       "      <th>laterality</th>\n",
       "      <th>tumor_location</th>\n",
       "      <th>gender</th>\n",
       "      <th>age_at_initial_pathologic</th>\n",
       "      <th>race</th>\n",
       "      <th>ethnicity</th>\n",
       "      <th>death01</th>\n",
       "    </tr>\n",
       "  </thead>\n",
       "  <tbody>\n",
       "    <tr>\n",
       "      <th>0</th>\n",
       "      <td>TCGA_CS_4941</td>\n",
       "      <td>TCGA_CS_4941_19960909</td>\n",
       "      <td>1</td>\n",
       "      <td>TCGA_CS_4941_19960909_1.tif</td>\n",
       "      <td>TCGA_CS_4941_19960909_1_mask.tif</td>\n",
       "      <td>2.0</td>\n",
       "      <td>4.0</td>\n",
       "      <td>2</td>\n",
       "      <td>2.0</td>\n",
       "      <td>-1.0</td>\n",
       "      <td>...</td>\n",
       "      <td>1.0</td>\n",
       "      <td>2.0</td>\n",
       "      <td>1.0</td>\n",
       "      <td>3.0</td>\n",
       "      <td>2.0</td>\n",
       "      <td>2.0</td>\n",
       "      <td>67.0</td>\n",
       "      <td>3.0</td>\n",
       "      <td>2.0</td>\n",
       "      <td>1.0</td>\n",
       "    </tr>\n",
       "    <tr>\n",
       "      <th>1</th>\n",
       "      <td>TCGA_CS_4941</td>\n",
       "      <td>TCGA_CS_4941_19960909</td>\n",
       "      <td>10</td>\n",
       "      <td>TCGA_CS_4941_19960909_10.tif</td>\n",
       "      <td>TCGA_CS_4941_19960909_10_mask.tif</td>\n",
       "      <td>2.0</td>\n",
       "      <td>4.0</td>\n",
       "      <td>2</td>\n",
       "      <td>2.0</td>\n",
       "      <td>-1.0</td>\n",
       "      <td>...</td>\n",
       "      <td>1.0</td>\n",
       "      <td>2.0</td>\n",
       "      <td>1.0</td>\n",
       "      <td>3.0</td>\n",
       "      <td>2.0</td>\n",
       "      <td>2.0</td>\n",
       "      <td>67.0</td>\n",
       "      <td>3.0</td>\n",
       "      <td>2.0</td>\n",
       "      <td>1.0</td>\n",
       "    </tr>\n",
       "    <tr>\n",
       "      <th>2</th>\n",
       "      <td>TCGA_CS_4941</td>\n",
       "      <td>TCGA_CS_4941_19960909</td>\n",
       "      <td>11</td>\n",
       "      <td>TCGA_CS_4941_19960909_11.tif</td>\n",
       "      <td>TCGA_CS_4941_19960909_11_mask.tif</td>\n",
       "      <td>2.0</td>\n",
       "      <td>4.0</td>\n",
       "      <td>2</td>\n",
       "      <td>2.0</td>\n",
       "      <td>-1.0</td>\n",
       "      <td>...</td>\n",
       "      <td>1.0</td>\n",
       "      <td>2.0</td>\n",
       "      <td>1.0</td>\n",
       "      <td>3.0</td>\n",
       "      <td>2.0</td>\n",
       "      <td>2.0</td>\n",
       "      <td>67.0</td>\n",
       "      <td>3.0</td>\n",
       "      <td>2.0</td>\n",
       "      <td>1.0</td>\n",
       "    </tr>\n",
       "    <tr>\n",
       "      <th>3</th>\n",
       "      <td>TCGA_CS_4941</td>\n",
       "      <td>TCGA_CS_4941_19960909</td>\n",
       "      <td>12</td>\n",
       "      <td>TCGA_CS_4941_19960909_12.tif</td>\n",
       "      <td>TCGA_CS_4941_19960909_12_mask.tif</td>\n",
       "      <td>2.0</td>\n",
       "      <td>4.0</td>\n",
       "      <td>2</td>\n",
       "      <td>2.0</td>\n",
       "      <td>-1.0</td>\n",
       "      <td>...</td>\n",
       "      <td>1.0</td>\n",
       "      <td>2.0</td>\n",
       "      <td>1.0</td>\n",
       "      <td>3.0</td>\n",
       "      <td>2.0</td>\n",
       "      <td>2.0</td>\n",
       "      <td>67.0</td>\n",
       "      <td>3.0</td>\n",
       "      <td>2.0</td>\n",
       "      <td>1.0</td>\n",
       "    </tr>\n",
       "    <tr>\n",
       "      <th>4</th>\n",
       "      <td>TCGA_CS_4941</td>\n",
       "      <td>TCGA_CS_4941_19960909</td>\n",
       "      <td>13</td>\n",
       "      <td>TCGA_CS_4941_19960909_13.tif</td>\n",
       "      <td>TCGA_CS_4941_19960909_13_mask.tif</td>\n",
       "      <td>2.0</td>\n",
       "      <td>4.0</td>\n",
       "      <td>2</td>\n",
       "      <td>2.0</td>\n",
       "      <td>-1.0</td>\n",
       "      <td>...</td>\n",
       "      <td>1.0</td>\n",
       "      <td>2.0</td>\n",
       "      <td>1.0</td>\n",
       "      <td>3.0</td>\n",
       "      <td>2.0</td>\n",
       "      <td>2.0</td>\n",
       "      <td>67.0</td>\n",
       "      <td>3.0</td>\n",
       "      <td>2.0</td>\n",
       "      <td>1.0</td>\n",
       "    </tr>\n",
       "    <tr>\n",
       "      <th>...</th>\n",
       "      <td>...</td>\n",
       "      <td>...</td>\n",
       "      <td>...</td>\n",
       "      <td>...</td>\n",
       "      <td>...</td>\n",
       "      <td>...</td>\n",
       "      <td>...</td>\n",
       "      <td>...</td>\n",
       "      <td>...</td>\n",
       "      <td>...</td>\n",
       "      <td>...</td>\n",
       "      <td>...</td>\n",
       "      <td>...</td>\n",
       "      <td>...</td>\n",
       "      <td>...</td>\n",
       "      <td>...</td>\n",
       "      <td>...</td>\n",
       "      <td>...</td>\n",
       "      <td>...</td>\n",
       "      <td>...</td>\n",
       "      <td>...</td>\n",
       "    </tr>\n",
       "    <tr>\n",
       "      <th>3924</th>\n",
       "      <td>TCGA_HT_A61B</td>\n",
       "      <td>TCGA_HT_A61B_19991127</td>\n",
       "      <td>85</td>\n",
       "      <td>TCGA_HT_A61B_19991127_85.tif</td>\n",
       "      <td>TCGA_HT_A61B_19991127_85_mask.tif</td>\n",
       "      <td>-1.0</td>\n",
       "      <td>5.0</td>\n",
       "      <td>2</td>\n",
       "      <td>1.0</td>\n",
       "      <td>-1.0</td>\n",
       "      <td>...</td>\n",
       "      <td>-1.0</td>\n",
       "      <td>-1.0</td>\n",
       "      <td>-1.0</td>\n",
       "      <td>-1.0</td>\n",
       "      <td>-1.0</td>\n",
       "      <td>-1.0</td>\n",
       "      <td>-1.0</td>\n",
       "      <td>-1.0</td>\n",
       "      <td>-1.0</td>\n",
       "      <td>-1.0</td>\n",
       "    </tr>\n",
       "    <tr>\n",
       "      <th>3925</th>\n",
       "      <td>TCGA_HT_A61B</td>\n",
       "      <td>TCGA_HT_A61B_19991127</td>\n",
       "      <td>86</td>\n",
       "      <td>TCGA_HT_A61B_19991127_86.tif</td>\n",
       "      <td>TCGA_HT_A61B_19991127_86_mask.tif</td>\n",
       "      <td>-1.0</td>\n",
       "      <td>5.0</td>\n",
       "      <td>2</td>\n",
       "      <td>1.0</td>\n",
       "      <td>-1.0</td>\n",
       "      <td>...</td>\n",
       "      <td>-1.0</td>\n",
       "      <td>-1.0</td>\n",
       "      <td>-1.0</td>\n",
       "      <td>-1.0</td>\n",
       "      <td>-1.0</td>\n",
       "      <td>-1.0</td>\n",
       "      <td>-1.0</td>\n",
       "      <td>-1.0</td>\n",
       "      <td>-1.0</td>\n",
       "      <td>-1.0</td>\n",
       "    </tr>\n",
       "    <tr>\n",
       "      <th>3926</th>\n",
       "      <td>TCGA_HT_A61B</td>\n",
       "      <td>TCGA_HT_A61B_19991127</td>\n",
       "      <td>87</td>\n",
       "      <td>TCGA_HT_A61B_19991127_87.tif</td>\n",
       "      <td>TCGA_HT_A61B_19991127_87_mask.tif</td>\n",
       "      <td>-1.0</td>\n",
       "      <td>5.0</td>\n",
       "      <td>2</td>\n",
       "      <td>1.0</td>\n",
       "      <td>-1.0</td>\n",
       "      <td>...</td>\n",
       "      <td>-1.0</td>\n",
       "      <td>-1.0</td>\n",
       "      <td>-1.0</td>\n",
       "      <td>-1.0</td>\n",
       "      <td>-1.0</td>\n",
       "      <td>-1.0</td>\n",
       "      <td>-1.0</td>\n",
       "      <td>-1.0</td>\n",
       "      <td>-1.0</td>\n",
       "      <td>-1.0</td>\n",
       "    </tr>\n",
       "    <tr>\n",
       "      <th>3927</th>\n",
       "      <td>TCGA_HT_A61B</td>\n",
       "      <td>TCGA_HT_A61B_19991127</td>\n",
       "      <td>88</td>\n",
       "      <td>TCGA_HT_A61B_19991127_88.tif</td>\n",
       "      <td>TCGA_HT_A61B_19991127_88_mask.tif</td>\n",
       "      <td>-1.0</td>\n",
       "      <td>5.0</td>\n",
       "      <td>2</td>\n",
       "      <td>1.0</td>\n",
       "      <td>-1.0</td>\n",
       "      <td>...</td>\n",
       "      <td>-1.0</td>\n",
       "      <td>-1.0</td>\n",
       "      <td>-1.0</td>\n",
       "      <td>-1.0</td>\n",
       "      <td>-1.0</td>\n",
       "      <td>-1.0</td>\n",
       "      <td>-1.0</td>\n",
       "      <td>-1.0</td>\n",
       "      <td>-1.0</td>\n",
       "      <td>-1.0</td>\n",
       "    </tr>\n",
       "    <tr>\n",
       "      <th>3928</th>\n",
       "      <td>TCGA_HT_A61B</td>\n",
       "      <td>TCGA_HT_A61B_19991127</td>\n",
       "      <td>9</td>\n",
       "      <td>TCGA_HT_A61B_19991127_9.tif</td>\n",
       "      <td>TCGA_HT_A61B_19991127_9_mask.tif</td>\n",
       "      <td>-1.0</td>\n",
       "      <td>5.0</td>\n",
       "      <td>2</td>\n",
       "      <td>1.0</td>\n",
       "      <td>-1.0</td>\n",
       "      <td>...</td>\n",
       "      <td>-1.0</td>\n",
       "      <td>-1.0</td>\n",
       "      <td>-1.0</td>\n",
       "      <td>-1.0</td>\n",
       "      <td>-1.0</td>\n",
       "      <td>-1.0</td>\n",
       "      <td>-1.0</td>\n",
       "      <td>-1.0</td>\n",
       "      <td>-1.0</td>\n",
       "      <td>-1.0</td>\n",
       "    </tr>\n",
       "  </tbody>\n",
       "</table>\n",
       "<p>3929 rows × 22 columns</p>\n",
       "</div>"
      ],
      "text/plain": [
       "           Patient                 FullId img_id  \\\n",
       "0     TCGA_CS_4941  TCGA_CS_4941_19960909      1   \n",
       "1     TCGA_CS_4941  TCGA_CS_4941_19960909     10   \n",
       "2     TCGA_CS_4941  TCGA_CS_4941_19960909     11   \n",
       "3     TCGA_CS_4941  TCGA_CS_4941_19960909     12   \n",
       "4     TCGA_CS_4941  TCGA_CS_4941_19960909     13   \n",
       "...            ...                    ...    ...   \n",
       "3924  TCGA_HT_A61B  TCGA_HT_A61B_19991127     85   \n",
       "3925  TCGA_HT_A61B  TCGA_HT_A61B_19991127     86   \n",
       "3926  TCGA_HT_A61B  TCGA_HT_A61B_19991127     87   \n",
       "3927  TCGA_HT_A61B  TCGA_HT_A61B_19991127     88   \n",
       "3928  TCGA_HT_A61B  TCGA_HT_A61B_19991127      9   \n",
       "\n",
       "                               img                           img_mask  \\\n",
       "0      TCGA_CS_4941_19960909_1.tif   TCGA_CS_4941_19960909_1_mask.tif   \n",
       "1     TCGA_CS_4941_19960909_10.tif  TCGA_CS_4941_19960909_10_mask.tif   \n",
       "2     TCGA_CS_4941_19960909_11.tif  TCGA_CS_4941_19960909_11_mask.tif   \n",
       "3     TCGA_CS_4941_19960909_12.tif  TCGA_CS_4941_19960909_12_mask.tif   \n",
       "4     TCGA_CS_4941_19960909_13.tif  TCGA_CS_4941_19960909_13_mask.tif   \n",
       "...                            ...                                ...   \n",
       "3924  TCGA_HT_A61B_19991127_85.tif  TCGA_HT_A61B_19991127_85_mask.tif   \n",
       "3925  TCGA_HT_A61B_19991127_86.tif  TCGA_HT_A61B_19991127_86_mask.tif   \n",
       "3926  TCGA_HT_A61B_19991127_87.tif  TCGA_HT_A61B_19991127_87_mask.tif   \n",
       "3927  TCGA_HT_A61B_19991127_88.tif  TCGA_HT_A61B_19991127_88_mask.tif   \n",
       "3928   TCGA_HT_A61B_19991127_9.tif   TCGA_HT_A61B_19991127_9_mask.tif   \n",
       "\n",
       "      RNASeqCluster  MethylationCluster  miRNACluster  CNCluster  RPPACluster  \\\n",
       "0               2.0                 4.0             2        2.0         -1.0   \n",
       "1               2.0                 4.0             2        2.0         -1.0   \n",
       "2               2.0                 4.0             2        2.0         -1.0   \n",
       "3               2.0                 4.0             2        2.0         -1.0   \n",
       "4               2.0                 4.0             2        2.0         -1.0   \n",
       "...             ...                 ...           ...        ...          ...   \n",
       "3924           -1.0                 5.0             2        1.0         -1.0   \n",
       "3925           -1.0                 5.0             2        1.0         -1.0   \n",
       "3926           -1.0                 5.0             2        1.0         -1.0   \n",
       "3927           -1.0                 5.0             2        1.0         -1.0   \n",
       "3928           -1.0                 5.0             2        1.0         -1.0   \n",
       "\n",
       "      ...  histological_type  neoplasm_histologic_grade  tumor_tissue_site  \\\n",
       "0     ...                1.0                        2.0                1.0   \n",
       "1     ...                1.0                        2.0                1.0   \n",
       "2     ...                1.0                        2.0                1.0   \n",
       "3     ...                1.0                        2.0                1.0   \n",
       "4     ...                1.0                        2.0                1.0   \n",
       "...   ...                ...                        ...                ...   \n",
       "3924  ...               -1.0                       -1.0               -1.0   \n",
       "3925  ...               -1.0                       -1.0               -1.0   \n",
       "3926  ...               -1.0                       -1.0               -1.0   \n",
       "3927  ...               -1.0                       -1.0               -1.0   \n",
       "3928  ...               -1.0                       -1.0               -1.0   \n",
       "\n",
       "      laterality  tumor_location  gender  age_at_initial_pathologic  race  \\\n",
       "0            3.0             2.0     2.0                       67.0   3.0   \n",
       "1            3.0             2.0     2.0                       67.0   3.0   \n",
       "2            3.0             2.0     2.0                       67.0   3.0   \n",
       "3            3.0             2.0     2.0                       67.0   3.0   \n",
       "4            3.0             2.0     2.0                       67.0   3.0   \n",
       "...          ...             ...     ...                        ...   ...   \n",
       "3924        -1.0            -1.0    -1.0                       -1.0  -1.0   \n",
       "3925        -1.0            -1.0    -1.0                       -1.0  -1.0   \n",
       "3926        -1.0            -1.0    -1.0                       -1.0  -1.0   \n",
       "3927        -1.0            -1.0    -1.0                       -1.0  -1.0   \n",
       "3928        -1.0            -1.0    -1.0                       -1.0  -1.0   \n",
       "\n",
       "      ethnicity  death01  \n",
       "0           2.0      1.0  \n",
       "1           2.0      1.0  \n",
       "2           2.0      1.0  \n",
       "3           2.0      1.0  \n",
       "4           2.0      1.0  \n",
       "...         ...      ...  \n",
       "3924       -1.0     -1.0  \n",
       "3925       -1.0     -1.0  \n",
       "3926       -1.0     -1.0  \n",
       "3927       -1.0     -1.0  \n",
       "3928       -1.0     -1.0  \n",
       "\n",
       "[3929 rows x 22 columns]"
      ]
     },
     "execution_count": 12,
     "metadata": {},
     "output_type": "execute_result"
    }
   ],
   "source": [
    "info = df.merge(data, left_on='Patient', right_on='Patient')\n",
    "info"
   ]
  },
  {
   "cell_type": "code",
   "execution_count": 13,
   "id": "c88e2777",
   "metadata": {},
   "outputs": [],
   "source": [
    "info = info.drop(['Patient', 'FullId', 'img_id', 'img', 'img_mask'], axis=1)"
   ]
  },
  {
   "cell_type": "code",
   "execution_count": 14,
   "id": "eec2cb1c",
   "metadata": {},
   "outputs": [
    {
     "data": {
      "text/html": [
       "<div>\n",
       "<style scoped>\n",
       "    .dataframe tbody tr th:only-of-type {\n",
       "        vertical-align: middle;\n",
       "    }\n",
       "\n",
       "    .dataframe tbody tr th {\n",
       "        vertical-align: top;\n",
       "    }\n",
       "\n",
       "    .dataframe thead th {\n",
       "        text-align: right;\n",
       "    }\n",
       "</style>\n",
       "<table border=\"1\" class=\"dataframe\">\n",
       "  <thead>\n",
       "    <tr style=\"text-align: right;\">\n",
       "      <th></th>\n",
       "      <th>Patient</th>\n",
       "      <th>FullId</th>\n",
       "      <th>img_id</th>\n",
       "      <th>img</th>\n",
       "      <th>img_mask</th>\n",
       "    </tr>\n",
       "  </thead>\n",
       "  <tbody>\n",
       "    <tr>\n",
       "      <th>0</th>\n",
       "      <td>TCGA_CS_4941</td>\n",
       "      <td>TCGA_CS_4941_19960909</td>\n",
       "      <td>1</td>\n",
       "      <td>TCGA_CS_4941_19960909_1.tif</td>\n",
       "      <td>TCGA_CS_4941_19960909_1_mask.tif</td>\n",
       "    </tr>\n",
       "    <tr>\n",
       "      <th>1</th>\n",
       "      <td>TCGA_CS_4941</td>\n",
       "      <td>TCGA_CS_4941_19960909</td>\n",
       "      <td>10</td>\n",
       "      <td>TCGA_CS_4941_19960909_10.tif</td>\n",
       "      <td>TCGA_CS_4941_19960909_10_mask.tif</td>\n",
       "    </tr>\n",
       "    <tr>\n",
       "      <th>2</th>\n",
       "      <td>TCGA_CS_4941</td>\n",
       "      <td>TCGA_CS_4941_19960909</td>\n",
       "      <td>11</td>\n",
       "      <td>TCGA_CS_4941_19960909_11.tif</td>\n",
       "      <td>TCGA_CS_4941_19960909_11_mask.tif</td>\n",
       "    </tr>\n",
       "    <tr>\n",
       "      <th>3</th>\n",
       "      <td>TCGA_CS_4941</td>\n",
       "      <td>TCGA_CS_4941_19960909</td>\n",
       "      <td>12</td>\n",
       "      <td>TCGA_CS_4941_19960909_12.tif</td>\n",
       "      <td>TCGA_CS_4941_19960909_12_mask.tif</td>\n",
       "    </tr>\n",
       "    <tr>\n",
       "      <th>4</th>\n",
       "      <td>TCGA_CS_4941</td>\n",
       "      <td>TCGA_CS_4941_19960909</td>\n",
       "      <td>13</td>\n",
       "      <td>TCGA_CS_4941_19960909_13.tif</td>\n",
       "      <td>TCGA_CS_4941_19960909_13_mask.tif</td>\n",
       "    </tr>\n",
       "    <tr>\n",
       "      <th>...</th>\n",
       "      <td>...</td>\n",
       "      <td>...</td>\n",
       "      <td>...</td>\n",
       "      <td>...</td>\n",
       "      <td>...</td>\n",
       "    </tr>\n",
       "    <tr>\n",
       "      <th>3924</th>\n",
       "      <td>TCGA_HT_A61B</td>\n",
       "      <td>TCGA_HT_A61B_19991127</td>\n",
       "      <td>85</td>\n",
       "      <td>TCGA_HT_A61B_19991127_85.tif</td>\n",
       "      <td>TCGA_HT_A61B_19991127_85_mask.tif</td>\n",
       "    </tr>\n",
       "    <tr>\n",
       "      <th>3925</th>\n",
       "      <td>TCGA_HT_A61B</td>\n",
       "      <td>TCGA_HT_A61B_19991127</td>\n",
       "      <td>86</td>\n",
       "      <td>TCGA_HT_A61B_19991127_86.tif</td>\n",
       "      <td>TCGA_HT_A61B_19991127_86_mask.tif</td>\n",
       "    </tr>\n",
       "    <tr>\n",
       "      <th>3926</th>\n",
       "      <td>TCGA_HT_A61B</td>\n",
       "      <td>TCGA_HT_A61B_19991127</td>\n",
       "      <td>87</td>\n",
       "      <td>TCGA_HT_A61B_19991127_87.tif</td>\n",
       "      <td>TCGA_HT_A61B_19991127_87_mask.tif</td>\n",
       "    </tr>\n",
       "    <tr>\n",
       "      <th>3927</th>\n",
       "      <td>TCGA_HT_A61B</td>\n",
       "      <td>TCGA_HT_A61B_19991127</td>\n",
       "      <td>88</td>\n",
       "      <td>TCGA_HT_A61B_19991127_88.tif</td>\n",
       "      <td>TCGA_HT_A61B_19991127_88_mask.tif</td>\n",
       "    </tr>\n",
       "    <tr>\n",
       "      <th>3928</th>\n",
       "      <td>TCGA_HT_A61B</td>\n",
       "      <td>TCGA_HT_A61B_19991127</td>\n",
       "      <td>9</td>\n",
       "      <td>TCGA_HT_A61B_19991127_9.tif</td>\n",
       "      <td>TCGA_HT_A61B_19991127_9_mask.tif</td>\n",
       "    </tr>\n",
       "  </tbody>\n",
       "</table>\n",
       "<p>3929 rows × 5 columns</p>\n",
       "</div>"
      ],
      "text/plain": [
       "           Patient                 FullId img_id  \\\n",
       "0     TCGA_CS_4941  TCGA_CS_4941_19960909      1   \n",
       "1     TCGA_CS_4941  TCGA_CS_4941_19960909     10   \n",
       "2     TCGA_CS_4941  TCGA_CS_4941_19960909     11   \n",
       "3     TCGA_CS_4941  TCGA_CS_4941_19960909     12   \n",
       "4     TCGA_CS_4941  TCGA_CS_4941_19960909     13   \n",
       "...            ...                    ...    ...   \n",
       "3924  TCGA_HT_A61B  TCGA_HT_A61B_19991127     85   \n",
       "3925  TCGA_HT_A61B  TCGA_HT_A61B_19991127     86   \n",
       "3926  TCGA_HT_A61B  TCGA_HT_A61B_19991127     87   \n",
       "3927  TCGA_HT_A61B  TCGA_HT_A61B_19991127     88   \n",
       "3928  TCGA_HT_A61B  TCGA_HT_A61B_19991127      9   \n",
       "\n",
       "                               img                           img_mask  \n",
       "0      TCGA_CS_4941_19960909_1.tif   TCGA_CS_4941_19960909_1_mask.tif  \n",
       "1     TCGA_CS_4941_19960909_10.tif  TCGA_CS_4941_19960909_10_mask.tif  \n",
       "2     TCGA_CS_4941_19960909_11.tif  TCGA_CS_4941_19960909_11_mask.tif  \n",
       "3     TCGA_CS_4941_19960909_12.tif  TCGA_CS_4941_19960909_12_mask.tif  \n",
       "4     TCGA_CS_4941_19960909_13.tif  TCGA_CS_4941_19960909_13_mask.tif  \n",
       "...                            ...                                ...  \n",
       "3924  TCGA_HT_A61B_19991127_85.tif  TCGA_HT_A61B_19991127_85_mask.tif  \n",
       "3925  TCGA_HT_A61B_19991127_86.tif  TCGA_HT_A61B_19991127_86_mask.tif  \n",
       "3926  TCGA_HT_A61B_19991127_87.tif  TCGA_HT_A61B_19991127_87_mask.tif  \n",
       "3927  TCGA_HT_A61B_19991127_88.tif  TCGA_HT_A61B_19991127_88_mask.tif  \n",
       "3928   TCGA_HT_A61B_19991127_9.tif   TCGA_HT_A61B_19991127_9_mask.tif  \n",
       "\n",
       "[3929 rows x 5 columns]"
      ]
     },
     "execution_count": 14,
     "metadata": {},
     "output_type": "execute_result"
    }
   ],
   "source": [
    "df"
   ]
  },
  {
   "cell_type": "code",
   "execution_count": 15,
   "id": "513ab940",
   "metadata": {},
   "outputs": [],
   "source": [
    "h1 = 256\n",
    "w1 = 256"
   ]
  },
  {
   "cell_type": "code",
   "execution_count": 16,
   "id": "850610f0",
   "metadata": {},
   "outputs": [],
   "source": [
    "imgs = []\n",
    "label = []\n",
    "for e in df.values:\n",
    "    imgs.append(e[2])\n",
    "images = []\n",
    "segments = []\n",
    "image_size = (h1,w1)\n",
    "for i_name in df.values:\n",
    "    images.append(image.load_img(PAHT + '\\\\' + i_name[1] + '\\\\' + i_name[3], target_size=image_size))\n",
    "    segments.append(image.load_img(PAHT + '\\\\' + i_name[1] + '\\\\' + i_name[4], target_size=image_size))"
   ]
  },
  {
   "cell_type": "code",
   "execution_count": 17,
   "id": "c4cfb458",
   "metadata": {},
   "outputs": [
    {
     "data": {
      "image/png": "[encoded data removed]",
      "text/plain": [
       "<Figure size 432x288 with 1 Axes>"
      ]
     },
     "metadata": {
      "needs_background": "light"
     },
     "output_type": "display_data"
    }
   ],
   "source": [
    "plt.imshow(images[0].convert('RGBA'))\n",
    "plt.show()"
   ]
  },
  {
   "cell_type": "code",
   "execution_count": 18,
   "id": "e404c83f",
   "metadata": {},
   "outputs": [
    {
     "data": {
      "image/png": "[encoded data removed]",
      "text/plain": [
       "<Figure size 432x288 with 1 Axes>"
      ]
     },
     "metadata": {
      "needs_background": "light"
     },
     "output_type": "display_data"
    }
   ],
   "source": [
    "plt.imshow(segments[0].convert('RGBA'))\n",
    "plt.show()"
   ]
  },
  {
   "cell_type": "code",
   "execution_count": 19,
   "id": "cf4776c4",
   "metadata": {},
   "outputs": [],
   "source": [
    "xTrain_Test = []\n",
    "\n",
    "for img in images:\n",
    "  x = image.img_to_array(img)\n",
    "  xTrain_Test.append(x)\n",
    "\n",
    "xTrain_Test = np.array(xTrain_Test)"
   ]
  },
  {
   "cell_type": "code",
   "execution_count": 20,
   "id": "cc0a58ed",
   "metadata": {},
   "outputs": [
    {
     "name": "stdout",
     "output_type": "stream",
     "text": [
      "(3929, 256, 256, 3)\n"
     ]
    }
   ],
   "source": [
    "print(xTrain_Test.shape)"
   ]
  },
  {
   "cell_type": "code",
   "execution_count": 21,
   "id": "768ba328",
   "metadata": {},
   "outputs": [
    {
     "data": {
      "image/png": "[encoded data removed]",
      "text/plain": [
       "<Figure size 432x288 with 1 Axes>"
      ]
     },
     "metadata": {
      "needs_background": "light"
     },
     "output_type": "display_data"
    }
   ],
   "source": [
    "def Color2index(y):\n",
    "  arr_col=[[255,255,255]]\n",
    "  y_ind = np.zeros((y.shape[0],y.shape[1]))\n",
    "  y_cat = np.zeros((y.shape[0],y.shape[1], len(arr_col)))\n",
    "  i = 1\n",
    "  for i_color in arr_col:\n",
    "    ind_i = np.where((y[:,:,0]==i_color[0])&(y[:,:,1]==i_color[1])&(y[:,:,2]==i_color[2]))\n",
    "    y_ind[ind_i[0],ind_i[1]] = i\n",
    "    y_cat[ind_i[0],ind_i[1], i-1] = 1 \n",
    "    i += 1\n",
    "  \n",
    "  return y_cat, y_ind, i-1\n",
    "cat_yi,ind_yi,h = Color2index(image.img_to_array(segments[0]))\n",
    "plt.imshow(ind_yi.astype(float)/h)\n",
    "plt.show()  "
   ]
  },
  {
   "cell_type": "code",
   "execution_count": 22,
   "id": "4c718a2b",
   "metadata": {},
   "outputs": [
    {
     "data": {
      "text/plain": [
       "0.0"
      ]
     },
     "execution_count": 22,
     "metadata": {},
     "output_type": "execute_result"
    }
   ],
   "source": [
    "np.sum(cat_yi[100:,:100,0])"
   ]
  },
  {
   "cell_type": "code",
   "execution_count": 23,
   "id": "30c37814",
   "metadata": {},
   "outputs": [
    {
     "data": {
      "image/png": "[encoded data removed]",
      "text/plain": [
       "<Figure size 432x288 with 1 Axes>"
      ]
     },
     "metadata": {
      "needs_background": "light"
     },
     "output_type": "display_data"
    },
    {
     "data": {
      "image/png": "[encoded data removed]",
      "text/plain": [
       "<Figure size 432x288 with 1 Axes>"
      ]
     },
     "metadata": {
      "needs_background": "light"
     },
     "output_type": "display_data"
    }
   ],
   "source": [
    "plt.imshow(cat_yi[:100,:100,0])\n",
    "plt.show()\n",
    "plt.imshow(xTrain_Test[0,:100,:100,:]/255)\n",
    "plt.show()"
   ]
  },
  {
   "cell_type": "code",
   "execution_count": 24,
   "id": "282d8d5f",
   "metadata": {},
   "outputs": [
    {
     "data": {
      "text/plain": [
       "(256, 256, 1)"
      ]
     },
     "execution_count": 24,
     "metadata": {},
     "output_type": "execute_result"
    }
   ],
   "source": [
    "cat_yi.shape"
   ]
  },
  {
   "cell_type": "code",
   "execution_count": 25,
   "id": "e12b6c15",
   "metadata": {},
   "outputs": [],
   "source": [
    "yTrain_Test = []\n",
    "\n",
    "for seg in segments:\n",
    "  y_cat,_,_ = Color2index(image.img_to_array(seg))\n",
    "  yTrain_Test.append(y_cat)\n",
    "\n",
    "yTrain_Test = np.array(yTrain_Test)"
   ]
  },
  {
   "cell_type": "code",
   "execution_count": 26,
   "id": "976ef2e3",
   "metadata": {},
   "outputs": [
    {
     "data": {
      "image/png": "[encoded data removed]",
      "text/plain": [
       "<Figure size 432x288 with 1 Axes>"
      ]
     },
     "metadata": {
      "needs_background": "light"
     },
     "output_type": "display_data"
    },
    {
     "data": {
      "image/png": "[encoded data removed]",
      "text/plain": [
       "<Figure size 432x288 with 1 Axes>"
      ]
     },
     "metadata": {
      "needs_background": "light"
     },
     "output_type": "display_data"
    }
   ],
   "source": [
    "plt.imshow(cat_yi[:100,:100,0])\n",
    "plt.show()\n",
    "plt.imshow(xTrain_Test[0,:100,:100,:]/255)\n",
    "plt.show()"
   ]
  },
  {
   "cell_type": "code",
   "execution_count": 27,
   "id": "8ee8e081",
   "metadata": {},
   "outputs": [
    {
     "name": "stdout",
     "output_type": "stream",
     "text": [
      "(3929, 256, 256, 1)\n"
     ]
    }
   ],
   "source": [
    "print(yTrain_Test.shape)"
   ]
  },
  {
   "cell_type": "code",
   "execution_count": 28,
   "id": "529ccbda",
   "metadata": {},
   "outputs": [
    {
     "data": {
      "image/png": "[encoded data removed]",
      "text/plain": [
       "<Figure size 432x288 with 1 Axes>"
      ]
     },
     "metadata": {
      "needs_background": "light"
     },
     "output_type": "display_data"
    },
    {
     "data": {
      "image/png": "[encoded data removed]",
      "text/plain": [
       "<Figure size 432x288 with 1 Axes>"
      ]
     },
     "metadata": {
      "needs_background": "light"
     },
     "output_type": "display_data"
    }
   ],
   "source": [
    "n = 0\n",
    "plt.imshow(segments[n].convert('RGBA'))\n",
    "plt.show()\n",
    "img = yTrain_Test[n][:,:,0]\n",
    "plt.imshow(img.astype(float))\n",
    "plt.show()"
   ]
  },
  {
   "cell_type": "code",
   "execution_count": 29,
   "id": "45538ad9",
   "metadata": {},
   "outputs": [
    {
     "data": {
      "text/plain": [
       "3143"
      ]
     },
     "execution_count": 29,
     "metadata": {},
     "output_type": "execute_result"
    }
   ],
   "source": [
    "N = int(yTrain_Test.shape[0] - yTrain_Test.shape[0] * 0.2)\n",
    "N"
   ]
  },
  {
   "cell_type": "code",
   "execution_count": 30,
   "id": "939ddd8a",
   "metadata": {},
   "outputs": [],
   "source": [
    "yTrain = yTrain_Test[:N,:,:,:]\n",
    "xTrain = xTrain_Test[:N,:,:,:]\n",
    "\n",
    "yTest = yTrain_Test[N:,:,:,:]\n",
    "xTest = xTrain_Test[N:,:,:,:]"
   ]
  },
  {
   "cell_type": "code",
   "execution_count": 31,
   "id": "451f396e",
   "metadata": {},
   "outputs": [],
   "source": [
    "y_train = np.array([int(np.sum(e) > 0.01) for e in yTrain])\n",
    "y_test = np.array([int(np.sum(e) > 0.01) for e in yTest])"
   ]
  },
  {
   "cell_type": "code",
   "execution_count": 32,
   "id": "95b67b06",
   "metadata": {},
   "outputs": [
    {
     "data": {
      "text/plain": [
       "(786, 256, 256, 3)"
      ]
     },
     "execution_count": 32,
     "metadata": {},
     "output_type": "execute_result"
    }
   ],
   "source": [
    "xTest.shape"
   ]
  },
  {
   "cell_type": "code",
   "execution_count": 33,
   "id": "1c632482",
   "metadata": {},
   "outputs": [
    {
     "data": {
      "text/plain": [
       "(786, 256, 256, 1)"
      ]
     },
     "execution_count": 33,
     "metadata": {},
     "output_type": "execute_result"
    }
   ],
   "source": [
    "yTest.shape"
   ]
  },
  {
   "cell_type": "code",
   "execution_count": 34,
   "id": "4ee6528e",
   "metadata": {},
   "outputs": [
    {
     "name": "stdout",
     "output_type": "stream",
     "text": [
      "(3143, 256, 256, 3)\n",
      "(3143, 256, 256, 1)\n"
     ]
    }
   ],
   "source": [
    "print(xTrain.shape)\n",
    "print(yTrain.shape)"
   ]
  },
  {
   "cell_type": "code",
   "execution_count": 35,
   "id": "8d4323f2",
   "metadata": {},
   "outputs": [
    {
     "data": {
      "text/plain": [
       "array([[ 2.,  4.,  2., ...,  3.,  2.,  1.],\n",
       "       [ 2.,  4.,  2., ...,  3.,  2.,  1.],\n",
       "       [ 2.,  4.,  2., ...,  3.,  2.,  1.],\n",
       "       ...,\n",
       "       [-1.,  5.,  2., ..., -1., -1., -1.],\n",
       "       [-1.,  5.,  2., ..., -1., -1., -1.],\n",
       "       [-1.,  5.,  2., ..., -1., -1., -1.]])"
      ]
     },
     "execution_count": 35,
     "metadata": {},
     "output_type": "execute_result"
    }
   ],
   "source": [
    "info.values"
   ]
  },
  {
   "cell_type": "code",
   "execution_count": 36,
   "id": "80335a06",
   "metadata": {},
   "outputs": [],
   "source": [
    "from tensorflow.keras.utils import plot_model"
   ]
  },
  {
   "cell_type": "code",
   "execution_count": 37,
   "id": "e469e67a",
   "metadata": {},
   "outputs": [],
   "source": [
    "import tensorflow as tf"
   ]
  },
  {
   "cell_type": "code",
   "execution_count": 38,
   "id": "e3adb0f9",
   "metadata": {},
   "outputs": [],
   "source": [
    "from tensorflow.keras.preprocessing.image import ImageDataGenerator\n",
    "from tensorflow.keras.models import Sequential\n",
    "from tensorflow.keras.layers import Dense, Dropout, Activation, Flatten\n",
    "from tensorflow.keras.layers import Conv2D, MaxPooling2D\n",
    "from tensorflow.keras.layers import Average\n",
    "from keras import models, layers\n",
    "import keras\n",
    "import os"
   ]
  },
  {
   "cell_type": "code",
   "execution_count": 39,
   "id": "2744b3d4",
   "metadata": {},
   "outputs": [],
   "source": [
    "batch_size = 32\n",
    "num_classes = 2\n",
    "epochs = 1\n",
    "data_augmentation = True\n",
    "num_predictions = 20"
   ]
  },
  {
   "cell_type": "code",
   "execution_count": 40,
   "id": "bc6b07f0",
   "metadata": {},
   "outputs": [
    {
     "data": {
      "text/plain": [
       "(3929, 17)"
      ]
     },
     "execution_count": 40,
     "metadata": {},
     "output_type": "execute_result"
    }
   ],
   "source": [
    "info.values.shape"
   ]
  },
  {
   "cell_type": "code",
   "execution_count": 41,
   "id": "88fb7661",
   "metadata": {},
   "outputs": [
    {
     "data": {
      "text/plain": [
       "17"
      ]
     },
     "execution_count": 41,
     "metadata": {},
     "output_type": "execute_result"
    }
   ],
   "source": [
    "info.values.shape[1]"
   ]
  },
  {
   "cell_type": "code",
   "execution_count": 42,
   "id": "90a013e9",
   "metadata": {},
   "outputs": [],
   "source": [
    "x_trian_info = info.values[:N]\n",
    "x_test_info = info[N:]"
   ]
  },
  {
   "cell_type": "code",
   "execution_count": 43,
   "id": "38652420",
   "metadata": {},
   "outputs": [
    {
     "data": {
      "text/plain": [
       "(3143, 17)"
      ]
     },
     "execution_count": 43,
     "metadata": {},
     "output_type": "execute_result"
    }
   ],
   "source": [
    "x_trian_info.shape"
   ]
  },
  {
   "cell_type": "code",
   "execution_count": 44,
   "id": "84460839",
   "metadata": {},
   "outputs": [
    {
     "data": {
      "text/plain": [
       "(3143, 256, 256, 3)"
      ]
     },
     "execution_count": 44,
     "metadata": {},
     "output_type": "execute_result"
    }
   ],
   "source": [
    "xTrain.shape"
   ]
  },
  {
   "cell_type": "code",
   "execution_count": 45,
   "id": "411ca392",
   "metadata": {},
   "outputs": [
    {
     "name": "stdout",
     "output_type": "stream",
     "text": [
      "Model: \"model\"\n",
      "__________________________________________________________________________________________________\n",
      "Layer (type)                    Output Shape         Param #     Connected to                     \n",
      "==================================================================================================\n",
      "input_2 (InputLayer)            [(None, 256, 256, 3) 0                                            \n",
      "__________________________________________________________________________________________________\n",
      "conv2d (Conv2D)                 (None, 256, 256, 32) 896         input_2[0][0]                    \n",
      "__________________________________________________________________________________________________\n",
      "batch_normalization (BatchNorma (None, 256, 256, 32) 128         conv2d[0][0]                     \n",
      "__________________________________________________________________________________________________\n",
      "activation_4 (Activation)       (None, 256, 256, 32) 0           batch_normalization[0][0]        \n",
      "__________________________________________________________________________________________________\n",
      "conv2d_1 (Conv2D)               (None, 254, 254, 32) 9248        activation_4[0][0]               \n",
      "__________________________________________________________________________________________________\n",
      "activation_5 (Activation)       (None, 254, 254, 32) 0           conv2d_1[0][0]                   \n",
      "__________________________________________________________________________________________________\n",
      "max_pooling2d (MaxPooling2D)    (None, 127, 127, 32) 0           activation_5[0][0]               \n",
      "__________________________________________________________________________________________________\n",
      "dropout (Dropout)               (None, 127, 127, 32) 0           max_pooling2d[0][0]              \n",
      "__________________________________________________________________________________________________\n",
      "conv2d_2 (Conv2D)               (None, 127, 127, 32) 9248        dropout[0][0]                    \n",
      "__________________________________________________________________________________________________\n",
      "batch_normalization_1 (BatchNor (None, 127, 127, 32) 128         conv2d_2[0][0]                   \n",
      "__________________________________________________________________________________________________\n",
      "activation_6 (Activation)       (None, 127, 127, 32) 0           batch_normalization_1[0][0]      \n",
      "__________________________________________________________________________________________________\n",
      "conv2d_3 (Conv2D)               (None, 125, 125, 32) 9248        activation_6[0][0]               \n",
      "__________________________________________________________________________________________________\n",
      "activation_7 (Activation)       (None, 125, 125, 32) 0           conv2d_3[0][0]                   \n",
      "__________________________________________________________________________________________________\n",
      "max_pooling2d_1 (MaxPooling2D)  (None, 62, 62, 32)   0           activation_7[0][0]               \n",
      "__________________________________________________________________________________________________\n",
      "dropout_1 (Dropout)             (None, 62, 62, 32)   0           max_pooling2d_1[0][0]            \n",
      "__________________________________________________________________________________________________\n",
      "conv2d_4 (Conv2D)               (None, 62, 62, 64)   18496       dropout_1[0][0]                  \n",
      "__________________________________________________________________________________________________\n",
      "batch_normalization_2 (BatchNor (None, 62, 62, 64)   256         conv2d_4[0][0]                   \n",
      "__________________________________________________________________________________________________\n",
      "activation_8 (Activation)       (None, 62, 62, 64)   0           batch_normalization_2[0][0]      \n",
      "__________________________________________________________________________________________________\n",
      "conv2d_5 (Conv2D)               (None, 60, 60, 64)   36928       activation_8[0][0]               \n",
      "__________________________________________________________________________________________________\n",
      "activation_9 (Activation)       (None, 60, 60, 64)   0           conv2d_5[0][0]                   \n",
      "__________________________________________________________________________________________________\n",
      "max_pooling2d_2 (MaxPooling2D)  (None, 30, 30, 64)   0           activation_9[0][0]               \n",
      "__________________________________________________________________________________________________\n",
      "dropout_2 (Dropout)             (None, 30, 30, 64)   0           max_pooling2d_2[0][0]            \n",
      "__________________________________________________________________________________________________\n",
      "conv2d_6 (Conv2D)               (None, 30, 30, 64)   36928       dropout_2[0][0]                  \n",
      "__________________________________________________________________________________________________\n",
      "batch_normalization_3 (BatchNor (None, 30, 30, 64)   256         conv2d_6[0][0]                   \n",
      "__________________________________________________________________________________________________\n",
      "input_1 (InputLayer)            [(None, 17)]         0                                            \n",
      "__________________________________________________________________________________________________\n",
      "activation_10 (Activation)      (None, 30, 30, 64)   0           batch_normalization_3[0][0]      \n",
      "__________________________________________________________________________________________________\n",
      "dense (Dense)                   (None, 256)          4608        input_1[0][0]                    \n",
      "__________________________________________________________________________________________________\n",
      "conv2d_7 (Conv2D)               (None, 28, 28, 64)   36928       activation_10[0][0]              \n",
      "__________________________________________________________________________________________________\n",
      "activation (Activation)         (None, 256)          0           dense[0][0]                      \n",
      "__________________________________________________________________________________________________\n",
      "activation_11 (Activation)      (None, 28, 28, 64)   0           conv2d_7[0][0]                   \n",
      "__________________________________________________________________________________________________\n",
      "dense_1 (Dense)                 (None, 128)          32896       activation[0][0]                 \n",
      "__________________________________________________________________________________________________\n",
      "max_pooling2d_3 (MaxPooling2D)  (None, 14, 14, 64)   0           activation_11[0][0]              \n",
      "__________________________________________________________________________________________________\n",
      "activation_1 (Activation)       (None, 128)          0           dense_1[0][0]                    \n",
      "__________________________________________________________________________________________________\n",
      "dropout_3 (Dropout)             (None, 14, 14, 64)   0           max_pooling2d_3[0][0]            \n",
      "__________________________________________________________________________________________________\n",
      "dense_2 (Dense)                 (None, 32)           4128        activation_1[0][0]               \n",
      "__________________________________________________________________________________________________\n",
      "flatten (Flatten)               (None, 12544)        0           dropout_3[0][0]                  \n",
      "__________________________________________________________________________________________________\n",
      "activation_2 (Activation)       (None, 32)           0           dense_2[0][0]                    \n",
      "__________________________________________________________________________________________________\n",
      "dense_4 (Dense)                 (None, 128)          1605760     flatten[0][0]                    \n",
      "__________________________________________________________________________________________________\n",
      "dense_3 (Dense)                 (None, 128)          4224        activation_2[0][0]               \n",
      "__________________________________________________________________________________________________\n",
      "activation_12 (Activation)      (None, 128)          0           dense_4[0][0]                    \n",
      "__________________________________________________________________________________________________\n",
      "activation_3 (Activation)       (None, 128)          0           dense_3[0][0]                    \n",
      "__________________________________________________________________________________________________\n",
      "concatenate (Concatenate)       (None, 256)          0           activation_12[0][0]              \n",
      "                                                                 activation_3[0][0]               \n",
      "__________________________________________________________________________________________________\n",
      "dense_5 (Dense)                 (None, 64)           16448       concatenate[0][0]                \n",
      "__________________________________________________________________________________________________\n",
      "activation_13 (Activation)      (None, 64)           0           dense_5[0][0]                    \n",
      "__________________________________________________________________________________________________\n",
      "dense_6 (Dense)                 (None, 1)            65          activation_13[0][0]              \n",
      "__________________________________________________________________________________________________\n",
      "activation_14 (Activation)      (None, 1)            0           dense_6[0][0]                    \n",
      "==================================================================================================\n",
      "Total params: 1,826,817\n",
      "Trainable params: 1,826,433\n",
      "Non-trainable params: 384\n",
      "__________________________________________________________________________________________________\n"
     ]
    }
   ],
   "source": [
    "info_input = Input((info.values.shape[1]))\n",
    "n = Dense(256)(info_input)\n",
    "n = Activation('relu')(n)\n",
    "n = Dense(128)(n)\n",
    "n = Activation('relu')(n)\n",
    "n = Dense(32)(n)\n",
    "n = Activation('sigmoid')(n)\n",
    "n = Dense(128)(n)\n",
    "info_output = Activation('sigmoid')(n)\n",
    "\n",
    "\n",
    "\n",
    "img_input = Input((h1, w1, 3))\n",
    "\n",
    "# конфигурирование слоев нейросети\n",
    "m = Conv2D(32, (3, 3), padding='same')(img_input)\n",
    "m = BatchNormalization()(m)\n",
    "m = Activation('relu')(m)\n",
    "m = Conv2D(32, (3, 3))(m)\n",
    "m = Activation('relu')(m)\n",
    "m = MaxPooling2D(pool_size=(2, 2))(m)\n",
    "m = Dropout(0.25)(m)\n",
    "\n",
    "m = Conv2D(32, (3, 3), padding='same')(m)\n",
    "m = BatchNormalization()(m)\n",
    "m = Activation('relu')(m)\n",
    "m = Conv2D(32, (3, 3))(m)\n",
    "m = Activation('relu')(m)\n",
    "m = MaxPooling2D(pool_size=(2, 2))(m)\n",
    "m = Dropout(0.25)(m)\n",
    "\n",
    "\n",
    "m = Conv2D(64, (3, 3), padding='same')(m)\n",
    "m = BatchNormalization()(m)\n",
    "m = Activation('relu')(m)\n",
    "m = Conv2D(64, (3, 3))(m)\n",
    "m = Activation('relu')(m)\n",
    "m = MaxPooling2D(pool_size=(2, 2))(m)\n",
    "m = Dropout(0.25)(m)\n",
    "\n",
    "\n",
    "m = Conv2D(64, (3, 3), padding='same')(m)\n",
    "m = BatchNormalization()(m)\n",
    "m = Activation('relu')(m)\n",
    "m = Conv2D(64, (3, 3))(m)\n",
    "m = Activation('relu')(m)\n",
    "m = MaxPooling2D(pool_size=(2, 2))(m)\n",
    "m = Dropout(0.25)(m)\n",
    "\n",
    "# полносвязные слои нейронной сети\n",
    "flatten_layer = Flatten()\n",
    "m = flatten_layer(m)\n",
    "m = Dense(128)(m)\n",
    "m = Activation('sigmoid')(m)\n",
    "m = concatenate([m, info_output])\n",
    "m = Dense(64)(m)\n",
    "m = Activation('sigmoid')(m)\n",
    "\n",
    "m = Dense(1)(m)\n",
    "m = Activation('sigmoid')(m)\n",
    "\n",
    "model = Model([img_input, info_input], m)\n",
    "\n",
    "# инициализация RMSprop optimizer\n",
    "# opt = keras.optimizers.RMSprop(lr=0.0001, decay=1e-6)\n",
    "\n",
    "# компиляция модели\n",
    "model.compile(loss='mse',\n",
    "              optimizer=Adam(),\n",
    "              metrics=['accuracy'])\n",
    "\n",
    "model.summary()"
   ]
  },
  {
   "cell_type": "code",
   "execution_count": 46,
   "id": "f5cb7b4f",
   "metadata": {},
   "outputs": [
    {
     "name": "stdout",
     "output_type": "stream",
     "text": [
      "('You must install pydot (`pip install pydot`) and install graphviz (see instructions at https://graphviz.gitlab.io/download/) ', 'for plot_model/model_to_dot to work.')\n"
     ]
    }
   ],
   "source": [
    "plot_model(model, to_file='mode.png')"
   ]
  },
  {
   "cell_type": "code",
   "execution_count": 65,
   "id": "51d0fd03",
   "metadata": {},
   "outputs": [
    {
     "name": "stdout",
     "output_type": "stream",
     "text": [
      "1572/1572 [==============================] - 44s 28ms/step - loss: 0.1592 - accuracy: 0.7588 - val_loss: 0.1606 - val_accuracy: 0.7824\n"
     ]
    },
    {
     "data": {
      "text/plain": [
       "<tensorflow.python.keras.callbacks.History at 0x24df4d8e550>"
      ]
     },
     "execution_count": 65,
     "metadata": {},
     "output_type": "execute_result"
    }
   ],
   "source": [
    "model.fit([xTrain, x_trian_info], y_train,\n",
    "              batch_size=2,\n",
    "              epochs=epochs,\n",
    "              validation_data=([xTest, x_test_info], y_test))"
   ]
  },
  {
   "cell_type": "code",
   "execution_count": 61,
   "id": "0400f34c",
   "metadata": {},
   "outputs": [],
   "source": [
    "#model.save_weights('.\\model_best.mdw')"
   ]
  },
  {
   "cell_type": "code",
   "execution_count": 46,
   "id": "0d3446e5",
   "metadata": {},
   "outputs": [
    {
     "data": {
      "text/plain": [
       "<tensorflow.python.training.tracking.util.CheckpointLoadStatus at 0x21b6e420e80>"
      ]
     },
     "execution_count": 46,
     "metadata": {},
     "output_type": "execute_result"
    }
   ],
   "source": [
    "model.load_weights('.\\model_best.mdw')"
   ]
  },
  {
   "cell_type": "code",
   "execution_count": 47,
   "id": "fc5e57a6",
   "metadata": {},
   "outputs": [],
   "source": [
    "pred = model.predict([xTest, x_test_info])"
   ]
  },
  {
   "cell_type": "code",
   "execution_count": 48,
   "id": "3e6cbad0",
   "metadata": {},
   "outputs": [],
   "source": [
    "predTr = model.predict([xTrain, x_trian_info])"
   ]
  },
  {
   "cell_type": "code",
   "execution_count": 49,
   "id": "e9d70542",
   "metadata": {},
   "outputs": [
    {
     "data": {
      "text/plain": [
       "array([[377,  67],\n",
       "       [102, 240]], dtype=int64)"
      ]
     },
     "execution_count": 49,
     "metadata": {},
     "output_type": "execute_result"
    }
   ],
   "source": [
    "from sklearn.metrics import confusion_matrix\n",
    "\n",
    "line = 0.5\n",
    "confusion_matrix((pred > line).astype('int32'), y_test)"
   ]
  },
  {
   "cell_type": "code",
   "execution_count": 50,
   "id": "f09a5f47",
   "metadata": {},
   "outputs": [],
   "source": [
    "el = []\n",
    "for l1,l2 in zip((pred > line).astype('int32'), y_test):\n",
    "    if l1 == l2:        \n",
    "        el.append(1)\n",
    "    else:\n",
    "        el.append(0)"
   ]
  },
  {
   "cell_type": "code",
   "execution_count": 51,
   "id": "7a04d32f",
   "metadata": {},
   "outputs": [
    {
     "data": {
      "text/plain": [
       "0.7849872773536896"
      ]
     },
     "execution_count": 51,
     "metadata": {},
     "output_type": "execute_result"
    }
   ],
   "source": [
    "sum(el)/len(el)"
   ]
  },
  {
   "cell_type": "code",
   "execution_count": 52,
   "id": "89d552dd",
   "metadata": {},
   "outputs": [],
   "source": [
    "idx_tst = [pos for pos, e in enumerate((pred > line).astype('int32')) if e == 0]\n",
    "idx_tr = [pos for pos, e in enumerate((predTr > line).astype('int32')) if e == 0]"
   ]
  },
  {
   "cell_type": "code",
   "execution_count": 53,
   "id": "24de5c3d",
   "metadata": {},
   "outputs": [],
   "source": [
    "xTrain = np.delete(xTrain, idx_tr, axis=0)\n",
    "yTrain = np.delete(yTrain, idx_tr, axis=0)\n",
    "xTest = np.delete(xTest, idx_tst, axis=0)\n",
    "yTest = np.delete(yTest, idx_tst, axis=0)"
   ]
  },
  {
   "cell_type": "code",
   "execution_count": 54,
   "id": "c32355d3",
   "metadata": {},
   "outputs": [
    {
     "data": {
      "text/plain": [
       "(1424, 256, 256, 3)"
      ]
     },
     "execution_count": 54,
     "metadata": {},
     "output_type": "execute_result"
    }
   ],
   "source": [
    "xTrain.shape"
   ]
  },
  {
   "cell_type": "code",
   "execution_count": 55,
   "id": "102ae76c",
   "metadata": {},
   "outputs": [
    {
     "data": {
      "text/plain": [
       "(342, 256, 256, 3)"
      ]
     },
     "execution_count": 55,
     "metadata": {},
     "output_type": "execute_result"
    }
   ],
   "source": [
    "xTest.shape"
   ]
  },
  {
   "cell_type": "code",
   "execution_count": 56,
   "id": "89b4d512",
   "metadata": {},
   "outputs": [],
   "source": [
    "del model"
   ]
  },
  {
   "cell_type": "code",
   "execution_count": 91,
   "id": "b47da24a",
   "metadata": {},
   "outputs": [],
   "source": [
    "\n",
    "def Unet(num_classes = 14, input_shape= (200, 600, 3)):\n",
    "    img_input = Input(input_shape)\n",
    "\n",
    "    # Block 1\n",
    "    x = Conv2D(64, (3, 3), padding='same', name='block1_conv1')(img_input)\n",
    "    x = BatchNormalization()(x)\n",
    "    x = Activation('relu')(x)\n",
    "\n",
    "    x = Conv2D(64, (3, 3), padding='same', name='block1_conv2')(x)\n",
    "    x = BatchNormalization()(x)\n",
    "    # запомним тензор для переноса\n",
    "    block_1_out = Activation('relu')(x)\n",
    "\n",
    "    x = MaxPooling2D()(block_1_out) # 100x300\n",
    "\n",
    "    # Block 2\n",
    "    x = Conv2D(128, (3, 3), padding='same', name='block2_conv1')(x)\n",
    "    x = BatchNormalization()(x)\n",
    "    x = Activation('relu')(x)\n",
    "\n",
    "    x = Conv2D(128, (3, 3), padding='same', name='block2_conv2')(x)\n",
    "    x = BatchNormalization()(x)\n",
    "    # запомним тензор для переноса\n",
    "    block_2_out = Activation('relu')(x)\n",
    "\n",
    "    x = MaxPooling2D()(block_2_out) # 50x150\n",
    "\n",
    "    # Block 3\n",
    "    x = Conv2D(256, (3, 3), padding='same', name='block3_conv1')(x)\n",
    "    x = BatchNormalization()(x)\n",
    "    x = Activation('relu')(x)\n",
    "\n",
    "    x = Conv2D(256, (3, 3), padding='same', name='block3_conv2')(x)\n",
    "    x = BatchNormalization()(x)\n",
    "    x = Activation('relu')(x)\n",
    "\n",
    "    x = Conv2D(256, (3, 3), padding='same', name='block3_conv3')(x)\n",
    "    x = BatchNormalization()(x)\n",
    "    # запомним тензор для переноса\n",
    "    block_3_out = Activation('relu')(x)\n",
    "\n",
    "    x = MaxPooling2D()(block_3_out) #25x75\n",
    "\n",
    "    # Block 4\n",
    "    x = Conv2D(512, (3, 3), padding='same', name='block4_conv1')(x)\n",
    "    x = BatchNormalization()(x)\n",
    "    x = Activation('relu')(x)\n",
    "\n",
    "    x = Conv2D(512, (3, 3), padding='same', name='block4_conv2')(x)\n",
    "    x = BatchNormalization()(x)\n",
    "    x = Activation('relu')(x)\n",
    "\n",
    "    x = Conv2D(512, (3, 3), padding='same', name='block4_conv3')(x)\n",
    "    x = BatchNormalization()(x)\n",
    "    # запомним тензор для переноса\n",
    "    block_4_out = Activation('relu')(x)\n",
    "\n",
    "    #x = MaxPooling2D()(block_4_out)\n",
    "\n",
    "    # Block 5\n",
    "    x = Conv2D(512, (3, 3), padding='same', name='block5_conv1')(x)\n",
    "    x = BatchNormalization()(x)\n",
    "    x = Activation('relu')(x)\n",
    "\n",
    "    #x = Conv2D(512, (3, 3), padding='same', name='block5_conv2')(x)\n",
    "    #x = BatchNormalization()(x)\n",
    "    #x = Activation('relu')(x)\n",
    "\n",
    "    #x = Conv2D(512, (3, 3), padding='same', name='block5_conv3')(x)\n",
    "    #x = BatchNormalization()(x)\n",
    "    #x = Activation('relu')(x)\n",
    "\n",
    "\n",
    "    # Load pretrained weights.\n",
    "    #for_pretrained_weight = MaxPooling2D()(x)\n",
    "    #vgg16 = Model(img_input, for_pretrained_weight)\n",
    "    #vgg16.load_weights('vgg16_weights_tf_dim_ordering_tf_kernels_notop.h5', by_name=True)\n",
    "\n",
    "    # UP 1\n",
    "    #x = Conv2DTranspose(512, (2, 2), strides=(2, 2), padding='same')(x)\n",
    "    #x = BatchNormalization()(x)\n",
    "    #x = Activation('relu')(x)\n",
    "\n",
    "    #x = concatenate([x, block_4_out])\n",
    "    #x = Conv2D(512, (3, 3), padding='same')(x)\n",
    "    #x = BatchNormalization()(x)\n",
    "    #x = Activation('relu')(x)\n",
    "\n",
    "    #x = Conv2D(512, (3, 3), padding='same')(x)\n",
    "    #x = BatchNormalization()(x)\n",
    "    #x = Activation('relu')(x)\n",
    "\n",
    "    # UP 2\n",
    "    x = Conv2DTranspose(256, (2, 2), strides=(2, 2), padding='same')(x) #50x150\n",
    "    x = BatchNormalization()(x)\n",
    "    x = Activation('relu')(x)\n",
    "\n",
    "    # добавили перенос из понижаюшего плеча\n",
    "    x = concatenate([x, block_3_out])\n",
    "    x = Conv2D(256, (3, 3), padding='same')(x)\n",
    "    x = BatchNormalization()(x)\n",
    "    x = Activation('relu')(x)\n",
    "    \n",
    "    x = Conv2D(512, (3, 3), padding='same')(x)\n",
    "    x = BatchNormalization()(x)\n",
    "    x = Activation('relu')(x)\n",
    "\n",
    "    x = Conv2D(256, (3, 3), padding='same')(x)\n",
    "    x = BatchNormalization()(x)\n",
    "    x = Activation('relu')(x)\n",
    "\n",
    "    # UP 3\n",
    "    x = Conv2DTranspose(128, (2, 2), strides=(2, 2), padding='same')(x) # 100x300\n",
    "    x = BatchNormalization()(x)\n",
    "    x = Activation('relu')(x)\n",
    "\n",
    "    # добавили перенос из понижаюшего плеча\n",
    "    x = concatenate([x, block_2_out])\n",
    "    x = Conv2D(128, (3, 3), padding='same')(x)\n",
    "    x = BatchNormalization()(x)\n",
    "    x = Activation('relu')(x)\n",
    "    \n",
    "    x = Conv2D(512, (3, 3), padding='same')(x)\n",
    "    x = BatchNormalization()(x)\n",
    "    x = Activation('relu')(x)\n",
    "\n",
    "    x = Conv2D(128, (3, 3), padding='same')(x)\n",
    "    x = BatchNormalization()(x)\n",
    "    x = Activation('relu')(x)\n",
    "\n",
    "    # UP 4\n",
    "    x = Conv2DTranspose(64, (2, 2), strides=(2, 2), padding='same')(x) # 200x600\n",
    "    x = BatchNormalization()(x)\n",
    "    x = Activation('relu')(x)\n",
    "\n",
    "    # добавили перенос из понижаюшего плеча\n",
    "    x = concatenate([x, block_1_out])\n",
    "    x = Conv2D(64, (3, 3), padding='same')(x)\n",
    "    x = BatchNormalization()(x)\n",
    "    x = Activation('relu')(x)\n",
    "\n",
    "    x = Conv2D(64, (3, 3), padding='same')(x)\n",
    "    x = BatchNormalization()(x)\n",
    "    x = Activation('relu')(x)\n",
    "\n",
    "    \n",
    "    x = Conv2D(32, (3, 3), padding='same')(x)\n",
    "    x = BatchNormalization()(x)\n",
    "    x = Activation('relu')(x)\n",
    "    \n",
    "    x = Conv2D(16, (3, 3), padding='same')(x)\n",
    "    x = BatchNormalization()(x)\n",
    "    x = Activation('sigmoid')(x)\n",
    "    \n",
    "    x = Conv2D(8, (3, 3), padding='same')(x)\n",
    "    x = BatchNormalization()(x)\n",
    "    x = Activation('sigmoid')(x)\n",
    "    \n",
    "    # слой классификатор\n",
    "    x = Conv2D(num_classes, (3, 3), activation='sigmoid', padding='same')(x)\n",
    "\n",
    "    model = Model(img_input, x)\n",
    "    model.compile(optimizer=Adam(),\n",
    "                  loss='categorical_crossentropy',\n",
    "                  metrics=['accuracy'])\n",
    "    model.summary()\n",
    "    return model"
   ]
  },
  {
   "cell_type": "code",
   "execution_count": 92,
   "id": "5d69ed1c",
   "metadata": {},
   "outputs": [
    {
     "name": "stdout",
     "output_type": "stream",
     "text": [
      "Model: \"model_2\"\n",
      "__________________________________________________________________________________________________\n",
      "Layer (type)                    Output Shape         Param #     Connected to                     \n",
      "==================================================================================================\n",
      "input_4 (InputLayer)            [(None, 256, 256, 3) 0                                            \n",
      "__________________________________________________________________________________________________\n",
      "block1_conv1 (Conv2D)           (None, 256, 256, 64) 1792        input_4[0][0]                    \n",
      "__________________________________________________________________________________________________\n",
      "batch_normalization_26 (BatchNo (None, 256, 256, 64) 256         block1_conv1[0][0]               \n",
      "__________________________________________________________________________________________________\n",
      "activation_37 (Activation)      (None, 256, 256, 64) 0           batch_normalization_26[0][0]     \n",
      "__________________________________________________________________________________________________\n",
      "block1_conv2 (Conv2D)           (None, 256, 256, 64) 36928       activation_37[0][0]              \n",
      "__________________________________________________________________________________________________\n",
      "batch_normalization_27 (BatchNo (None, 256, 256, 64) 256         block1_conv2[0][0]               \n",
      "__________________________________________________________________________________________________\n",
      "activation_38 (Activation)      (None, 256, 256, 64) 0           batch_normalization_27[0][0]     \n",
      "__________________________________________________________________________________________________\n",
      "max_pooling2d_7 (MaxPooling2D)  (None, 128, 128, 64) 0           activation_38[0][0]              \n",
      "__________________________________________________________________________________________________\n",
      "block2_conv1 (Conv2D)           (None, 128, 128, 128 73856       max_pooling2d_7[0][0]            \n",
      "__________________________________________________________________________________________________\n",
      "batch_normalization_28 (BatchNo (None, 128, 128, 128 512         block2_conv1[0][0]               \n",
      "__________________________________________________________________________________________________\n",
      "activation_39 (Activation)      (None, 128, 128, 128 0           batch_normalization_28[0][0]     \n",
      "__________________________________________________________________________________________________\n",
      "block2_conv2 (Conv2D)           (None, 128, 128, 128 147584      activation_39[0][0]              \n",
      "__________________________________________________________________________________________________\n",
      "batch_normalization_29 (BatchNo (None, 128, 128, 128 512         block2_conv2[0][0]               \n",
      "__________________________________________________________________________________________________\n",
      "activation_40 (Activation)      (None, 128, 128, 128 0           batch_normalization_29[0][0]     \n",
      "__________________________________________________________________________________________________\n",
      "max_pooling2d_8 (MaxPooling2D)  (None, 64, 64, 128)  0           activation_40[0][0]              \n",
      "__________________________________________________________________________________________________\n",
      "block3_conv1 (Conv2D)           (None, 64, 64, 256)  295168      max_pooling2d_8[0][0]            \n",
      "__________________________________________________________________________________________________\n",
      "batch_normalization_30 (BatchNo (None, 64, 64, 256)  1024        block3_conv1[0][0]               \n",
      "__________________________________________________________________________________________________\n",
      "activation_41 (Activation)      (None, 64, 64, 256)  0           batch_normalization_30[0][0]     \n",
      "__________________________________________________________________________________________________\n",
      "block3_conv2 (Conv2D)           (None, 64, 64, 256)  590080      activation_41[0][0]              \n",
      "__________________________________________________________________________________________________\n",
      "batch_normalization_31 (BatchNo (None, 64, 64, 256)  1024        block3_conv2[0][0]               \n",
      "__________________________________________________________________________________________________\n",
      "activation_42 (Activation)      (None, 64, 64, 256)  0           batch_normalization_31[0][0]     \n",
      "__________________________________________________________________________________________________\n",
      "block3_conv3 (Conv2D)           (None, 64, 64, 256)  590080      activation_42[0][0]              \n",
      "__________________________________________________________________________________________________\n",
      "batch_normalization_32 (BatchNo (None, 64, 64, 256)  1024        block3_conv3[0][0]               \n",
      "__________________________________________________________________________________________________\n",
      "activation_43 (Activation)      (None, 64, 64, 256)  0           batch_normalization_32[0][0]     \n",
      "__________________________________________________________________________________________________\n",
      "max_pooling2d_9 (MaxPooling2D)  (None, 32, 32, 256)  0           activation_43[0][0]              \n",
      "__________________________________________________________________________________________________\n",
      "block4_conv1 (Conv2D)           (None, 32, 32, 512)  1180160     max_pooling2d_9[0][0]            \n",
      "__________________________________________________________________________________________________\n",
      "batch_normalization_33 (BatchNo (None, 32, 32, 512)  2048        block4_conv1[0][0]               \n",
      "__________________________________________________________________________________________________\n",
      "activation_44 (Activation)      (None, 32, 32, 512)  0           batch_normalization_33[0][0]     \n",
      "__________________________________________________________________________________________________\n",
      "block4_conv2 (Conv2D)           (None, 32, 32, 512)  2359808     activation_44[0][0]              \n",
      "__________________________________________________________________________________________________\n",
      "batch_normalization_34 (BatchNo (None, 32, 32, 512)  2048        block4_conv2[0][0]               \n",
      "__________________________________________________________________________________________________\n",
      "activation_45 (Activation)      (None, 32, 32, 512)  0           batch_normalization_34[0][0]     \n",
      "__________________________________________________________________________________________________\n",
      "block4_conv3 (Conv2D)           (None, 32, 32, 512)  2359808     activation_45[0][0]              \n",
      "__________________________________________________________________________________________________\n",
      "batch_normalization_35 (BatchNo (None, 32, 32, 512)  2048        block4_conv3[0][0]               \n",
      "__________________________________________________________________________________________________\n",
      "block5_conv1 (Conv2D)           (None, 32, 32, 512)  2359808     batch_normalization_35[0][0]     \n",
      "__________________________________________________________________________________________________\n",
      "batch_normalization_36 (BatchNo (None, 32, 32, 512)  2048        block5_conv1[0][0]               \n",
      "__________________________________________________________________________________________________\n",
      "activation_47 (Activation)      (None, 32, 32, 512)  0           batch_normalization_36[0][0]     \n",
      "__________________________________________________________________________________________________\n",
      "conv2d_transpose_3 (Conv2DTrans (None, 64, 64, 256)  524544      activation_47[0][0]              \n",
      "__________________________________________________________________________________________________\n",
      "batch_normalization_37 (BatchNo (None, 64, 64, 256)  1024        conv2d_transpose_3[0][0]         \n",
      "__________________________________________________________________________________________________\n",
      "activation_48 (Activation)      (None, 64, 64, 256)  0           batch_normalization_37[0][0]     \n",
      "__________________________________________________________________________________________________\n",
      "concatenate_4 (Concatenate)     (None, 64, 64, 512)  0           activation_48[0][0]              \n",
      "                                                                 activation_43[0][0]              \n",
      "__________________________________________________________________________________________________\n",
      "conv2d_18 (Conv2D)              (None, 64, 64, 256)  1179904     concatenate_4[0][0]              \n",
      "__________________________________________________________________________________________________\n",
      "batch_normalization_38 (BatchNo (None, 64, 64, 256)  1024        conv2d_18[0][0]                  \n",
      "__________________________________________________________________________________________________\n",
      "activation_49 (Activation)      (None, 64, 64, 256)  0           batch_normalization_38[0][0]     \n",
      "__________________________________________________________________________________________________\n",
      "conv2d_19 (Conv2D)              (None, 64, 64, 512)  1180160     activation_49[0][0]              \n",
      "__________________________________________________________________________________________________\n",
      "batch_normalization_39 (BatchNo (None, 64, 64, 512)  2048        conv2d_19[0][0]                  \n",
      "__________________________________________________________________________________________________\n",
      "activation_50 (Activation)      (None, 64, 64, 512)  0           batch_normalization_39[0][0]     \n",
      "__________________________________________________________________________________________________\n",
      "conv2d_20 (Conv2D)              (None, 64, 64, 256)  1179904     activation_50[0][0]              \n",
      "__________________________________________________________________________________________________\n",
      "batch_normalization_40 (BatchNo (None, 64, 64, 256)  1024        conv2d_20[0][0]                  \n",
      "__________________________________________________________________________________________________\n",
      "activation_51 (Activation)      (None, 64, 64, 256)  0           batch_normalization_40[0][0]     \n",
      "__________________________________________________________________________________________________\n",
      "conv2d_transpose_4 (Conv2DTrans (None, 128, 128, 128 131200      activation_51[0][0]              \n",
      "__________________________________________________________________________________________________\n",
      "batch_normalization_41 (BatchNo (None, 128, 128, 128 512         conv2d_transpose_4[0][0]         \n",
      "__________________________________________________________________________________________________\n",
      "activation_52 (Activation)      (None, 128, 128, 128 0           batch_normalization_41[0][0]     \n",
      "__________________________________________________________________________________________________\n",
      "concatenate_5 (Concatenate)     (None, 128, 128, 256 0           activation_52[0][0]              \n",
      "                                                                 activation_40[0][0]              \n",
      "__________________________________________________________________________________________________\n",
      "conv2d_21 (Conv2D)              (None, 128, 128, 128 295040      concatenate_5[0][0]              \n",
      "__________________________________________________________________________________________________\n",
      "batch_normalization_42 (BatchNo (None, 128, 128, 128 512         conv2d_21[0][0]                  \n",
      "__________________________________________________________________________________________________\n",
      "activation_53 (Activation)      (None, 128, 128, 128 0           batch_normalization_42[0][0]     \n",
      "__________________________________________________________________________________________________\n",
      "conv2d_22 (Conv2D)              (None, 128, 128, 512 590336      activation_53[0][0]              \n",
      "__________________________________________________________________________________________________\n",
      "batch_normalization_43 (BatchNo (None, 128, 128, 512 2048        conv2d_22[0][0]                  \n",
      "__________________________________________________________________________________________________\n",
      "activation_54 (Activation)      (None, 128, 128, 512 0           batch_normalization_43[0][0]     \n",
      "__________________________________________________________________________________________________\n",
      "conv2d_23 (Conv2D)              (None, 128, 128, 128 589952      activation_54[0][0]              \n",
      "__________________________________________________________________________________________________\n",
      "batch_normalization_44 (BatchNo (None, 128, 128, 128 512         conv2d_23[0][0]                  \n",
      "__________________________________________________________________________________________________\n",
      "activation_55 (Activation)      (None, 128, 128, 128 0           batch_normalization_44[0][0]     \n",
      "__________________________________________________________________________________________________\n",
      "conv2d_transpose_5 (Conv2DTrans (None, 256, 256, 64) 32832       activation_55[0][0]              \n",
      "__________________________________________________________________________________________________\n",
      "batch_normalization_45 (BatchNo (None, 256, 256, 64) 256         conv2d_transpose_5[0][0]         \n",
      "__________________________________________________________________________________________________\n",
      "activation_56 (Activation)      (None, 256, 256, 64) 0           batch_normalization_45[0][0]     \n",
      "__________________________________________________________________________________________________\n",
      "concatenate_6 (Concatenate)     (None, 256, 256, 128 0           activation_56[0][0]              \n",
      "                                                                 activation_38[0][0]              \n",
      "__________________________________________________________________________________________________\n",
      "conv2d_24 (Conv2D)              (None, 256, 256, 64) 73792       concatenate_6[0][0]              \n",
      "__________________________________________________________________________________________________\n",
      "batch_normalization_46 (BatchNo (None, 256, 256, 64) 256         conv2d_24[0][0]                  \n",
      "__________________________________________________________________________________________________\n",
      "activation_57 (Activation)      (None, 256, 256, 64) 0           batch_normalization_46[0][0]     \n",
      "__________________________________________________________________________________________________\n",
      "conv2d_25 (Conv2D)              (None, 256, 256, 64) 36928       activation_57[0][0]              \n",
      "__________________________________________________________________________________________________\n",
      "batch_normalization_47 (BatchNo (None, 256, 256, 64) 256         conv2d_25[0][0]                  \n",
      "__________________________________________________________________________________________________\n",
      "activation_58 (Activation)      (None, 256, 256, 64) 0           batch_normalization_47[0][0]     \n",
      "__________________________________________________________________________________________________\n",
      "conv2d_26 (Conv2D)              (None, 256, 256, 32) 18464       activation_58[0][0]              \n",
      "__________________________________________________________________________________________________\n",
      "batch_normalization_48 (BatchNo (None, 256, 256, 32) 128         conv2d_26[0][0]                  \n",
      "__________________________________________________________________________________________________\n",
      "activation_59 (Activation)      (None, 256, 256, 32) 0           batch_normalization_48[0][0]     \n",
      "__________________________________________________________________________________________________\n",
      "conv2d_27 (Conv2D)              (None, 256, 256, 16) 4624        activation_59[0][0]              \n",
      "__________________________________________________________________________________________________\n",
      "batch_normalization_49 (BatchNo (None, 256, 256, 16) 64          conv2d_27[0][0]                  \n",
      "__________________________________________________________________________________________________\n",
      "activation_60 (Activation)      (None, 256, 256, 16) 0           batch_normalization_49[0][0]     \n",
      "__________________________________________________________________________________________________\n",
      "conv2d_28 (Conv2D)              (None, 256, 256, 8)  1160        activation_60[0][0]              \n",
      "__________________________________________________________________________________________________\n",
      "batch_normalization_50 (BatchNo (None, 256, 256, 8)  32          conv2d_28[0][0]                  \n",
      "__________________________________________________________________________________________________\n",
      "activation_61 (Activation)      (None, 256, 256, 8)  0           batch_normalization_50[0][0]     \n",
      "__________________________________________________________________________________________________\n",
      "conv2d_29 (Conv2D)              (None, 256, 256, 1)  73          activation_61[0][0]              \n",
      "==================================================================================================\n",
      "Total params: 15,856,481\n",
      "Trainable params: 15,845,233\n",
      "Non-trainable params: 11,248\n",
      "__________________________________________________________________________________________________\n",
      "('You must install pydot (`pip install pydot`) and install graphviz (see instructions at https://graphviz.gitlab.io/download/) ', 'for plot_model/model_to_dot to work.')\n"
     ]
    }
   ],
   "source": [
    "modelC = Unet(1, (h1, w1, 3))\n",
    "\n",
    "plot_model(modelC, to_file='modelC.png')"
   ]
  },
  {
   "cell_type": "code",
   "execution_count": 59,
   "id": "f570f302",
   "metadata": {},
   "outputs": [
    {
     "name": "stdout",
     "output_type": "stream",
     "text": [
      "есть ли доступные GPU: \n",
      "[PhysicalDevice(name='/physical_device:GPU:0', device_type='GPU')]\n",
      "тензор на GPU #0:  \n",
      "True\n"
     ]
    }
   ],
   "source": [
    "x = tf.random.uniform([3, 3])\n",
    "\n",
    "print(\"есть ли доступные GPU: \"),\n",
    "print(tf.config.experimental.list_physical_devices(\"GPU\"))\n",
    "\n",
    "print(\"тензор на GPU #0:  \"),\n",
    "print(x.device.endswith('GPU:0'))"
   ]
  },
  {
   "cell_type": "code",
   "execution_count": 60,
   "id": "73f4349b",
   "metadata": {},
   "outputs": [
    {
     "name": "stdout",
     "output_type": "stream",
     "text": [
      "WARNING:tensorflow:Mixed precision compatibility check (mixed_float16): WARNING\n",
      "Your GPU may run slowly with dtype policy mixed_float16 because it does not have compute capability of at least 7.0. Your GPU:\n",
      "  NVIDIA GeForce GTX 1050 Ti, compute capability 6.1\n",
      "See https://developer.nvidia.com/cuda-gpus for a list of GPUs and their compute capabilities.\n",
      "If you will use compatible GPU(s) not attached to this host, e.g. by running a multi-worker model, you can ignore this warning. This message will only be logged once\n"
     ]
    }
   ],
   "source": [
    "from tensorflow.keras import mixed_precision\n",
    "\n",
    "policy = mixed_precision.Policy('mixed_float16')\n",
    "mixed_precision.set_global_policy(policy)"
   ]
  },
  {
   "cell_type": "code",
   "execution_count": 61,
   "id": "9f2e573b",
   "metadata": {},
   "outputs": [],
   "source": [
    "import pickle\n",
    "\n",
    "#with open('xTrain.pickle', 'wb') as handle:\n",
    "#    pickle.dump(xTrain, handle, protocol=pickle.HIGHEST_PROTOCOL)\n",
    "#with open('yTrain.pickle', 'wb') as handle:\n",
    "#    pickle.dump(yTrain, handle, protocol=pickle.HIGHEST_PROTOCOL)\n",
    "#with open('xTest.pickle', 'wb') as handle:\n",
    "#    pickle.dump(xTest, handle, protocol=pickle.HIGHEST_PROTOCOL)\n",
    "#with open('yTest.pickle', 'wb') as handle:\n",
    "#    pickle.dump(yTest, handle, protocol=pickle.HIGHEST_PROTOCOL)"
   ]
  },
  {
   "cell_type": "code",
   "execution_count": 62,
   "id": "529176d4",
   "metadata": {},
   "outputs": [],
   "source": [
    "xTrain = []\n",
    "yTrain = []\n",
    "xTest = []\n",
    "yTest = []\n",
    "with open('xTrain.pickle', 'rb') as handle:\n",
    "    xTrain = pickle.load(handle)\n",
    "with open('yTrain.pickle', 'rb') as handle:\n",
    "    yTrain = pickle.load(handle)\n",
    "with open('xTest.pickle', 'rb') as handle:\n",
    "    xTest = pickle.load(handle)\n",
    "with open('yTest.pickle', 'rb') as handle:\n",
    "    yTest = pickle.load(handle)"
   ]
  },
  {
   "cell_type": "code",
   "execution_count": 93,
   "id": "1df5c544",
   "metadata": {},
   "outputs": [
    {
     "name": "stdout",
     "output_type": "stream",
     "text": [
      "1424/1424 [==============================] - 477s 326ms/step - loss: 0.0000e+00 - accuracy: 0.9717 - val_loss: 0.0000e+00 - val_accuracy: 0.9799\n"
     ]
    }
   ],
   "source": [
    "history = modelC.fit(xTrain, yTrain, epochs=1, batch_size=1, validation_data=(xTrain, yTrain))"
   ]
  },
  {
   "cell_type": "code",
   "execution_count": 94,
   "id": "f572cc56",
   "metadata": {},
   "outputs": [
    {
     "data": {
      "text/plain": [
       "1656"
      ]
     },
     "execution_count": 94,
     "metadata": {},
     "output_type": "execute_result"
    }
   ],
   "source": [
    "import gc\n",
    "\n",
    "gc.collect()"
   ]
  },
  {
   "cell_type": "code",
   "execution_count": 68,
   "id": "cd84508a",
   "metadata": {},
   "outputs": [],
   "source": [
    "modelC.save_weights('.\\modelUnet_best.mdw')"
   ]
  },
  {
   "cell_type": "code",
   "execution_count": 95,
   "id": "90f74e0c",
   "metadata": {},
   "outputs": [
    {
     "name": "stdout",
     "output_type": "stream",
     "text": [
      "(50, 256, 256, 1)\n"
     ]
    }
   ],
   "source": [
    "pred = modelC.predict(xTest[:50])\n",
    "print(pred.shape)"
   ]
  },
  {
   "cell_type": "code",
   "execution_count": 96,
   "id": "ce410f9b",
   "metadata": {},
   "outputs": [
    {
     "data": {
      "text/plain": [
       "34600.0"
      ]
     },
     "execution_count": 96,
     "metadata": {},
     "output_type": "execute_result"
    }
   ],
   "source": [
    "np.sum(pred)"
   ]
  },
  {
   "cell_type": "code",
   "execution_count": 117,
   "id": "e8b69a3a",
   "metadata": {},
   "outputs": [
    {
     "data": {
      "image/png": "[encoded data removed]",
      "text/plain": [
       "<Figure size 432x288 with 1 Axes>"
      ]
     },
     "metadata": {
      "needs_background": "light"
     },
     "output_type": "display_data"
    },
    {
     "data": {
      "image/png": "[encoded data removed]",
      "text/plain": [
       "<Figure size 432x288 with 1 Axes>"
      ]
     },
     "metadata": {
      "needs_background": "light"
     },
     "output_type": "display_data"
    },
    {
     "data": {
      "image/png": "[encoded data removed]",
      "text/plain": [
       "<Figure size 432x288 with 1 Axes>"
      ]
     },
     "metadata": {
      "needs_background": "light"
     },
     "output_type": "display_data"
    },
    {
     "data": {
      "image/png": "[encoded data removed]",
      "text/plain": [
       "<Figure size 432x288 with 1 Axes>"
      ]
     },
     "metadata": {
      "needs_background": "light"
     },
     "output_type": "display_data"
    }
   ],
   "source": [
    "n = 0\n",
    "class_ = 0\n",
    "plt.imshow(images[N+n].convert('RGBA'))\n",
    "plt.title('входной кадр')\n",
    "plt.show()\n",
    "plt.imshow(segments[N+n].convert('RGBA'))\n",
    "plt.title('целевая разметка')\n",
    "plt.show()\n",
    "img = yTest[n][:,:,class_]\n",
    "plt.imshow(img.astype(float))\n",
    "plt.title('целевая разметка класс: '+str(class_))\n",
    "plt.show()\n",
    "img = pred[n][:,:,class_]\n",
    "plt.imshow(img.astype(float))\n",
    "plt.title('предиктивная разметка класс: '+str(class_))\n",
    "plt.show()"
   ]
  },
  {
   "cell_type": "code",
   "execution_count": 118,
   "id": "579a5616",
   "metadata": {},
   "outputs": [
    {
     "data": {
      "image/png": "[encoded data removed]",
      "text/plain": [
       "<Figure size 432x288 with 1 Axes>"
      ]
     },
     "metadata": {
      "needs_background": "light"
     },
     "output_type": "display_data"
    },
    {
     "data": {
      "image/png": "[encoded data removed]",
      "text/plain": [
       "<Figure size 432x288 with 1 Axes>"
      ]
     },
     "metadata": {
      "needs_background": "light"
     },
     "output_type": "display_data"
    },
    {
     "data": {
      "image/png": "[encoded data removed]",
      "text/plain": [
       "<Figure size 432x288 with 1 Axes>"
      ]
     },
     "metadata": {
      "needs_background": "light"
     },
     "output_type": "display_data"
    },
    {
     "data": {
      "image/png": "[encoded data removed]",
      "text/plain": [
       "<Figure size 432x288 with 1 Axes>"
      ]
     },
     "metadata": {
      "needs_background": "light"
     },
     "output_type": "display_data"
    }
   ],
   "source": [
    "n = 1\n",
    "class_ = 0\n",
    "plt.imshow(images[N+n].convert('RGBA'))\n",
    "plt.title('входной кадр')\n",
    "plt.show()\n",
    "plt.imshow(segments[N+n].convert('RGBA'))\n",
    "plt.title('целевая разметка')\n",
    "plt.show()\n",
    "img = yTest[n][:,:,class_]\n",
    "plt.imshow(img.astype(float))\n",
    "plt.title('целевая разметка класс: '+str(class_))\n",
    "plt.show()\n",
    "img = pred[n][:,:,class_]\n",
    "plt.imshow(img.astype(float))\n",
    "plt.title('предиктивная разметка класс: '+str(class_))\n",
    "plt.show()"
   ]
  },
  {
   "cell_type": "code",
   "execution_count": 119,
   "id": "90f95b7c",
   "metadata": {},
   "outputs": [
    {
     "data": {
      "image/png": "[encoded data removed]",
      "text/plain": [
       "<Figure size 432x288 with 1 Axes>"
      ]
     },
     "metadata": {
      "needs_background": "light"
     },
     "output_type": "display_data"
    },
    {
     "data": {
      "image/png": "[encoded data removed]",
      "text/plain": [
       "<Figure size 432x288 with 1 Axes>"
      ]
     },
     "metadata": {
      "needs_background": "light"
     },
     "output_type": "display_data"
    },
    {
     "data": {
      "image/png": "[encoded data removed]",
      "text/plain": [
       "<Figure size 432x288 with 1 Axes>"
      ]
     },
     "metadata": {
      "needs_background": "light"
     },
     "output_type": "display_data"
    },
    {
     "data": {
      "image/png": "[encoded data removed]",
      "text/plain": [
       "<Figure size 432x288 with 1 Axes>"
      ]
     },
     "metadata": {
      "needs_background": "light"
     },
     "output_type": "display_data"
    }
   ],
   "source": [
    "n = 2\n",
    "class_ = 0\n",
    "plt.imshow(images[N+n].convert('RGBA'))\n",
    "plt.title('входной кадр')\n",
    "plt.show()\n",
    "plt.imshow(segments[N+n].convert('RGBA'))\n",
    "plt.title('целевая разметка')\n",
    "plt.show()\n",
    "img = yTest[n][:,:,class_]\n",
    "plt.imshow(img.astype(float))\n",
    "plt.title('целевая разметка класс: '+str(class_))\n",
    "plt.show()\n",
    "img = pred[n][:,:,class_]\n",
    "plt.imshow(img.astype(float))\n",
    "plt.title('предиктивная разметка класс: '+str(class_))\n",
    "plt.show()"
   ]
  },
  {
   "cell_type": "code",
   "execution_count": null,
   "id": "f22b8c19",
   "metadata": {},
   "outputs": [],
   "source": []
  },
  {
   "cell_type": "markdown",
   "id": "fb1f7ae5",
   "metadata": {},
   "source": [
    "Вывод: Unet может решить задачу на медицинскую тематику"
   ]
  },
  {
   "cell_type": "markdown",
   "id": "9cdba2c5",
   "metadata": {},
   "source": [
    "<p>Были произведены слкдующие действия с данными:<p/>\n",
    "<p>1. Загрузка изображений и информации о пациентах<p/>\n",
    "<p>2. Заполнение ненайденных данных -1<p/>\n",
    "<p>3. Добавление данныйх о пациенте к каждой из изображений. <p/>\n",
    "<p>4. Тренировка нейронной сети для фильтрации изображений с 78% точностью.<p/>\n",
    "<p>5. Фильтрация незначемых изображений<p/>\n",
    "<p>6. Тренировка нейронной сети для сегментации изображения для нахождения опухолей.<p/>\n",
    "<p>7. Вывод результатов работы нейронной сети.<p/>"
   ]
  },
  {
   "cell_type": "code",
   "execution_count": null,
   "id": "1ff4c47a",
   "metadata": {},
   "outputs": [],
   "source": []
  }
 ],
 "metadata": {
  "kernelspec": {
   "display_name": "Python 3",
   "language": "python",
   "name": "python3"
  },
  "language_info": {
   "codemirror_mode": {
    "name": "ipython",
    "version": 3
   },
   "file_extension": ".py",
   "mimetype": "text/x-python",
   "name": "python",
   "nbconvert_exporter": "python",
   "pygments_lexer": "ipython3",
   "version": "3.8.8"
  }
 },
 "nbformat": 4,
 "nbformat_minor": 5
}

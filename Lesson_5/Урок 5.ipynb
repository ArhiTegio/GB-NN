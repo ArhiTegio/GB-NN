{
 "cells": [
  {
   "cell_type": "markdown",
   "id": "2b681742",
   "metadata": {},
   "source": [
    "<h2>Урок 5<h2/>"
   ]
  },
  {
   "cell_type": "markdown",
   "id": "70b72696",
   "metadata": {},
   "source": [
    "<p>1. Попробуйте обучить нейронную сеть LSTM на любом другом датасете (любимый временной ряд, текст на русском (другом языке) как генератор или классификатор, или прилагаемый набор airline-passengers - пасажиропоток для авиалиний). Опишите, какой результата вы получили? Что помогло вам улучшить ее точность?<p/>"
   ]
  },
  {
   "cell_type": "code",
   "execution_count": 67,
   "id": "d711e286",
   "metadata": {},
   "outputs": [],
   "source": [
    "from tensorflow.keras.preprocessing.sequence import pad_sequences\n",
    "from tensorflow.keras.layers import concatenate, Embedding, Input, Dense, Dropout, Bidirectional, BatchNormalization, Flatten, Conv1D, Conv2D, LSTM\n",
    "from tensorflow.keras.preprocessing.text import Tokenizer\n",
    "from tensorflow.keras.models import Sequential\n",
    "from tensorflow.keras.optimizers import Adam\n",
    "from tensorflow.keras import regularizers\n",
    "from tensorflow.keras.callbacks import ModelCheckpoint\n",
    "import tensorflow.keras.utils as ku \n",
    "import numpy as np \n",
    "import pandas as pd"
   ]
  },
  {
   "cell_type": "code",
   "execution_count": 68,
   "id": "52a57369",
   "metadata": {},
   "outputs": [],
   "source": [
    "import matplotlib.pyplot as plt\n",
    "import tensorflow.keras as keras"
   ]
  },
  {
   "cell_type": "code",
   "execution_count": 3,
   "id": "1cc4d5e3",
   "metadata": {},
   "outputs": [],
   "source": [
    "from sklearn.model_selection import train_test_split"
   ]
  },
  {
   "cell_type": "code",
   "execution_count": 4,
   "id": "d70271a9",
   "metadata": {},
   "outputs": [],
   "source": [
    "from tensorflow.keras.callbacks import EarlyStopping"
   ]
  },
  {
   "cell_type": "code",
   "execution_count": 5,
   "id": "c85e62c0",
   "metadata": {},
   "outputs": [
    {
     "data": {
      "text/html": [
       "<div>\n",
       "<style scoped>\n",
       "    .dataframe tbody tr th:only-of-type {\n",
       "        vertical-align: middle;\n",
       "    }\n",
       "\n",
       "    .dataframe tbody tr th {\n",
       "        vertical-align: top;\n",
       "    }\n",
       "\n",
       "    .dataframe thead th {\n",
       "        text-align: right;\n",
       "    }\n",
       "</style>\n",
       "<table border=\"1\" class=\"dataframe\">\n",
       "  <thead>\n",
       "    <tr style=\"text-align: right;\">\n",
       "      <th></th>\n",
       "      <th>Month</th>\n",
       "      <th>Passengers</th>\n",
       "    </tr>\n",
       "  </thead>\n",
       "  <tbody>\n",
       "    <tr>\n",
       "      <th>0</th>\n",
       "      <td>1949-01</td>\n",
       "      <td>112</td>\n",
       "    </tr>\n",
       "    <tr>\n",
       "      <th>1</th>\n",
       "      <td>1949-02</td>\n",
       "      <td>118</td>\n",
       "    </tr>\n",
       "    <tr>\n",
       "      <th>2</th>\n",
       "      <td>1949-03</td>\n",
       "      <td>132</td>\n",
       "    </tr>\n",
       "    <tr>\n",
       "      <th>3</th>\n",
       "      <td>1949-04</td>\n",
       "      <td>129</td>\n",
       "    </tr>\n",
       "    <tr>\n",
       "      <th>4</th>\n",
       "      <td>1949-05</td>\n",
       "      <td>121</td>\n",
       "    </tr>\n",
       "    <tr>\n",
       "      <th>...</th>\n",
       "      <td>...</td>\n",
       "      <td>...</td>\n",
       "    </tr>\n",
       "    <tr>\n",
       "      <th>139</th>\n",
       "      <td>1960-08</td>\n",
       "      <td>606</td>\n",
       "    </tr>\n",
       "    <tr>\n",
       "      <th>140</th>\n",
       "      <td>1960-09</td>\n",
       "      <td>508</td>\n",
       "    </tr>\n",
       "    <tr>\n",
       "      <th>141</th>\n",
       "      <td>1960-10</td>\n",
       "      <td>461</td>\n",
       "    </tr>\n",
       "    <tr>\n",
       "      <th>142</th>\n",
       "      <td>1960-11</td>\n",
       "      <td>390</td>\n",
       "    </tr>\n",
       "    <tr>\n",
       "      <th>143</th>\n",
       "      <td>1960-12</td>\n",
       "      <td>432</td>\n",
       "    </tr>\n",
       "  </tbody>\n",
       "</table>\n",
       "<p>144 rows × 2 columns</p>\n",
       "</div>"
      ],
      "text/plain": [
       "       Month  Passengers\n",
       "0    1949-01         112\n",
       "1    1949-02         118\n",
       "2    1949-03         132\n",
       "3    1949-04         129\n",
       "4    1949-05         121\n",
       "..       ...         ...\n",
       "139  1960-08         606\n",
       "140  1960-09         508\n",
       "141  1960-10         461\n",
       "142  1960-11         390\n",
       "143  1960-12         432\n",
       "\n",
       "[144 rows x 2 columns]"
      ]
     },
     "execution_count": 5,
     "metadata": {},
     "output_type": "execute_result"
    }
   ],
   "source": [
    "df = pd.read_csv(\"airline-passengers.csv\")\n",
    "df"
   ]
  },
  {
   "cell_type": "code",
   "execution_count": 6,
   "id": "49bafb85",
   "metadata": {},
   "outputs": [
    {
     "name": "stdout",
     "output_type": "stream",
     "text": [
      "<class 'pandas.core.frame.DataFrame'>\n",
      "RangeIndex: 144 entries, 0 to 143\n",
      "Data columns (total 2 columns):\n",
      " #   Column      Non-Null Count  Dtype \n",
      "---  ------      --------------  ----- \n",
      " 0   Month       144 non-null    object\n",
      " 1   Passengers  144 non-null    int64 \n",
      "dtypes: int64(1), object(1)\n",
      "memory usage: 2.4+ KB\n"
     ]
    }
   ],
   "source": [
    "df.info()"
   ]
  },
  {
   "cell_type": "code",
   "execution_count": 7,
   "id": "c402e3f0",
   "metadata": {},
   "outputs": [],
   "source": [
    "df['Month_str'] = df['Month']"
   ]
  },
  {
   "cell_type": "code",
   "execution_count": 8,
   "id": "78339f62",
   "metadata": {},
   "outputs": [],
   "source": [
    "df['Month'] = df['Month'].str.replace('-','.').astype('float').round(2) - 1949"
   ]
  },
  {
   "cell_type": "code",
   "execution_count": 9,
   "id": "eeec30e5",
   "metadata": {},
   "outputs": [
    {
     "name": "stdout",
     "output_type": "stream",
     "text": [
      "<class 'pandas.core.frame.DataFrame'>\n",
      "RangeIndex: 144 entries, 0 to 143\n",
      "Data columns (total 3 columns):\n",
      " #   Column      Non-Null Count  Dtype  \n",
      "---  ------      --------------  -----  \n",
      " 0   Month       144 non-null    float64\n",
      " 1   Passengers  144 non-null    int64  \n",
      " 2   Month_str   144 non-null    object \n",
      "dtypes: float64(1), int64(1), object(1)\n",
      "memory usage: 3.5+ KB\n"
     ]
    }
   ],
   "source": [
    "df.info()"
   ]
  },
  {
   "cell_type": "code",
   "execution_count": null,
   "id": "8742bc0c",
   "metadata": {},
   "outputs": [],
   "source": []
  },
  {
   "cell_type": "code",
   "execution_count": 10,
   "id": "f4f78d48",
   "metadata": {},
   "outputs": [
    {
     "data": {
      "text/html": [
       "<div>\n",
       "<style scoped>\n",
       "    .dataframe tbody tr th:only-of-type {\n",
       "        vertical-align: middle;\n",
       "    }\n",
       "\n",
       "    .dataframe tbody tr th {\n",
       "        vertical-align: top;\n",
       "    }\n",
       "\n",
       "    .dataframe thead th {\n",
       "        text-align: right;\n",
       "    }\n",
       "</style>\n",
       "<table border=\"1\" class=\"dataframe\">\n",
       "  <thead>\n",
       "    <tr style=\"text-align: right;\">\n",
       "      <th></th>\n",
       "      <th>Month</th>\n",
       "    </tr>\n",
       "  </thead>\n",
       "  <tbody>\n",
       "    <tr>\n",
       "      <th>0</th>\n",
       "      <td>0.01</td>\n",
       "    </tr>\n",
       "    <tr>\n",
       "      <th>1</th>\n",
       "      <td>0.02</td>\n",
       "    </tr>\n",
       "    <tr>\n",
       "      <th>2</th>\n",
       "      <td>0.03</td>\n",
       "    </tr>\n",
       "    <tr>\n",
       "      <th>3</th>\n",
       "      <td>0.04</td>\n",
       "    </tr>\n",
       "    <tr>\n",
       "      <th>4</th>\n",
       "      <td>0.05</td>\n",
       "    </tr>\n",
       "    <tr>\n",
       "      <th>...</th>\n",
       "      <td>...</td>\n",
       "    </tr>\n",
       "    <tr>\n",
       "      <th>139</th>\n",
       "      <td>11.08</td>\n",
       "    </tr>\n",
       "    <tr>\n",
       "      <th>140</th>\n",
       "      <td>11.09</td>\n",
       "    </tr>\n",
       "    <tr>\n",
       "      <th>141</th>\n",
       "      <td>11.10</td>\n",
       "    </tr>\n",
       "    <tr>\n",
       "      <th>142</th>\n",
       "      <td>11.11</td>\n",
       "    </tr>\n",
       "    <tr>\n",
       "      <th>143</th>\n",
       "      <td>11.12</td>\n",
       "    </tr>\n",
       "  </tbody>\n",
       "</table>\n",
       "<p>144 rows × 1 columns</p>\n",
       "</div>"
      ],
      "text/plain": [
       "     Month\n",
       "0     0.01\n",
       "1     0.02\n",
       "2     0.03\n",
       "3     0.04\n",
       "4     0.05\n",
       "..     ...\n",
       "139  11.08\n",
       "140  11.09\n",
       "141  11.10\n",
       "142  11.11\n",
       "143  11.12\n",
       "\n",
       "[144 rows x 1 columns]"
      ]
     },
     "execution_count": 10,
     "metadata": {},
     "output_type": "execute_result"
    }
   ],
   "source": [
    "X = df[[\"Month\"]]\n",
    "X"
   ]
  },
  {
   "cell_type": "code",
   "execution_count": 11,
   "id": "e4c7a9eb",
   "metadata": {},
   "outputs": [
    {
     "data": {
      "text/html": [
       "<div>\n",
       "<style scoped>\n",
       "    .dataframe tbody tr th:only-of-type {\n",
       "        vertical-align: middle;\n",
       "    }\n",
       "\n",
       "    .dataframe tbody tr th {\n",
       "        vertical-align: top;\n",
       "    }\n",
       "\n",
       "    .dataframe thead th {\n",
       "        text-align: right;\n",
       "    }\n",
       "</style>\n",
       "<table border=\"1\" class=\"dataframe\">\n",
       "  <thead>\n",
       "    <tr style=\"text-align: right;\">\n",
       "      <th></th>\n",
       "      <th>Passengers</th>\n",
       "    </tr>\n",
       "  </thead>\n",
       "  <tbody>\n",
       "    <tr>\n",
       "      <th>0</th>\n",
       "      <td>112</td>\n",
       "    </tr>\n",
       "    <tr>\n",
       "      <th>1</th>\n",
       "      <td>118</td>\n",
       "    </tr>\n",
       "    <tr>\n",
       "      <th>2</th>\n",
       "      <td>132</td>\n",
       "    </tr>\n",
       "    <tr>\n",
       "      <th>3</th>\n",
       "      <td>129</td>\n",
       "    </tr>\n",
       "    <tr>\n",
       "      <th>4</th>\n",
       "      <td>121</td>\n",
       "    </tr>\n",
       "    <tr>\n",
       "      <th>...</th>\n",
       "      <td>...</td>\n",
       "    </tr>\n",
       "    <tr>\n",
       "      <th>139</th>\n",
       "      <td>606</td>\n",
       "    </tr>\n",
       "    <tr>\n",
       "      <th>140</th>\n",
       "      <td>508</td>\n",
       "    </tr>\n",
       "    <tr>\n",
       "      <th>141</th>\n",
       "      <td>461</td>\n",
       "    </tr>\n",
       "    <tr>\n",
       "      <th>142</th>\n",
       "      <td>390</td>\n",
       "    </tr>\n",
       "    <tr>\n",
       "      <th>143</th>\n",
       "      <td>432</td>\n",
       "    </tr>\n",
       "  </tbody>\n",
       "</table>\n",
       "<p>144 rows × 1 columns</p>\n",
       "</div>"
      ],
      "text/plain": [
       "     Passengers\n",
       "0           112\n",
       "1           118\n",
       "2           132\n",
       "3           129\n",
       "4           121\n",
       "..          ...\n",
       "139         606\n",
       "140         508\n",
       "141         461\n",
       "142         390\n",
       "143         432\n",
       "\n",
       "[144 rows x 1 columns]"
      ]
     },
     "execution_count": 11,
     "metadata": {},
     "output_type": "execute_result"
    }
   ],
   "source": [
    "y = df[[\"Passengers\"]]\n",
    "y"
   ]
  },
  {
   "cell_type": "code",
   "execution_count": 12,
   "id": "85e53027",
   "metadata": {},
   "outputs": [],
   "source": [
    "X_train, X_test, y_train, y_test = train_test_split(X, y, test_size=0.20, random_state=42)"
   ]
  },
  {
   "cell_type": "code",
   "execution_count": 98,
   "id": "9b8ff0fa",
   "metadata": {},
   "outputs": [],
   "source": [
    "xLen = 3\n",
    "epochs = 100\n",
    "batch_size = 32"
   ]
  },
  {
   "cell_type": "code",
   "execution_count": null,
   "id": "fa5ce100",
   "metadata": {},
   "outputs": [],
   "source": []
  },
  {
   "cell_type": "code",
   "execution_count": 14,
   "id": "cc522765",
   "metadata": {},
   "outputs": [],
   "source": [
    "dataset_train = keras.preprocessing.timeseries_dataset_from_array(\n",
    "    X_train,\n",
    "    y_train,\n",
    "    sequence_length=xLen,\n",
    "    sampling_rate=1,\n",
    "    batch_size=batch_size,\n",
    ")\n",
    "\n",
    "dataset_val = keras.preprocessing.timeseries_dataset_from_array(\n",
    "    X_test,\n",
    "    y_test,\n",
    "    sequence_length=xLen,\n",
    "    sampling_rate=1,\n",
    "    batch_size=batch_size,\n",
    ")"
   ]
  },
  {
   "cell_type": "code",
   "execution_count": 39,
   "id": "e4d9e3af",
   "metadata": {},
   "outputs": [],
   "source": [
    "callbacks = [\n",
    "    EarlyStopping(\n",
    "        monitor='val_loss',\n",
    "        patience=5\n",
    "    ),\n",
    "    ModelCheckpoint(\n",
    "        '../model.h5',\n",
    "        save_best_only=True, \n",
    "        save_weights_only=False,\n",
    "        monitor='val_loss', \n",
    "        mode='min'\n",
    "    ),\n",
    "]"
   ]
  },
  {
   "cell_type": "code",
   "execution_count": 30,
   "id": "cd5958e6",
   "metadata": {},
   "outputs": [
    {
     "data": {
      "text/plain": [
       "<BatchDataset shapes: ((None, None, 1), (None, 1)), types: (tf.float64, tf.int64)>"
      ]
     },
     "execution_count": 30,
     "metadata": {},
     "output_type": "execute_result"
    }
   ],
   "source": [
    "dataset_train"
   ]
  },
  {
   "cell_type": "code",
   "execution_count": 227,
   "id": "0d4121e9",
   "metadata": {},
   "outputs": [
    {
     "name": "stdout",
     "output_type": "stream",
     "text": [
      "Model: \"sequential_30\"\n",
      "_________________________________________________________________\n",
      "Layer (type)                 Output Shape              Param #   \n",
      "=================================================================\n",
      "lstm_55 (LSTM)               (None, 3, 256)            264192    \n",
      "_________________________________________________________________\n",
      "lstm_56 (LSTM)               (None, 3, 256)            525312    \n",
      "_________________________________________________________________\n",
      "lstm_57 (LSTM)               (None, 256)               525312    \n",
      "_________________________________________________________________\n",
      "flatten_12 (Flatten)         (None, 256)               0         \n",
      "_________________________________________________________________\n",
      "dropout_18 (Dropout)         (None, 256)               0         \n",
      "_________________________________________________________________\n",
      "dense_55 (Dense)             (None, 256)               65792     \n",
      "_________________________________________________________________\n",
      "dense_56 (Dense)             (None, 128)               32896     \n",
      "_________________________________________________________________\n",
      "dense_57 (Dense)             (None, 64)                8256      \n",
      "_________________________________________________________________\n",
      "dense_58 (Dense)             (None, 1)                 65        \n",
      "=================================================================\n",
      "Total params: 1,421,825\n",
      "Trainable params: 1,421,825\n",
      "Non-trainable params: 0\n",
      "_________________________________________________________________\n",
      "None\n"
     ]
    }
   ],
   "source": [
    "model = Sequential()\n",
    "model.add(LSTM(256,return_sequences=True,input_shape=(xLen,1)))  # вложение тренируемое для перехода от слова к его векторному коду \n",
    "# на вход вложения (эмбединга) передаем вектор словарь (длина равна словарю, вектор разреженный)), на выход строим вектор из n (тут 10) координат - он плотный\n",
    "#model.add(Bidirectional(LSTM(50, return_sequences = True)))\n",
    "model.add(LSTM(256,return_sequences=True))\n",
    "model.add(LSTM(256))\n",
    "model.add(Flatten())\n",
    "model.add(Dropout(0.2))\n",
    "model.add(Dense(256, activation='relu', kernel_regularizer=regularizers.l2(0.01)))\n",
    "model.add(Dense(128, activation='relu'))\n",
    "model.add(Dense(64, activation='relu'))\n",
    "model.add(Dense(1, activation='relu'))\n",
    "model.compile(loss='mse', optimizer='adam', metrics=['mae'])\n",
    "print(model.summary())\n"
   ]
  },
  {
   "cell_type": "code",
   "execution_count": 228,
   "id": "915e8d7e",
   "metadata": {},
   "outputs": [],
   "source": [
    "from tensorflow.keras.callbacks import EarlyStopping, TensorBoard\n",
    "import os\n",
    "import datetime"
   ]
  },
  {
   "cell_type": "code",
   "execution_count": 229,
   "id": "5b1b0ef6",
   "metadata": {},
   "outputs": [
    {
     "name": "stdout",
     "output_type": "stream",
     "text": [
      "The tensorboard extension is already loaded. To reload it, use:\n",
      "  %reload_ext tensorboard\n"
     ]
    }
   ],
   "source": [
    "%load_ext tensorboard"
   ]
  },
  {
   "cell_type": "code",
   "execution_count": 230,
   "id": "fa46f881",
   "metadata": {},
   "outputs": [],
   "source": [
    "logdir = os.path.join(\"logs2\", datetime.datetime.now().strftime(\"%Y%m%d-%H%M%S\"))\n",
    "tensorboard_callback = TensorBoard( logdir, histogram_freq=1)"
   ]
  },
  {
   "cell_type": "code",
   "execution_count": null,
   "id": "da6eb997",
   "metadata": {},
   "outputs": [],
   "source": []
  },
  {
   "cell_type": "code",
   "execution_count": 231,
   "id": "913b728f",
   "metadata": {},
   "outputs": [
    {
     "name": "stdout",
     "output_type": "stream",
     "text": [
      "Epoch 1/100\n",
      "4/4 [==============================] - 4s 382ms/step - loss: 94889.4844 - mae: 282.2213 - val_loss: 83740.3984 - val_mae: 272.3333\n",
      "Epoch 2/100\n",
      "4/4 [==============================] - 0s 31ms/step - loss: 94889.2266 - mae: 282.2213 - val_loss: 83740.1484 - val_mae: 272.3333\n",
      "Epoch 3/100\n",
      "4/4 [==============================] - 0s 32ms/step - loss: 94888.9766 - mae: 282.2213 - val_loss: 83739.9141 - val_mae: 272.3333\n",
      "Epoch 4/100\n",
      "4/4 [==============================] - 0s 29ms/step - loss: 94888.7578 - mae: 282.2213 - val_loss: 83739.7109 - val_mae: 272.3333\n",
      "Epoch 5/100\n",
      "4/4 [==============================] - 0s 30ms/step - loss: 94888.5547 - mae: 282.2213 - val_loss: 83739.5156 - val_mae: 272.3333\n",
      "Epoch 6/100\n",
      "4/4 [==============================] - 0s 30ms/step - loss: 94888.3750 - mae: 282.2213 - val_loss: 83739.3438 - val_mae: 272.3333\n",
      "Epoch 7/100\n",
      "4/4 [==============================] - 0s 31ms/step - loss: 94888.2031 - mae: 282.2213 - val_loss: 83739.1953 - val_mae: 272.3333\n",
      "Epoch 8/100\n",
      "4/4 [==============================] - 0s 29ms/step - loss: 94888.0625 - mae: 282.2213 - val_loss: 83739.0547 - val_mae: 272.3333\n",
      "Epoch 9/100\n",
      "4/4 [==============================] - 0s 31ms/step - loss: 94887.9297 - mae: 282.2213 - val_loss: 83738.9375 - val_mae: 272.3333\n",
      "Epoch 10/100\n",
      "4/4 [==============================] - 0s 29ms/step - loss: 94887.8047 - mae: 282.2213 - val_loss: 83738.8203 - val_mae: 272.3333\n",
      "Epoch 11/100\n",
      "4/4 [==============================] - 0s 31ms/step - loss: 94887.7109 - mae: 282.2213 - val_loss: 83738.7344 - val_mae: 272.3333\n",
      "Epoch 12/100\n",
      "4/4 [==============================] - 0s 31ms/step - loss: 94887.6094 - mae: 282.2213 - val_loss: 83738.6484 - val_mae: 272.3333\n",
      "Epoch 13/100\n",
      "4/4 [==============================] - 0s 30ms/step - loss: 94887.5312 - mae: 282.2213 - val_loss: 83738.5703 - val_mae: 272.3333\n",
      "Epoch 14/100\n",
      "4/4 [==============================] - 0s 29ms/step - loss: 94887.4609 - mae: 282.2213 - val_loss: 83738.5156 - val_mae: 272.3333\n",
      "Epoch 15/100\n",
      "4/4 [==============================] - 0s 31ms/step - loss: 94887.3984 - mae: 282.2213 - val_loss: 83738.4531 - val_mae: 272.3333\n",
      "Epoch 16/100\n",
      "4/4 [==============================] - 0s 31ms/step - loss: 94887.3438 - mae: 282.2213 - val_loss: 83738.4062 - val_mae: 272.3333\n",
      "Epoch 17/100\n",
      "4/4 [==============================] - 0s 31ms/step - loss: 94886.6797 - mae: 282.2202 - val_loss: 83720.6328 - val_mae: 272.3026\n",
      "Epoch 18/100\n",
      "4/4 [==============================] - 0s 30ms/step - loss: 94771.3906 - mae: 282.0369 - val_loss: 83016.6484 - val_mae: 271.1299\n",
      "Epoch 19/100\n",
      "4/4 [==============================] - 0s 30ms/step - loss: 91942.4531 - mae: 277.5598 - val_loss: 73666.7969 - val_mae: 254.4789\n",
      "Epoch 20/100\n",
      "4/4 [==============================] - 0s 29ms/step - loss: 76526.8672 - mae: 249.6932 - val_loss: 49517.9297 - val_mae: 201.6016\n",
      "Epoch 21/100\n",
      "4/4 [==============================] - 0s 32ms/step - loss: 47876.4688 - mae: 182.7887 - val_loss: 18131.5957 - val_mae: 107.8803\n",
      "Epoch 22/100\n",
      "4/4 [==============================] - 0s 30ms/step - loss: 18168.5547 - mae: 103.6650 - val_loss: 15666.7119 - val_mae: 104.2575\n",
      "Epoch 23/100\n",
      "4/4 [==============================] - 0s 30ms/step - loss: 23957.5820 - mae: 131.8492 - val_loss: 19960.8125 - val_mae: 119.1953\n",
      "Epoch 24/100\n",
      "4/4 [==============================] - 0s 30ms/step - loss: 20185.9355 - mae: 122.8675 - val_loss: 9342.9131 - val_mae: 82.5848\n",
      "Epoch 25/100\n",
      "4/4 [==============================] - 0s 30ms/step - loss: 16042.1406 - mae: 103.4612 - val_loss: 10731.2930 - val_mae: 81.1736\n",
      "Epoch 26/100\n",
      "4/4 [==============================] - 0s 29ms/step - loss: 17818.6680 - mae: 104.9368 - val_loss: 10745.7021 - val_mae: 81.1792\n",
      "Epoch 27/100\n",
      "4/4 [==============================] - 0s 31ms/step - loss: 16224.5977 - mae: 101.7061 - val_loss: 9134.8906 - val_mae: 79.1888\n",
      "Epoch 28/100\n",
      "4/4 [==============================] - 0s 33ms/step - loss: 14243.4580 - mae: 100.1110 - val_loss: 9795.1494 - val_mae: 85.2503\n",
      "Epoch 29/100\n",
      "4/4 [==============================] - 0s 30ms/step - loss: 15625.4316 - mae: 105.7304 - val_loss: 10164.4482 - val_mae: 87.4707\n",
      "Epoch 30/100\n",
      "4/4 [==============================] - 0s 31ms/step - loss: 15668.7549 - mae: 106.6425 - val_loss: 8591.5605 - val_mae: 78.5804\n",
      "Epoch 31/100\n",
      "4/4 [==============================] - 0s 32ms/step - loss: 14970.4277 - mae: 102.6381 - val_loss: 8783.7402 - val_mae: 79.2277\n",
      "Epoch 32/100\n",
      "4/4 [==============================] - 0s 32ms/step - loss: 14575.8184 - mae: 99.4803 - val_loss: 8725.6514 - val_mae: 78.3432\n",
      "Epoch 33/100\n",
      "4/4 [==============================] - 0s 32ms/step - loss: 14166.5654 - mae: 98.6452 - val_loss: 8527.4072 - val_mae: 79.0129\n",
      "Epoch 34/100\n",
      "4/4 [==============================] - 0s 29ms/step - loss: 13805.4297 - mae: 97.8863 - val_loss: 8418.0039 - val_mae: 79.3885\n",
      "Epoch 35/100\n",
      "4/4 [==============================] - 0s 30ms/step - loss: 13117.7168 - mae: 96.9439 - val_loss: 7819.4907 - val_mae: 77.2811\n",
      "Epoch 36/100\n",
      "4/4 [==============================] - 0s 30ms/step - loss: 12047.6426 - mae: 92.2915 - val_loss: 5587.3481 - val_mae: 64.6301\n",
      "Epoch 37/100\n",
      "4/4 [==============================] - 0s 30ms/step - loss: 10249.2168 - mae: 79.7638 - val_loss: 7609.4004 - val_mae: 70.2885\n",
      "Epoch 38/100\n",
      "4/4 [==============================] - 0s 30ms/step - loss: 9326.0498 - mae: 77.7307 - val_loss: 6212.3447 - val_mae: 66.4058\n",
      "Epoch 39/100\n",
      "4/4 [==============================] - 0s 30ms/step - loss: 8377.2266 - mae: 78.0399 - val_loss: 4279.1470 - val_mae: 52.9332\n",
      "Epoch 40/100\n",
      "4/4 [==============================] - 0s 30ms/step - loss: 7221.3125 - mae: 63.9313 - val_loss: 3875.5544 - val_mae: 50.9951\n",
      "Epoch 41/100\n",
      "4/4 [==============================] - 0s 30ms/step - loss: 6453.5752 - mae: 65.9748 - val_loss: 3845.0803 - val_mae: 49.8825\n",
      "Epoch 42/100\n",
      "4/4 [==============================] - 0s 30ms/step - loss: 6082.2041 - mae: 59.5361 - val_loss: 4121.6753 - val_mae: 52.7444\n",
      "Epoch 43/100\n",
      "4/4 [==============================] - 0s 33ms/step - loss: 4661.0415 - mae: 53.9001 - val_loss: 3112.9197 - val_mae: 44.2009\n",
      "Epoch 44/100\n",
      "4/4 [==============================] - 0s 32ms/step - loss: 5221.1450 - mae: 56.5476 - val_loss: 2807.9026 - val_mae: 44.1091\n",
      "Epoch 45/100\n",
      "4/4 [==============================] - 0s 33ms/step - loss: 4625.5347 - mae: 50.9909 - val_loss: 3192.2417 - val_mae: 48.1930\n",
      "Epoch 46/100\n",
      "4/4 [==============================] - 0s 31ms/step - loss: 3996.1130 - mae: 49.8756 - val_loss: 2818.8057 - val_mae: 43.5061\n",
      "Epoch 47/100\n",
      "4/4 [==============================] - 0s 33ms/step - loss: 4044.3020 - mae: 49.0061 - val_loss: 2507.1885 - val_mae: 42.8041\n",
      "Epoch 48/100\n",
      "4/4 [==============================] - 0s 31ms/step - loss: 3850.6382 - mae: 46.4708 - val_loss: 3112.8574 - val_mae: 48.1917\n",
      "Epoch 49/100\n",
      "4/4 [==============================] - 0s 33ms/step - loss: 3586.5691 - mae: 45.8898 - val_loss: 2360.7009 - val_mae: 40.7489\n",
      "Epoch 50/100\n",
      "4/4 [==============================] - 0s 30ms/step - loss: 3415.1565 - mae: 45.2261 - val_loss: 2320.3779 - val_mae: 40.2673\n",
      "Epoch 51/100\n",
      "4/4 [==============================] - 0s 30ms/step - loss: 3662.0681 - mae: 46.4331 - val_loss: 2369.9839 - val_mae: 43.4809\n",
      "Epoch 52/100\n",
      "4/4 [==============================] - 0s 31ms/step - loss: 3268.2021 - mae: 42.5432 - val_loss: 2948.0410 - val_mae: 47.5554\n",
      "Epoch 53/100\n",
      "4/4 [==============================] - 0s 29ms/step - loss: 3107.9753 - mae: 42.0951 - val_loss: 2051.8582 - val_mae: 40.1765\n",
      "Epoch 54/100\n",
      "4/4 [==============================] - 0s 33ms/step - loss: 2655.7590 - mae: 39.0428 - val_loss: 1781.5889 - val_mae: 35.6473\n",
      "Epoch 55/100\n",
      "4/4 [==============================] - 0s 31ms/step - loss: 3321.9109 - mae: 42.3559 - val_loss: 1940.7684 - val_mae: 39.1167\n",
      "Epoch 56/100\n",
      "4/4 [==============================] - 0s 35ms/step - loss: 3058.4514 - mae: 40.4221 - val_loss: 2308.3640 - val_mae: 41.8623\n",
      "Epoch 57/100\n",
      "4/4 [==============================] - 0s 32ms/step - loss: 2491.1201 - mae: 36.6939 - val_loss: 1780.8983 - val_mae: 37.4072\n",
      "Epoch 58/100\n",
      "4/4 [==============================] - 0s 30ms/step - loss: 2614.1748 - mae: 37.8595 - val_loss: 1992.0349 - val_mae: 40.1082\n",
      "Epoch 59/100\n",
      "4/4 [==============================] - 0s 32ms/step - loss: 2736.5757 - mae: 37.3279 - val_loss: 1967.4656 - val_mae: 39.3827\n",
      "Epoch 60/100\n",
      "4/4 [==============================] - 0s 32ms/step - loss: 2364.6887 - mae: 35.8341 - val_loss: 1723.5887 - val_mae: 36.5548\n",
      "Epoch 61/100\n",
      "4/4 [==============================] - 0s 32ms/step - loss: 2392.4734 - mae: 34.2355 - val_loss: 1939.9156 - val_mae: 38.4526\n",
      "Epoch 62/100\n",
      "4/4 [==============================] - 0s 30ms/step - loss: 2608.7808 - mae: 35.9352 - val_loss: 1752.6569 - val_mae: 37.0581\n",
      "Epoch 63/100\n",
      "4/4 [==============================] - 0s 31ms/step - loss: 2497.5085 - mae: 34.9301 - val_loss: 1861.6656 - val_mae: 38.1383\n",
      "Epoch 64/100\n",
      "4/4 [==============================] - 0s 31ms/step - loss: 2601.2854 - mae: 35.8325 - val_loss: 1835.5177 - val_mae: 37.9221\n",
      "Epoch 65/100\n",
      "4/4 [==============================] - 0s 31ms/step - loss: 2282.9570 - mae: 34.3019 - val_loss: 1682.3755 - val_mae: 36.0656\n",
      "Epoch 66/100\n",
      "4/4 [==============================] - 0s 33ms/step - loss: 2671.1819 - mae: 36.7708 - val_loss: 1990.0632 - val_mae: 38.8289\n",
      "Epoch 67/100\n",
      "4/4 [==============================] - 0s 33ms/step - loss: 2845.7612 - mae: 36.9502 - val_loss: 2004.6284 - val_mae: 38.8854\n",
      "Epoch 68/100\n",
      "4/4 [==============================] - 0s 33ms/step - loss: 2385.4429 - mae: 36.4139 - val_loss: 1628.9977 - val_mae: 35.1499\n",
      "Epoch 69/100\n",
      "4/4 [==============================] - 0s 31ms/step - loss: 2462.3835 - mae: 35.2866 - val_loss: 1833.3689 - val_mae: 37.4652\n",
      "Epoch 70/100\n",
      "4/4 [==============================] - 0s 33ms/step - loss: 2503.9668 - mae: 35.2211 - val_loss: 1745.3967 - val_mae: 36.6164\n",
      "Epoch 71/100\n",
      "4/4 [==============================] - 0s 31ms/step - loss: 2396.0784 - mae: 34.5675 - val_loss: 1679.3270 - val_mae: 35.8338\n",
      "Epoch 72/100\n",
      "4/4 [==============================] - 0s 33ms/step - loss: 2409.7412 - mae: 34.0261 - val_loss: 1902.6864 - val_mae: 37.5927\n",
      "Epoch 73/100\n",
      "4/4 [==============================] - 0s 32ms/step - loss: 2312.2610 - mae: 35.1148 - val_loss: 1629.6969 - val_mae: 35.0453\n"
     ]
    },
    {
     "data": {
      "image/png": "[encoded data removed]",
      "text/plain": [
       "<Figure size 432x288 with 1 Axes>"
      ]
     },
     "metadata": {
      "needs_background": "light"
     },
     "output_type": "display_data"
    }
   ],
   "source": [
    "history = model.fit(\n",
    "    dataset_train,\n",
    "    epochs=epochs,\n",
    "    validation_data=dataset_val,\n",
    "    callbacks=[callbacks, tensorboard_callback])\n",
    "\n",
    "hist_val = history.history['val_mae']\n",
    "hist_train = history.history['mae']\n",
    "\n",
    "plt.plot(hist_train[1:], \n",
    "         label='Средняя абсолютная ошибка на обучающем наборе')\n",
    "plt.plot(hist_val[1:], \n",
    "         label='Средняя абсолютная ошибка на проверочном наборе')\n",
    "plt.ylabel('Средняя ошибка')\n",
    "plt.legend()\n",
    "plt.show()"
   ]
  },
  {
   "cell_type": "code",
   "execution_count": 232,
   "id": "8ce3a39c",
   "metadata": {},
   "outputs": [],
   "source": [
    "pred = model.predict(dataset_train).flatten()\n",
    "predVal = model.predict(dataset_val).flatten()"
   ]
  },
  {
   "cell_type": "code",
   "execution_count": 233,
   "id": "e997ba25",
   "metadata": {},
   "outputs": [
    {
     "data": {
      "text/plain": [
       "array([402.98148, 142.94894, 274.38965, 358.54596, 215.10146, 175.50517,\n",
       "       446.8631 , 245.13528, 250.45158, 133.88559, 217.35576, 273.66708,\n",
       "       309.82126, 445.05753, 358.12766, 248.21188, 156.68466, 239.28552,\n",
       "       425.57196, 284.85568, 139.97878, 393.7024 , 390.68268, 397.66614,\n",
       "       220.0058 , 174.07776, 133.76736], dtype=float32)"
      ]
     },
     "execution_count": 233,
     "metadata": {},
     "output_type": "execute_result"
    }
   ],
   "source": [
    "predVal"
   ]
  },
  {
   "cell_type": "code",
   "execution_count": 234,
   "id": "168e8099",
   "metadata": {},
   "outputs": [
    {
     "data": {
      "text/plain": [
       "array([359, 170, 237, 301, 237, 115, 417, 264, 302, 170, 235, 364, 271,\n",
       "       391, 355, 234, 163, 229, 472, 233, 118, 337, 362, 435, 272, 191,\n",
       "       119], dtype=int64)"
      ]
     },
     "execution_count": 234,
     "metadata": {},
     "output_type": "execute_result"
    }
   ],
   "source": [
    "y_test.values.flatten()[:-2]"
   ]
  },
  {
   "cell_type": "code",
   "execution_count": 235,
   "id": "7d5a5ac6",
   "metadata": {},
   "outputs": [
    {
     "data": {
      "image/png": "[encoded data removed]",
      "text/plain": [
       "<Figure size 720x360 with 1 Axes>"
      ]
     },
     "metadata": {
      "needs_background": "light"
     },
     "output_type": "display_data"
    }
   ],
   "source": [
    "start = 600\n",
    "step = 150\n",
    "plt.figure(figsize=(10,5))\n",
    "plt.grid('on')\n",
    "plt.plot(predVal[:], \n",
    "         label='Прогноз')\n",
    "plt.plot(y_test.values.flatten()[:-2], \n",
    "         label='Базовый ряд')\n",
    "plt.xlabel('Время')\n",
    "plt.ylabel('Значение ')\n",
    "\n",
    "plt.legend()\n",
    "plt.show()"
   ]
  },
  {
   "cell_type": "code",
   "execution_count": 236,
   "id": "c69f390e",
   "metadata": {},
   "outputs": [
    {
     "data": {
      "text/plain": [
       "array([0.89085981, 1.18923579, 0.86373521, 0.83950186, 1.10180565,\n",
       "       0.65525134, 0.93317171, 1.07695635, 1.20582188, 1.26974083,\n",
       "       1.08117678, 1.33008323, 0.87469789, 0.87853812, 0.99126665,\n",
       "       0.94274294, 1.04030604, 0.95701569, 1.10909563, 0.81795806,\n",
       "       0.84298495, 0.85597651, 0.92658318, 1.09388243, 1.23633105,\n",
       "       1.09721082, 0.88960413])"
      ]
     },
     "execution_count": 236,
     "metadata": {},
     "output_type": "execute_result"
    }
   ],
   "source": [
    "y_test.values.flatten()[:-2]/ predVal"
   ]
  },
  {
   "cell_type": "code",
   "execution_count": 237,
   "id": "6c50b639",
   "metadata": {},
   "outputs": [],
   "source": [
    "v = y_test.values.flatten()[:-2]/ predVal"
   ]
  },
  {
   "cell_type": "code",
   "execution_count": 238,
   "id": "53008455",
   "metadata": {},
   "outputs": [
    {
     "data": {
      "text/plain": [
       "0.9996864632764345"
      ]
     },
     "execution_count": 238,
     "metadata": {},
     "output_type": "execute_result"
    }
   ],
   "source": [
    "np.mean(v)"
   ]
  },
  {
   "cell_type": "code",
   "execution_count": 239,
   "id": "43bceb84",
   "metadata": {},
   "outputs": [
    {
     "data": {
      "text/plain": [
       "0.9570156925702993"
      ]
     },
     "execution_count": 239,
     "metadata": {},
     "output_type": "execute_result"
    }
   ],
   "source": [
    "np.median(v)"
   ]
  },
  {
   "cell_type": "code",
   "execution_count": 215,
   "id": "973c7790",
   "metadata": {},
   "outputs": [
    {
     "data": {
      "text/plain": [
       "0.6141823824976796"
      ]
     },
     "execution_count": 215,
     "metadata": {},
     "output_type": "execute_result"
    }
   ],
   "source": [
    "np.min(v)"
   ]
  },
  {
   "cell_type": "code",
   "execution_count": 216,
   "id": "bc44a7f6",
   "metadata": {},
   "outputs": [
    {
     "data": {
      "text/plain": [
       "1.348135751816529"
      ]
     },
     "execution_count": 216,
     "metadata": {},
     "output_type": "execute_result"
    }
   ],
   "source": [
    "np.max(v)"
   ]
  },
  {
   "cell_type": "code",
   "execution_count": null,
   "id": "24612ab9",
   "metadata": {},
   "outputs": [],
   "source": []
  },
  {
   "cell_type": "markdown",
   "id": "db234933",
   "metadata": {},
   "source": [
    "<h2>Вывод<h2/>"
   ]
  },
  {
   "cell_type": "markdown",
   "id": "51d3f8b3",
   "metadata": {},
   "source": [
    "Вполне возможно содать нейронню рекуррентную сеть с медианой 0.957 и средним 0.9997 нормального распространения ошибки"
   ]
  },
  {
   "cell_type": "markdown",
   "id": "7139c35e",
   "metadata": {},
   "source": [
    "<p>2. *Попробуйте на numpy реализовать нейронную сеть архитектуры LSTM<p/>"
   ]
  },
  {
   "cell_type": "code",
   "execution_count": 240,
   "id": "0a28324b",
   "metadata": {},
   "outputs": [],
   "source": [
    "import os"
   ]
  },
  {
   "cell_type": "code",
   "execution_count": 241,
   "id": "1cad6386",
   "metadata": {},
   "outputs": [],
   "source": [
    "path = \".\\\\LSTM\"\n",
    "path = os.path.realpath(path)\n",
    "os.startfile(path)"
   ]
  },
  {
   "cell_type": "markdown",
   "id": "850533c7",
   "metadata": {},
   "source": [
    "<p>3. *Предложите свои варианты решения проблемы исчезающего градиента в RNN<p/>"
   ]
  },
  {
   "cell_type": "markdown",
   "id": "b6325135",
   "metadata": {},
   "source": [
    "Можно реализовать IndRNN https://arxiv.org/pdf/1803.04831.pdf"
   ]
  },
  {
   "cell_type": "markdown",
   "id": "cf98763b",
   "metadata": {},
   "source": [
    "<p>Для анаконды необохдимо установить<p/>\n",
    "<p>conda install m2w64-toolchain<p/>\n",
    "<p>conda install libpython<p/>"
   ]
  },
  {
   "cell_type": "code",
   "execution_count": null,
   "id": "f0f506b0",
   "metadata": {},
   "outputs": [],
   "source": [
    "path = \".\\\\IndRNN\"\n",
    "path = os.path.realpath(path)\n",
    "os.startfile(path)"
   ]
  }
 ],
 "metadata": {
  "kernelspec": {
   "display_name": "Python 3",
   "language": "python",
   "name": "python3"
  },
  "language_info": {
   "codemirror_mode": {
    "name": "ipython",
    "version": 3
   },
   "file_extension": ".py",
   "mimetype": "text/x-python",
   "name": "python",
   "nbconvert_exporter": "python",
   "pygments_lexer": "ipython3",
   "version": "3.8.8"
  }
 },
 "nbformat": 4,
 "nbformat_minor": 5
}
